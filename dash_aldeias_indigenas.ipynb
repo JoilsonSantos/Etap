{
  "nbformat": 4,
  "nbformat_minor": 0,
  "metadata": {
    "colab": {
      "name": "dash_aldeias_indigenas.ipynb",
      "provenance": [],
      "collapsed_sections": [],
      "toc_visible": true
    },
    "kernelspec": {
      "display_name": "Python 3",
      "language": "python",
      "name": "python3"
    },
    "language_info": {
      "codemirror_mode": {
        "name": "ipython",
        "version": 3
      },
      "file_extension": ".py",
      "mimetype": "text/x-python",
      "name": "python",
      "nbconvert_exporter": "python",
      "pygments_lexer": "ipython3",
      "version": "3.7.3"
    }
  },
  "cells": [
    {
      "cell_type": "markdown",
      "metadata": {
        "id": "Ibz_wb_3Yne6"
      },
      "source": [
        "Universidade Federal do Rio Grande do Norte\n",
        "\n",
        "Ciência de Dados - 2020.6\n",
        "\n",
        "Alteração do Jupyter NoteBook original de Andressa Stéfany"
      ]
    },
    {
      "cell_type": "markdown",
      "metadata": {
        "id": "9nN2-WfR6NoK"
      },
      "source": [
        "# Dash App com Localização de Aldeias Indígenas Brasileiras"
      ]
    },
    {
      "cell_type": "markdown",
      "metadata": {
        "id": "BywPMF6zlqsQ"
      },
      "source": [
        "Este Jupyter Notebook foi criado para apresentação acadêmica em turma de Ciência de Dados e foi desenvolvido em cima do material passado por Andressa Stéfany. As informações a respeito das tecnologias usadas foram citadas de forma literal mantendo, inclusive, o idioma.\n",
        "\n",
        "O projeto desenvolvido gera um aplicativo Dash mostrando informações a respeito da localização geoespacial de aldeias indígenas brasileiras."
      ]
    },
    {
      "cell_type": "markdown",
      "metadata": {
        "id": "uevs7LV_ZQEh"
      },
      "source": [
        ">Dash is a productive Python framework for building web analytic applications.\n",
        ">\n",
        ">Written on top of Flask, Plotly.js, and React.js, Dash is ideal for building data visualization apps with highly custom user interfaces in pure Python. It's particularly suited for anyone who works with data in Python.\n",
        ">\n",
        "> For more informations [click here](https://dash.plotly.com/introduction)."
      ]
    },
    {
      "cell_type": "markdown",
      "metadata": {
        "id": "X18hbR6t7Joh"
      },
      "source": [
        "## Importação dos Módulos"
      ]
    },
    {
      "cell_type": "code",
      "metadata": {
        "id": "2uYFk05s5mqr"
      },
      "source": [
        "# Instalar Plotly\n",
        "!pip install Plotly==4.12\n",
        "\n",
        "# Instalar Dash\n",
        "!pip install dash\n",
        "!pip install dash-html-components\n",
        "!pip install dash-core-components\n",
        "\n",
        "# Instalar Geopandas\n",
        "!pip install geopandas"
      ],
      "execution_count": null,
      "outputs": []
    },
    {
      "cell_type": "code",
      "metadata": {
        "id": "XdEOZ-nd8SLC"
      },
      "source": [
        "import os.path\n",
        "import sys, json\n",
        "import requests\n",
        "import subprocess\n",
        "import requests\n",
        "\n",
        "import numpy as np\n",
        "import pandas as pd\n",
        "import plotly.express as px\n",
        "import plotly.graph_objects as go\n",
        "import geopandas as gp\n",
        "\n",
        "from requests.exceptions import RequestException\n",
        "from requests.adapters import HTTPAdapter\n",
        "from requests.packages.urllib3.util.retry import Retry\n",
        "\n",
        "from collections import namedtuple"
      ],
      "execution_count": null,
      "outputs": []
    },
    {
      "cell_type": "markdown",
      "metadata": {
        "id": "oxHhzon18SoT"
      },
      "source": [
        "## Configuração do Ngrok"
      ]
    },
    {
      "cell_type": "markdown",
      "metadata": {
        "id": "Tz1EVrqhbnzY"
      },
      "source": [
        "Caso esteja usando o Google Colab ou outro ambiente remoto, será preciso utilizar o Ngrok para acessar a aplicação. Se estiver rodando localmente, pule essa seção e os procedimentos utilizando o Ngrok."
      ]
    },
    {
      "cell_type": "markdown",
      "metadata": {
        "id": "Za38f-8J9Qcn"
      },
      "source": [
        ">[Ngrok](https://ngrok.com/) will be used to create the Dash app URL.\n",
        ">\n",
        ">First, you need to download of Ngrok. The function below downloads and starts the external URL creation process:"
      ]
    },
    {
      "cell_type": "code",
      "metadata": {
        "id": "TF-k9Mtp3ro0"
      },
      "source": [
        "def download_ngrok():\n",
        "    if not os.path.isfile('ngrok'):\n",
        "        !wget https://bin.equinox.io/c/4VmDzA7iaHb/ngrok-stable-linux-amd64.zip\n",
        "        !unzip -o ngrok-stable-linux-amd64.zip\n",
        "    pass"
      ],
      "execution_count": null,
      "outputs": []
    },
    {
      "cell_type": "code",
      "metadata": {
        "id": "Kd6gf7VZ3zwz"
      },
      "source": [
        "Response = namedtuple('Response', ['url', 'error'])\n",
        "\n",
        "def get_tunnel():\n",
        "    try:\n",
        "        Tunnel = subprocess.Popen(['./ngrok','http','8050'])\n",
        "\n",
        "        session = requests.Session()\n",
        "        retry = Retry(connect=3, backoff_factor=0.5)\n",
        "        adapter = HTTPAdapter(max_retries=retry)\n",
        "        session.mount('http://', adapter)\n",
        "\n",
        "        res = session.get('http://localhost:4040/api/tunnels')\n",
        "        res.raise_for_status()\n",
        "\n",
        "        tunnel_str = res.text\n",
        "        tunnel_cfg = json.loads(tunnel_str)\n",
        "        tunnel_url = tunnel_cfg['tunnels'][0]['public_url']\n",
        "\n",
        "        return Response(url=tunnel_url, error=None)\n",
        "    except RequestException as e:\n",
        "        return Response(url=None, error=str(e))"
      ],
      "execution_count": null,
      "outputs": []
    },
    {
      "cell_type": "markdown",
      "metadata": {
        "id": "AVM0hL3UaOuE"
      },
      "source": [
        "## Adquirindo os Dados"
      ]
    },
    {
      "cell_type": "markdown",
      "metadata": {
        "id": "Pb1FhSGkaaZQ"
      },
      "source": [
        "O IBGE disponibilizou dados geográficos de localidades brasileiras de acordo com pesquisa feita em 2010. Dentre os locais, foram classificados como \"ALDEIA INDÍGENA\" os pontos que possuem \"casa ou conjunto de casas ou malocas [...] que serve de habitação para o indígena e aloja diversas famílias\" e com \"no mínimo, 20 habitantes indígenas em uma ou mais moradias\".\n",
        "\n",
        "A publicação oficial do instituto pode ser acessada clicando [aqui](https://agenciadenoticias.ibge.gov.br/agencia-sala-de-imprensa/2013-agencia-de-noticias/releases/14126-asi-ibge-disponibiliza-coordenadas-e-altitudes-para-21304-localidades-brasileiras). Os dados utilizados e as informações de classificação das localidades podem ser acessadas clicando [aqui](ftp://geoftp.ibge.gov.br/organizacao_do_territorio/estrutura_territorial/localidades).\n",
        "\n",
        "Nesse projeto, foi utilizado o formato ShapeFile oferecido pelo instituto. Usaremos o GeoPandas para processar os arquivos que podem ser acessados também na pasta *data* deste repositório."
      ]
    },
    {
      "cell_type": "code",
      "metadata": {
        "id": "-LatRukSbiET"
      },
      "source": [
        "# Caso esteja usando o Colab, faça upload das bases de dados (.prj, .shp, .shx e .dbf) e mova para a pasta data\n",
        "!mkdir data"
      ],
      "execution_count": null,
      "outputs": []
    },
    {
      "cell_type": "code",
      "metadata": {
        "id": "slNL2Xm1tbiT"
      },
      "source": [
        "# Inicialização do GeoDataFrame\n",
        "df = gp.read_file('data/BR_Localidades_2010_v1.shp')"
      ],
      "execution_count": 18,
      "outputs": []
    },
    {
      "cell_type": "markdown",
      "metadata": {
        "id": "UV-YNNsreOFU"
      },
      "source": [
        "Nosso GeoDataFrame possui localidades de várias categorias, nesse estudo usaremos apenas as localizações marcadas como \"ALDEIA INDIGENA\"."
      ]
    },
    {
      "cell_type": "code",
      "metadata": {
        "id": "LaxJTh2CyTp8",
        "colab": {
          "base_uri": "https://localhost:8080/"
        },
        "outputId": "333c63a4-2078-45b6-81af-b9013cdf8fe9"
      },
      "source": [
        "df.NM_CATEGOR.unique()"
      ],
      "execution_count": 19,
      "outputs": [
        {
          "output_type": "execute_result",
          "data": {
            "text/plain": [
              "array(['CIDADE', 'VILA', 'POVOADO', 'ALDEIA INDÍGENA', 'NÚCLEO',\n",
              "       'PROJETO DE ASSENTAMENTO', 'LUGAREJO', 'AUI'], dtype=object)"
            ]
          },
          "metadata": {
            "tags": []
          },
          "execution_count": 19
        }
      ]
    },
    {
      "cell_type": "code",
      "metadata": {
        "id": "eyG62gBFznw-"
      },
      "source": [
        "df = df[df.NM_CATEGOR == 'ALDEIA INDÍGENA'].reset_index()"
      ],
      "execution_count": 20,
      "outputs": []
    },
    {
      "cell_type": "markdown",
      "metadata": {
        "id": "yaO0VJYYeiD_"
      },
      "source": [
        "Será preciso conseguir mais informações a respeito de cada localidade para criar os filtros do Dash App. Usaremos a API do IBGE para conseguir esses daddos."
      ]
    },
    {
      "cell_type": "code",
      "metadata": {
        "id": "ZLRmYWFII73p"
      },
      "source": [
        "response = requests.get('https://servicodados.ibge.gov.br/api/v1/localidades/estados')\n",
        "ufs = {uf['nome'].upper(): {'name': uf['nome'], 'initial': uf['sigla'], 'region': {'name': uf['regiao']['nome'], 'initial': uf['regiao']['sigla']}} for uf in response.json()}"
      ],
      "execution_count": 21,
      "outputs": []
    },
    {
      "cell_type": "markdown",
      "metadata": {
        "id": "Dd7I6WqLfI-r"
      },
      "source": [
        "Agora, é preciso juntar as novas informações com o DataFrame que já possuíamos."
      ]
    },
    {
      "cell_type": "code",
      "metadata": {
        "id": "mW6Zm42-B2o2"
      },
      "source": [
        "df['UF_SIGLA'] = df['NM_UF'].apply(lambda uf: ufs.get(uf)['initial'])\n",
        "df['NM_REGIAO'] = df['NM_UF'].apply(lambda uf: ufs.get(uf)['region']['name'])\n",
        "df['REGIAO_SIGLA'] = df['NM_UF'].apply(lambda uf: ufs.get(uf)['region']['initial'])\n",
        "df['UF'] = df['NM_UF'].apply(lambda uf: ufs.get(uf)['name'])"
      ],
      "execution_count": 22,
      "outputs": []
    },
    {
      "cell_type": "markdown",
      "metadata": {
        "id": "THlDJw3BflqF"
      },
      "source": [
        "Para não precisarmos refazer este processo toda vez que iniciarmos o aplicativo, vamos salvar um arquivo csv com as informações pertinentes. Desta forma, nem mesmo o GeoPandas será necessário para execução do aplicativo."
      ]
    },
    {
      "cell_type": "code",
      "metadata": {
        "id": "iyAah5t3iaGY"
      },
      "source": [
        "df[['ID', 'NM_LOCALID', 'LONG', 'LAT', 'ALT', 'UF_SIGLA', 'NM_REGIAO', 'REGIAO_SIGLA', 'UF']].to_csv('data/aldeias_indigenas.csv')"
      ],
      "execution_count": 24,
      "outputs": []
    },
    {
      "cell_type": "markdown",
      "metadata": {
        "id": "KZGxcs5Xg2Q2"
      },
      "source": [
        "## Prévia dos Gráficos"
      ]
    },
    {
      "cell_type": "markdown",
      "metadata": {
        "id": "IstL7sLXhFT7"
      },
      "source": [
        "Antes de montarmos o aplicativo Dash, primeiro vamos formular e estilizar os gráficos usando o CSV que contruímos."
      ]
    },
    {
      "cell_type": "code",
      "metadata": {
        "id": "IvozjeH5hqto"
      },
      "source": [
        "# Inicialização do DataFrame do pandas\n",
        "df = pd.read_csv('data/aldeias_indigenas.csv')"
      ],
      "execution_count": 26,
      "outputs": []
    },
    {
      "cell_type": "markdown",
      "metadata": {
        "id": "fuPS11QBh7W6"
      },
      "source": [
        "O primeiro gráfico é um mapa com pontos que representam as localizações espaciais das aldeias indígenas. O posicionamento do ponto é definido por longitude e latitude e a cor pela altitude. Utilizaremos o módulo **plotly express** para gerar um gráfico do tipo Scatter MapBox."
      ]
    },
    {
      "cell_type": "code",
      "metadata": {
        "colab": {
          "base_uri": "https://localhost:8080/",
          "height": 542
        },
        "id": "vLKEb3CYhfy7",
        "outputId": "134a5383-34fe-4789-a859-14ba407ac27e"
      },
      "source": [
        "fig_map = px.scatter_mapbox(df, \n",
        "                            lat='LAT', \n",
        "                            lon='LONG', \n",
        "                            color='ALT',\n",
        "                            text='NM_LOCALID',\n",
        "                            hover_data=['UF', 'NM_REGIAO'],\n",
        "                            labels={'NM_LOCALID':'Nome', 'LAT':'Latitude', 'LONG':'Longitude', 'ALT':'Altitude', 'UF':'Estado', 'NM_REGIAO': 'Região'},\n",
        "                            zoom=2.8,\n",
        "                            mapbox_style='carto-positron')\n",
        "\n",
        "fig_map.update_layout(margin={'r':0,'t':0,'l':0,'b':0}, coloraxis_colorbar={'xanchor':'right', 'x':1})"
      ],
      "execution_count": 29,
      "outputs": [
        {
          "output_type": "display_data",
          "data": {
            "text/html": [
              "<html>\n",
              "<head><meta charset=\"utf-8\" /></head>\n",
              "<body>\n",
              "    <div>            <script src=\"https://cdnjs.cloudflare.com/ajax/libs/mathjax/2.7.5/MathJax.js?config=TeX-AMS-MML_SVG\"></script><script type=\"text/javascript\">if (window.MathJax) {MathJax.Hub.Config({SVG: {font: \"STIX-Web\"}});}</script>                <script type=\"text/javascript\">window.PlotlyConfig = {MathJaxConfig: 'local'};</script>\n",
              "        <script src=\"https://cdn.plot.ly/plotly-latest.min.js\"></script>                <div id=\"43b51ed9-352b-46f1-9e14-516e0aa5cde1\" class=\"plotly-graph-div\" style=\"height:525px; width:100%;\"></div>            <script type=\"text/javascript\">                                    window.PLOTLYENV=window.PLOTLYENV || {};                                    if (document.getElementById(\"43b51ed9-352b-46f1-9e14-516e0aa5cde1\")) {                    Plotly.newPlot(                        \"43b51ed9-352b-46f1-9e14-516e0aa5cde1\",                        [{\"customdata\": [[\"Rond\\u00f4nia\", \"Norte\"], [\"Rond\\u00f4nia\", \"Norte\"], [\"Rond\\u00f4nia\", \"Norte\"], [\"Rond\\u00f4nia\", \"Norte\"], [\"Rond\\u00f4nia\", \"Norte\"], [\"Rond\\u00f4nia\", \"Norte\"], [\"Rond\\u00f4nia\", \"Norte\"], [\"Rond\\u00f4nia\", \"Norte\"], [\"Rond\\u00f4nia\", \"Norte\"], [\"Acre\", \"Norte\"], [\"Acre\", \"Norte\"], [\"Acre\", \"Norte\"], [\"Acre\", \"Norte\"], [\"Acre\", \"Norte\"], [\"Amazonas\", \"Norte\"], [\"Amazonas\", \"Norte\"], [\"Amazonas\", \"Norte\"], [\"Amazonas\", \"Norte\"], [\"Amazonas\", \"Norte\"], [\"Amazonas\", \"Norte\"], [\"Amazonas\", \"Norte\"], [\"Amazonas\", \"Norte\"], [\"Amazonas\", \"Norte\"], [\"Amazonas\", \"Norte\"], [\"Amazonas\", \"Norte\"], [\"Amazonas\", \"Norte\"], [\"Amazonas\", \"Norte\"], [\"Amazonas\", \"Norte\"], [\"Amazonas\", \"Norte\"], [\"Amazonas\", \"Norte\"], [\"Amazonas\", \"Norte\"], [\"Amazonas\", \"Norte\"], [\"Amazonas\", \"Norte\"], [\"Amazonas\", \"Norte\"], [\"Amazonas\", \"Norte\"], [\"Amazonas\", \"Norte\"], [\"Amazonas\", \"Norte\"], [\"Amazonas\", \"Norte\"], [\"Amazonas\", \"Norte\"], [\"Amazonas\", \"Norte\"], [\"Amazonas\", \"Norte\"], [\"Amazonas\", \"Norte\"], [\"Amazonas\", \"Norte\"], [\"Amazonas\", \"Norte\"], [\"Amazonas\", \"Norte\"], [\"Amazonas\", \"Norte\"], [\"Amazonas\", \"Norte\"], [\"Amazonas\", \"Norte\"], [\"Amazonas\", \"Norte\"], [\"Amazonas\", \"Norte\"], [\"Amazonas\", \"Norte\"], [\"Amazonas\", \"Norte\"], [\"Amazonas\", \"Norte\"], [\"Amazonas\", \"Norte\"], [\"Amazonas\", \"Norte\"], [\"Amazonas\", \"Norte\"], [\"Amazonas\", \"Norte\"], [\"Amazonas\", \"Norte\"], [\"Amazonas\", \"Norte\"], [\"Amazonas\", \"Norte\"], [\"Amazonas\", \"Norte\"], [\"Amazonas\", \"Norte\"], [\"Amazonas\", \"Norte\"], [\"Amazonas\", \"Norte\"], [\"Amazonas\", \"Norte\"], [\"Amazonas\", \"Norte\"], [\"Amazonas\", \"Norte\"], [\"Amazonas\", \"Norte\"], [\"Amazonas\", \"Norte\"], [\"Amazonas\", \"Norte\"], [\"Amazonas\", \"Norte\"], [\"Amazonas\", \"Norte\"], [\"Amazonas\", \"Norte\"], [\"Amazonas\", \"Norte\"], [\"Amazonas\", \"Norte\"], [\"Amazonas\", \"Norte\"], [\"Amazonas\", \"Norte\"], [\"Amazonas\", \"Norte\"], [\"Amazonas\", \"Norte\"], [\"Amazonas\", \"Norte\"], [\"Amazonas\", \"Norte\"], [\"Amazonas\", \"Norte\"], [\"Amazonas\", \"Norte\"], [\"Amazonas\", \"Norte\"], [\"Amazonas\", \"Norte\"], [\"Amazonas\", \"Norte\"], [\"Amazonas\", \"Norte\"], [\"Amazonas\", \"Norte\"], [\"Amazonas\", \"Norte\"], [\"Amazonas\", \"Norte\"], [\"Amazonas\", \"Norte\"], [\"Amazonas\", \"Norte\"], [\"Amazonas\", \"Norte\"], [\"Amazonas\", \"Norte\"], [\"Amazonas\", \"Norte\"], [\"Amazonas\", \"Norte\"], [\"Amazonas\", \"Norte\"], [\"Amazonas\", \"Norte\"], [\"Amazonas\", \"Norte\"], [\"Amazonas\", \"Norte\"], [\"Amazonas\", \"Norte\"], [\"Amazonas\", \"Norte\"], [\"Amazonas\", \"Norte\"], [\"Amazonas\", \"Norte\"], [\"Amazonas\", \"Norte\"], [\"Amazonas\", \"Norte\"], [\"Amazonas\", \"Norte\"], [\"Amazonas\", \"Norte\"], [\"Amazonas\", \"Norte\"], [\"Amazonas\", \"Norte\"], [\"Amazonas\", \"Norte\"], [\"Amazonas\", \"Norte\"], [\"Amazonas\", \"Norte\"], [\"Amazonas\", \"Norte\"], [\"Amazonas\", \"Norte\"], [\"Amazonas\", \"Norte\"], [\"Amazonas\", \"Norte\"], [\"Amazonas\", \"Norte\"], [\"Amazonas\", \"Norte\"], [\"Amazonas\", \"Norte\"], [\"Amazonas\", \"Norte\"], [\"Amazonas\", \"Norte\"], [\"Amazonas\", \"Norte\"], [\"Amazonas\", \"Norte\"], [\"Amazonas\", \"Norte\"], [\"Amazonas\", \"Norte\"], [\"Amazonas\", \"Norte\"], [\"Amazonas\", \"Norte\"], [\"Amazonas\", \"Norte\"], [\"Amazonas\", \"Norte\"], [\"Amazonas\", \"Norte\"], [\"Amazonas\", \"Norte\"], [\"Amazonas\", \"Norte\"], [\"Amazonas\", \"Norte\"], [\"Amazonas\", \"Norte\"], [\"Amazonas\", \"Norte\"], [\"Amazonas\", \"Norte\"], [\"Amazonas\", \"Norte\"], [\"Amazonas\", \"Norte\"], [\"Amazonas\", \"Norte\"], [\"Amazonas\", \"Norte\"], [\"Amazonas\", \"Norte\"], [\"Amazonas\", \"Norte\"], [\"Amazonas\", \"Norte\"], [\"Amazonas\", \"Norte\"], [\"Amazonas\", \"Norte\"], [\"Amazonas\", \"Norte\"], [\"Amazonas\", \"Norte\"], [\"Amazonas\", \"Norte\"], [\"Amazonas\", \"Norte\"], [\"Amazonas\", \"Norte\"], [\"Amazonas\", \"Norte\"], [\"Amazonas\", \"Norte\"], [\"Amazonas\", \"Norte\"], [\"Amazonas\", \"Norte\"], [\"Amazonas\", \"Norte\"], [\"Amazonas\", \"Norte\"], [\"Amazonas\", \"Norte\"], [\"Amazonas\", \"Norte\"], [\"Amazonas\", \"Norte\"], [\"Amazonas\", \"Norte\"], [\"Amazonas\", \"Norte\"], [\"Amazonas\", \"Norte\"], [\"Amazonas\", \"Norte\"], [\"Amazonas\", \"Norte\"], [\"Amazonas\", \"Norte\"], [\"Amazonas\", \"Norte\"], [\"Amazonas\", \"Norte\"], [\"Amazonas\", \"Norte\"], [\"Amazonas\", \"Norte\"], [\"Amazonas\", \"Norte\"], [\"Amazonas\", \"Norte\"], [\"Amazonas\", \"Norte\"], [\"Amazonas\", \"Norte\"], [\"Amazonas\", \"Norte\"], [\"Amazonas\", \"Norte\"], [\"Amazonas\", \"Norte\"], [\"Amazonas\", \"Norte\"], [\"Amazonas\", \"Norte\"], [\"Amazonas\", \"Norte\"], [\"Amazonas\", \"Norte\"], [\"Amazonas\", \"Norte\"], [\"Amazonas\", \"Norte\"], [\"Amazonas\", \"Norte\"], [\"Amazonas\", \"Norte\"], [\"Amazonas\", \"Norte\"], [\"Amazonas\", \"Norte\"], [\"Amazonas\", \"Norte\"], [\"Amazonas\", \"Norte\"], [\"Amazonas\", \"Norte\"], [\"Amazonas\", \"Norte\"], [\"Amazonas\", \"Norte\"], [\"Amazonas\", \"Norte\"], [\"Amazonas\", \"Norte\"], [\"Amazonas\", \"Norte\"], [\"Amazonas\", \"Norte\"], [\"Amazonas\", \"Norte\"], [\"Amazonas\", \"Norte\"], [\"Amazonas\", \"Norte\"], [\"Amazonas\", \"Norte\"], [\"Amazonas\", \"Norte\"], [\"Amazonas\", \"Norte\"], [\"Amazonas\", \"Norte\"], [\"Amazonas\", \"Norte\"], [\"Amazonas\", \"Norte\"], [\"Amazonas\", \"Norte\"], [\"Amazonas\", \"Norte\"], [\"Amazonas\", \"Norte\"], [\"Amazonas\", \"Norte\"], [\"Amazonas\", \"Norte\"], [\"Amazonas\", \"Norte\"], [\"Amazonas\", \"Norte\"], [\"Amazonas\", \"Norte\"], [\"Amazonas\", \"Norte\"], [\"Amazonas\", \"Norte\"], [\"Amazonas\", \"Norte\"], [\"Amazonas\", \"Norte\"], [\"Amazonas\", \"Norte\"], [\"Amazonas\", \"Norte\"], [\"Amazonas\", \"Norte\"], [\"Amazonas\", \"Norte\"], [\"Amazonas\", \"Norte\"], [\"Amazonas\", \"Norte\"], [\"Amazonas\", \"Norte\"], [\"Amazonas\", \"Norte\"], [\"Amazonas\", \"Norte\"], [\"Amazonas\", \"Norte\"], [\"Amazonas\", \"Norte\"], [\"Amazonas\", \"Norte\"], [\"Amazonas\", \"Norte\"], [\"Amazonas\", \"Norte\"], [\"Amazonas\", \"Norte\"], [\"Amazonas\", \"Norte\"], [\"Amazonas\", \"Norte\"], [\"Amazonas\", \"Norte\"], [\"Amazonas\", \"Norte\"], [\"Amazonas\", \"Norte\"], [\"Amazonas\", \"Norte\"], [\"Amazonas\", \"Norte\"], [\"Amazonas\", \"Norte\"], [\"Amazonas\", \"Norte\"], [\"Amazonas\", \"Norte\"], [\"Amazonas\", \"Norte\"], [\"Amazonas\", \"Norte\"], [\"Amazonas\", \"Norte\"], [\"Amazonas\", \"Norte\"], [\"Amazonas\", \"Norte\"], [\"Amazonas\", \"Norte\"], [\"Amazonas\", \"Norte\"], [\"Amazonas\", \"Norte\"], [\"Amazonas\", \"Norte\"], [\"Amazonas\", \"Norte\"], [\"Amazonas\", \"Norte\"], [\"Amazonas\", \"Norte\"], [\"Amazonas\", \"Norte\"], [\"Amazonas\", \"Norte\"], [\"Amazonas\", \"Norte\"], [\"Amazonas\", \"Norte\"], [\"Amazonas\", \"Norte\"], [\"Amazonas\", \"Norte\"], [\"Amazonas\", \"Norte\"], [\"Amazonas\", \"Norte\"], [\"Amazonas\", \"Norte\"], [\"Amazonas\", \"Norte\"], [\"Amazonas\", \"Norte\"], [\"Amazonas\", \"Norte\"], [\"Amazonas\", \"Norte\"], [\"Amazonas\", \"Norte\"], [\"Amazonas\", \"Norte\"], [\"Amazonas\", \"Norte\"], [\"Amazonas\", \"Norte\"], [\"Amazonas\", \"Norte\"], [\"Amazonas\", \"Norte\"], [\"Amazonas\", \"Norte\"], [\"Amazonas\", \"Norte\"], [\"Amazonas\", \"Norte\"], [\"Amazonas\", \"Norte\"], [\"Amazonas\", \"Norte\"], [\"Amazonas\", \"Norte\"], [\"Amazonas\", \"Norte\"], [\"Amazonas\", \"Norte\"], [\"Amazonas\", \"Norte\"], [\"Amazonas\", \"Norte\"], [\"Amazonas\", \"Norte\"], [\"Amazonas\", \"Norte\"], [\"Amazonas\", \"Norte\"], [\"Amazonas\", \"Norte\"], [\"Amazonas\", \"Norte\"], [\"Amazonas\", \"Norte\"], [\"Amazonas\", \"Norte\"], [\"Amazonas\", \"Norte\"], [\"Amazonas\", \"Norte\"], [\"Amazonas\", \"Norte\"], [\"Amazonas\", \"Norte\"], [\"Amazonas\", \"Norte\"], [\"Amazonas\", \"Norte\"], [\"Amazonas\", \"Norte\"], [\"Amazonas\", \"Norte\"], [\"Amazonas\", \"Norte\"], [\"Amazonas\", \"Norte\"], [\"Amazonas\", \"Norte\"], [\"Amazonas\", \"Norte\"], [\"Amazonas\", \"Norte\"], [\"Amazonas\", \"Norte\"], [\"Amazonas\", \"Norte\"], [\"Amazonas\", \"Norte\"], [\"Amazonas\", \"Norte\"], [\"Amazonas\", \"Norte\"], [\"Amazonas\", \"Norte\"], [\"Amazonas\", \"Norte\"], [\"Amazonas\", \"Norte\"], [\"Amazonas\", \"Norte\"], [\"Amazonas\", \"Norte\"], [\"Amazonas\", \"Norte\"], [\"Amazonas\", \"Norte\"], [\"Amazonas\", \"Norte\"], [\"Amazonas\", \"Norte\"], [\"Amazonas\", \"Norte\"], [\"Amazonas\", \"Norte\"], [\"Amazonas\", \"Norte\"], [\"Amazonas\", \"Norte\"], [\"Amazonas\", \"Norte\"], [\"Amazonas\", \"Norte\"], [\"Amazonas\", \"Norte\"], [\"Amazonas\", \"Norte\"], [\"Amazonas\", \"Norte\"], [\"Amazonas\", \"Norte\"], [\"Amazonas\", \"Norte\"], [\"Amazonas\", \"Norte\"], [\"Amazonas\", \"Norte\"], [\"Amazonas\", \"Norte\"], [\"Amazonas\", \"Norte\"], [\"Amazonas\", \"Norte\"], [\"Amazonas\", \"Norte\"], [\"Amazonas\", \"Norte\"], [\"Amazonas\", \"Norte\"], [\"Amazonas\", \"Norte\"], [\"Amazonas\", \"Norte\"], [\"Amazonas\", \"Norte\"], [\"Amazonas\", \"Norte\"], [\"Amazonas\", \"Norte\"], [\"Amazonas\", \"Norte\"], [\"Amazonas\", \"Norte\"], [\"Amazonas\", \"Norte\"], [\"Amazonas\", \"Norte\"], [\"Amazonas\", \"Norte\"], [\"Amazonas\", \"Norte\"], [\"Amazonas\", \"Norte\"], [\"Amazonas\", \"Norte\"], [\"Amazonas\", \"Norte\"], [\"Amazonas\", \"Norte\"], [\"Amazonas\", \"Norte\"], [\"Amazonas\", \"Norte\"], [\"Amazonas\", \"Norte\"], [\"Amazonas\", \"Norte\"], [\"Amazonas\", \"Norte\"], [\"Amazonas\", \"Norte\"], [\"Amazonas\", \"Norte\"], [\"Amazonas\", \"Norte\"], [\"Amazonas\", \"Norte\"], [\"Amazonas\", \"Norte\"], [\"Amazonas\", \"Norte\"], [\"Amazonas\", \"Norte\"], [\"Amazonas\", \"Norte\"], [\"Amazonas\", \"Norte\"], [\"Amazonas\", \"Norte\"], [\"Amazonas\", \"Norte\"], [\"Amazonas\", \"Norte\"], [\"Amazonas\", \"Norte\"], [\"Amazonas\", \"Norte\"], [\"Amazonas\", \"Norte\"], [\"Amazonas\", \"Norte\"], [\"Amazonas\", \"Norte\"], [\"Amazonas\", \"Norte\"], [\"Amazonas\", \"Norte\"], [\"Amazonas\", \"Norte\"], [\"Amazonas\", \"Norte\"], [\"Amazonas\", \"Norte\"], [\"Amazonas\", \"Norte\"], [\"Amazonas\", \"Norte\"], [\"Amazonas\", \"Norte\"], [\"Amazonas\", \"Norte\"], [\"Amazonas\", \"Norte\"], [\"Amazonas\", \"Norte\"], [\"Amazonas\", \"Norte\"], [\"Amazonas\", \"Norte\"], [\"Amazonas\", \"Norte\"], [\"Amazonas\", \"Norte\"], [\"Amazonas\", \"Norte\"], [\"Amazonas\", \"Norte\"], [\"Amazonas\", \"Norte\"], [\"Amazonas\", \"Norte\"], [\"Amazonas\", \"Norte\"], [\"Amazonas\", \"Norte\"], [\"Amazonas\", \"Norte\"], [\"Amazonas\", \"Norte\"], [\"Amazonas\", \"Norte\"], [\"Amazonas\", \"Norte\"], [\"Amazonas\", \"Norte\"], [\"Amazonas\", \"Norte\"], [\"Amazonas\", \"Norte\"], [\"Amazonas\", \"Norte\"], [\"Amazonas\", \"Norte\"], [\"Amazonas\", \"Norte\"], [\"Amazonas\", \"Norte\"], [\"Amazonas\", \"Norte\"], [\"Amazonas\", \"Norte\"], [\"Amazonas\", \"Norte\"], [\"Amazonas\", \"Norte\"], [\"Amazonas\", \"Norte\"], [\"Amazonas\", \"Norte\"], [\"Amazonas\", \"Norte\"], [\"Amazonas\", \"Norte\"], [\"Amazonas\", \"Norte\"], [\"Amazonas\", \"Norte\"], [\"Amazonas\", \"Norte\"], [\"Amazonas\", \"Norte\"], [\"Amazonas\", \"Norte\"], [\"Amazonas\", \"Norte\"], [\"Amazonas\", \"Norte\"], [\"Amazonas\", \"Norte\"], [\"Amazonas\", \"Norte\"], [\"Amazonas\", \"Norte\"], [\"Amazonas\", \"Norte\"], [\"Amazonas\", \"Norte\"], [\"Amazonas\", \"Norte\"], [\"Amazonas\", \"Norte\"], [\"Amazonas\", \"Norte\"], [\"Amazonas\", \"Norte\"], [\"Amazonas\", \"Norte\"], [\"Amazonas\", \"Norte\"], [\"Amazonas\", \"Norte\"], [\"Amazonas\", \"Norte\"], [\"Amazonas\", \"Norte\"], [\"Amazonas\", \"Norte\"], [\"Amazonas\", \"Norte\"], [\"Amazonas\", \"Norte\"], [\"Amazonas\", \"Norte\"], [\"Amazonas\", \"Norte\"], [\"Amazonas\", \"Norte\"], [\"Amazonas\", \"Norte\"], [\"Amazonas\", \"Norte\"], [\"Amazonas\", \"Norte\"], [\"Amazonas\", \"Norte\"], [\"Amazonas\", \"Norte\"], [\"Amazonas\", \"Norte\"], [\"Amazonas\", \"Norte\"], [\"Amazonas\", \"Norte\"], [\"Amazonas\", \"Norte\"], [\"Amazonas\", \"Norte\"], [\"Amazonas\", \"Norte\"], [\"Amazonas\", \"Norte\"], [\"Amazonas\", \"Norte\"], [\"Amazonas\", \"Norte\"], [\"Amazonas\", \"Norte\"], [\"Amazonas\", \"Norte\"], [\"Amazonas\", \"Norte\"], [\"Amazonas\", \"Norte\"], [\"Amazonas\", \"Norte\"], [\"Amazonas\", \"Norte\"], [\"Amazonas\", \"Norte\"], [\"Amazonas\", \"Norte\"], [\"Amazonas\", \"Norte\"], [\"Amazonas\", \"Norte\"], [\"Amazonas\", \"Norte\"], [\"Amazonas\", \"Norte\"], [\"Amazonas\", \"Norte\"], [\"Amazonas\", \"Norte\"], [\"Amazonas\", \"Norte\"], [\"Amazonas\", \"Norte\"], [\"Amazonas\", \"Norte\"], [\"Amazonas\", \"Norte\"], [\"Amazonas\", \"Norte\"], [\"Amazonas\", \"Norte\"], [\"Amazonas\", \"Norte\"], [\"Amazonas\", \"Norte\"], [\"Amazonas\", \"Norte\"], [\"Amazonas\", \"Norte\"], [\"Amazonas\", \"Norte\"], [\"Amazonas\", \"Norte\"], [\"Amazonas\", \"Norte\"], [\"Amazonas\", \"Norte\"], [\"Amazonas\", \"Norte\"], [\"Amazonas\", \"Norte\"], [\"Amazonas\", \"Norte\"], [\"Amazonas\", \"Norte\"], [\"Amazonas\", \"Norte\"], [\"Amazonas\", \"Norte\"], [\"Amazonas\", \"Norte\"], [\"Amazonas\", \"Norte\"], [\"Amazonas\", \"Norte\"], [\"Amazonas\", \"Norte\"], [\"Amazonas\", \"Norte\"], [\"Amazonas\", \"Norte\"], [\"Amazonas\", \"Norte\"], [\"Amazonas\", \"Norte\"], [\"Amazonas\", \"Norte\"], [\"Amazonas\", \"Norte\"], [\"Amazonas\", \"Norte\"], [\"Amazonas\", \"Norte\"], [\"Amazonas\", \"Norte\"], [\"Amazonas\", \"Norte\"], [\"Amazonas\", \"Norte\"], [\"Amazonas\", \"Norte\"], [\"Amazonas\", \"Norte\"], [\"Amazonas\", \"Norte\"], [\"Amazonas\", \"Norte\"], [\"Amazonas\", \"Norte\"], [\"Amazonas\", \"Norte\"], [\"Amazonas\", \"Norte\"], [\"Roraima\", \"Norte\"], [\"Roraima\", \"Norte\"], [\"Roraima\", \"Norte\"], [\"Roraima\", \"Norte\"], [\"Roraima\", \"Norte\"], [\"Roraima\", \"Norte\"], [\"Roraima\", \"Norte\"], [\"Roraima\", \"Norte\"], [\"Roraima\", \"Norte\"], [\"Roraima\", \"Norte\"], [\"Roraima\", \"Norte\"], [\"Roraima\", \"Norte\"], [\"Roraima\", \"Norte\"], [\"Roraima\", \"Norte\"], [\"Roraima\", \"Norte\"], [\"Roraima\", \"Norte\"], [\"Roraima\", \"Norte\"], [\"Roraima\", \"Norte\"], [\"Roraima\", \"Norte\"], [\"Roraima\", \"Norte\"], [\"Roraima\", \"Norte\"], [\"Roraima\", \"Norte\"], [\"Roraima\", \"Norte\"], [\"Roraima\", \"Norte\"], [\"Roraima\", \"Norte\"], [\"Roraima\", \"Norte\"], [\"Roraima\", \"Norte\"], [\"Roraima\", \"Norte\"], [\"Roraima\", \"Norte\"], [\"Roraima\", \"Norte\"], [\"Roraima\", \"Norte\"], [\"Roraima\", \"Norte\"], [\"Roraima\", \"Norte\"], [\"Roraima\", \"Norte\"], [\"Roraima\", \"Norte\"], [\"Roraima\", \"Norte\"], [\"Roraima\", \"Norte\"], [\"Roraima\", \"Norte\"], [\"Roraima\", \"Norte\"], [\"Roraima\", \"Norte\"], [\"Roraima\", \"Norte\"], [\"Roraima\", \"Norte\"], [\"Roraima\", \"Norte\"], [\"Roraima\", \"Norte\"], [\"Roraima\", \"Norte\"], [\"Roraima\", \"Norte\"], [\"Roraima\", \"Norte\"], [\"Roraima\", \"Norte\"], [\"Roraima\", \"Norte\"], [\"Roraima\", \"Norte\"], [\"Roraima\", \"Norte\"], [\"Roraima\", \"Norte\"], [\"Roraima\", \"Norte\"], [\"Roraima\", \"Norte\"], [\"Roraima\", \"Norte\"], [\"Roraima\", \"Norte\"], [\"Roraima\", \"Norte\"], [\"Roraima\", \"Norte\"], [\"Roraima\", \"Norte\"], [\"Roraima\", \"Norte\"], [\"Roraima\", \"Norte\"], [\"Roraima\", \"Norte\"], [\"Roraima\", \"Norte\"], [\"Roraima\", \"Norte\"], [\"Roraima\", \"Norte\"], [\"Roraima\", \"Norte\"], [\"Roraima\", \"Norte\"], [\"Roraima\", \"Norte\"], [\"Roraima\", \"Norte\"], [\"Roraima\", \"Norte\"], [\"Roraima\", \"Norte\"], [\"Roraima\", \"Norte\"], [\"Roraima\", \"Norte\"], [\"Roraima\", \"Norte\"], [\"Roraima\", \"Norte\"], [\"Roraima\", \"Norte\"], [\"Roraima\", \"Norte\"], [\"Roraima\", \"Norte\"], [\"Roraima\", \"Norte\"], [\"Roraima\", \"Norte\"], [\"Roraima\", \"Norte\"], [\"Roraima\", \"Norte\"], [\"Roraima\", \"Norte\"], [\"Roraima\", \"Norte\"], [\"Roraima\", \"Norte\"], [\"Roraima\", \"Norte\"], [\"Roraima\", \"Norte\"], [\"Roraima\", \"Norte\"], [\"Roraima\", \"Norte\"], [\"Roraima\", \"Norte\"], [\"Roraima\", \"Norte\"], [\"Roraima\", \"Norte\"], [\"Roraima\", \"Norte\"], [\"Roraima\", \"Norte\"], [\"Roraima\", \"Norte\"], [\"Roraima\", \"Norte\"], [\"Roraima\", \"Norte\"], [\"Roraima\", \"Norte\"], [\"Roraima\", \"Norte\"], [\"Roraima\", \"Norte\"], [\"Roraima\", \"Norte\"], [\"Roraima\", \"Norte\"], [\"Roraima\", \"Norte\"], [\"Roraima\", \"Norte\"], [\"Roraima\", \"Norte\"], [\"Roraima\", \"Norte\"], [\"Roraima\", \"Norte\"], [\"Roraima\", \"Norte\"], [\"Roraima\", \"Norte\"], [\"Roraima\", \"Norte\"], [\"Par\\u00e1\", \"Norte\"], [\"Par\\u00e1\", \"Norte\"], [\"Par\\u00e1\", \"Norte\"], [\"Par\\u00e1\", \"Norte\"], [\"Par\\u00e1\", \"Norte\"], [\"Par\\u00e1\", \"Norte\"], [\"Par\\u00e1\", \"Norte\"], [\"Par\\u00e1\", \"Norte\"], [\"Par\\u00e1\", \"Norte\"], [\"Par\\u00e1\", \"Norte\"], [\"Par\\u00e1\", \"Norte\"], [\"Par\\u00e1\", \"Norte\"], [\"Par\\u00e1\", \"Norte\"], [\"Par\\u00e1\", \"Norte\"], [\"Par\\u00e1\", \"Norte\"], [\"Par\\u00e1\", \"Norte\"], [\"Par\\u00e1\", \"Norte\"], [\"Par\\u00e1\", \"Norte\"], [\"Par\\u00e1\", \"Norte\"], [\"Par\\u00e1\", \"Norte\"], [\"Par\\u00e1\", \"Norte\"], [\"Par\\u00e1\", \"Norte\"], [\"Par\\u00e1\", \"Norte\"], [\"Par\\u00e1\", \"Norte\"], [\"Par\\u00e1\", \"Norte\"], [\"Par\\u00e1\", \"Norte\"], [\"Par\\u00e1\", \"Norte\"], [\"Par\\u00e1\", \"Norte\"], [\"Par\\u00e1\", \"Norte\"], [\"Par\\u00e1\", \"Norte\"], [\"Par\\u00e1\", \"Norte\"], [\"Par\\u00e1\", \"Norte\"], [\"Par\\u00e1\", \"Norte\"], [\"Par\\u00e1\", \"Norte\"], [\"Amap\\u00e1\", \"Norte\"], [\"Amap\\u00e1\", \"Norte\"], [\"Amap\\u00e1\", \"Norte\"], [\"Amap\\u00e1\", \"Norte\"], [\"Amap\\u00e1\", \"Norte\"], [\"Amap\\u00e1\", \"Norte\"], [\"Amap\\u00e1\", \"Norte\"], [\"Amap\\u00e1\", \"Norte\"], [\"Amap\\u00e1\", \"Norte\"], [\"Amap\\u00e1\", \"Norte\"], [\"Amap\\u00e1\", \"Norte\"], [\"Amap\\u00e1\", \"Norte\"], [\"Amap\\u00e1\", \"Norte\"], [\"Amap\\u00e1\", \"Norte\"], [\"Amap\\u00e1\", \"Norte\"], [\"Amap\\u00e1\", \"Norte\"], [\"Amap\\u00e1\", \"Norte\"], [\"Amap\\u00e1\", \"Norte\"], [\"Tocantins\", \"Norte\"], [\"Tocantins\", \"Norte\"], [\"Tocantins\", \"Norte\"], [\"Tocantins\", \"Norte\"], [\"Tocantins\", \"Norte\"], [\"Tocantins\", \"Norte\"], [\"Tocantins\", \"Norte\"], [\"Tocantins\", \"Norte\"], [\"Tocantins\", \"Norte\"], [\"Tocantins\", \"Norte\"], [\"Tocantins\", \"Norte\"], [\"Tocantins\", \"Norte\"], [\"Tocantins\", \"Norte\"], [\"Tocantins\", \"Norte\"], [\"Tocantins\", \"Norte\"], [\"Tocantins\", \"Norte\"], [\"Tocantins\", \"Norte\"], [\"Tocantins\", \"Norte\"], [\"Tocantins\", \"Norte\"], [\"Tocantins\", \"Norte\"], [\"Tocantins\", \"Norte\"], [\"Tocantins\", \"Norte\"], [\"Tocantins\", \"Norte\"], [\"Tocantins\", \"Norte\"], [\"Tocantins\", \"Norte\"], [\"Tocantins\", \"Norte\"], [\"Tocantins\", \"Norte\"], [\"Tocantins\", \"Norte\"], [\"Tocantins\", \"Norte\"], [\"Tocantins\", \"Norte\"], [\"Tocantins\", \"Norte\"], [\"Tocantins\", \"Norte\"], [\"Tocantins\", \"Norte\"], [\"Tocantins\", \"Norte\"], [\"Tocantins\", \"Norte\"], [\"Tocantins\", \"Norte\"], [\"Tocantins\", \"Norte\"], [\"Tocantins\", \"Norte\"], [\"Tocantins\", \"Norte\"], [\"Tocantins\", \"Norte\"], [\"Tocantins\", \"Norte\"], [\"Tocantins\", \"Norte\"], [\"Tocantins\", \"Norte\"], [\"Tocantins\", \"Norte\"], [\"Tocantins\", \"Norte\"], [\"Tocantins\", \"Norte\"], [\"Tocantins\", \"Norte\"], [\"Tocantins\", \"Norte\"], [\"Tocantins\", \"Norte\"], [\"Tocantins\", \"Norte\"], [\"Tocantins\", \"Norte\"], [\"Tocantins\", \"Norte\"], [\"Tocantins\", \"Norte\"], [\"Tocantins\", \"Norte\"], [\"Tocantins\", \"Norte\"], [\"Tocantins\", \"Norte\"], [\"Tocantins\", \"Norte\"], [\"Tocantins\", \"Norte\"], [\"Tocantins\", \"Norte\"], [\"Tocantins\", \"Norte\"], [\"Tocantins\", \"Norte\"], [\"Tocantins\", \"Norte\"], [\"Tocantins\", \"Norte\"], [\"Tocantins\", \"Norte\"], [\"Tocantins\", \"Norte\"], [\"Tocantins\", \"Norte\"], [\"Tocantins\", \"Norte\"], [\"Tocantins\", \"Norte\"], [\"Tocantins\", \"Norte\"], [\"Tocantins\", \"Norte\"], [\"Tocantins\", \"Norte\"], [\"Tocantins\", \"Norte\"], [\"Tocantins\", \"Norte\"], [\"Tocantins\", \"Norte\"], [\"Tocantins\", \"Norte\"], [\"Tocantins\", \"Norte\"], [\"Tocantins\", \"Norte\"], [\"Tocantins\", \"Norte\"], [\"Tocantins\", \"Norte\"], [\"Maranh\\u00e3o\", \"Nordeste\"], [\"Maranh\\u00e3o\", \"Nordeste\"], [\"Maranh\\u00e3o\", \"Nordeste\"], [\"Maranh\\u00e3o\", \"Nordeste\"], [\"Maranh\\u00e3o\", \"Nordeste\"], [\"Maranh\\u00e3o\", \"Nordeste\"], [\"Maranh\\u00e3o\", \"Nordeste\"], [\"Maranh\\u00e3o\", \"Nordeste\"], [\"Maranh\\u00e3o\", \"Nordeste\"], [\"Maranh\\u00e3o\", \"Nordeste\"], [\"Maranh\\u00e3o\", \"Nordeste\"], [\"Maranh\\u00e3o\", \"Nordeste\"], [\"Maranh\\u00e3o\", \"Nordeste\"], [\"Maranh\\u00e3o\", \"Nordeste\"], [\"Maranh\\u00e3o\", \"Nordeste\"], [\"Maranh\\u00e3o\", \"Nordeste\"], [\"Maranh\\u00e3o\", \"Nordeste\"], [\"Maranh\\u00e3o\", \"Nordeste\"], [\"Maranh\\u00e3o\", \"Nordeste\"], [\"Maranh\\u00e3o\", \"Nordeste\"], [\"Maranh\\u00e3o\", \"Nordeste\"], [\"Maranh\\u00e3o\", \"Nordeste\"], [\"Maranh\\u00e3o\", \"Nordeste\"], [\"Maranh\\u00e3o\", \"Nordeste\"], [\"Maranh\\u00e3o\", \"Nordeste\"], [\"Maranh\\u00e3o\", \"Nordeste\"], [\"Maranh\\u00e3o\", \"Nordeste\"], [\"Maranh\\u00e3o\", \"Nordeste\"], [\"Maranh\\u00e3o\", \"Nordeste\"], [\"Maranh\\u00e3o\", \"Nordeste\"], [\"Maranh\\u00e3o\", \"Nordeste\"], [\"Maranh\\u00e3o\", \"Nordeste\"], [\"Maranh\\u00e3o\", \"Nordeste\"], [\"Maranh\\u00e3o\", \"Nordeste\"], [\"Maranh\\u00e3o\", \"Nordeste\"], [\"Maranh\\u00e3o\", \"Nordeste\"], [\"Maranh\\u00e3o\", \"Nordeste\"], [\"Maranh\\u00e3o\", \"Nordeste\"], [\"Maranh\\u00e3o\", \"Nordeste\"], [\"Maranh\\u00e3o\", \"Nordeste\"], [\"Maranh\\u00e3o\", \"Nordeste\"], [\"Maranh\\u00e3o\", \"Nordeste\"], [\"Maranh\\u00e3o\", \"Nordeste\"], [\"Maranh\\u00e3o\", \"Nordeste\"], [\"Maranh\\u00e3o\", \"Nordeste\"], [\"Maranh\\u00e3o\", \"Nordeste\"], [\"Maranh\\u00e3o\", \"Nordeste\"], [\"Maranh\\u00e3o\", \"Nordeste\"], [\"Maranh\\u00e3o\", \"Nordeste\"], [\"Maranh\\u00e3o\", \"Nordeste\"], [\"Maranh\\u00e3o\", \"Nordeste\"], [\"Maranh\\u00e3o\", \"Nordeste\"], [\"Maranh\\u00e3o\", \"Nordeste\"], [\"Maranh\\u00e3o\", \"Nordeste\"], [\"Maranh\\u00e3o\", \"Nordeste\"], [\"Maranh\\u00e3o\", \"Nordeste\"], [\"Maranh\\u00e3o\", \"Nordeste\"], [\"Maranh\\u00e3o\", \"Nordeste\"], [\"Maranh\\u00e3o\", \"Nordeste\"], [\"Maranh\\u00e3o\", \"Nordeste\"], [\"Maranh\\u00e3o\", \"Nordeste\"], [\"Maranh\\u00e3o\", \"Nordeste\"], [\"Maranh\\u00e3o\", \"Nordeste\"], [\"Maranh\\u00e3o\", \"Nordeste\"], [\"Maranh\\u00e3o\", \"Nordeste\"], [\"Maranh\\u00e3o\", \"Nordeste\"], [\"Maranh\\u00e3o\", \"Nordeste\"], [\"Maranh\\u00e3o\", \"Nordeste\"], [\"Maranh\\u00e3o\", \"Nordeste\"], [\"Maranh\\u00e3o\", \"Nordeste\"], [\"Maranh\\u00e3o\", \"Nordeste\"], [\"Maranh\\u00e3o\", \"Nordeste\"], [\"Maranh\\u00e3o\", \"Nordeste\"], [\"Maranh\\u00e3o\", \"Nordeste\"], [\"Maranh\\u00e3o\", \"Nordeste\"], [\"Maranh\\u00e3o\", \"Nordeste\"], [\"Maranh\\u00e3o\", \"Nordeste\"], [\"Maranh\\u00e3o\", \"Nordeste\"], [\"Maranh\\u00e3o\", \"Nordeste\"], [\"Maranh\\u00e3o\", \"Nordeste\"], [\"Maranh\\u00e3o\", \"Nordeste\"], [\"Maranh\\u00e3o\", \"Nordeste\"], [\"Maranh\\u00e3o\", \"Nordeste\"], [\"Maranh\\u00e3o\", \"Nordeste\"], [\"Maranh\\u00e3o\", \"Nordeste\"], [\"Maranh\\u00e3o\", \"Nordeste\"], [\"Maranh\\u00e3o\", \"Nordeste\"], [\"Maranh\\u00e3o\", \"Nordeste\"], [\"Maranh\\u00e3o\", \"Nordeste\"], [\"Maranh\\u00e3o\", \"Nordeste\"], [\"Maranh\\u00e3o\", \"Nordeste\"], [\"Maranh\\u00e3o\", \"Nordeste\"], [\"Maranh\\u00e3o\", \"Nordeste\"], [\"Maranh\\u00e3o\", \"Nordeste\"], [\"Maranh\\u00e3o\", \"Nordeste\"], [\"Maranh\\u00e3o\", \"Nordeste\"], [\"Maranh\\u00e3o\", \"Nordeste\"], [\"Maranh\\u00e3o\", \"Nordeste\"], [\"Maranh\\u00e3o\", \"Nordeste\"], [\"Maranh\\u00e3o\", \"Nordeste\"], [\"Maranh\\u00e3o\", \"Nordeste\"], [\"Maranh\\u00e3o\", \"Nordeste\"], [\"Maranh\\u00e3o\", \"Nordeste\"], [\"Maranh\\u00e3o\", \"Nordeste\"], [\"Maranh\\u00e3o\", \"Nordeste\"], [\"Cear\\u00e1\", \"Nordeste\"], [\"Cear\\u00e1\", \"Nordeste\"], [\"Cear\\u00e1\", \"Nordeste\"], [\"Para\\u00edba\", \"Nordeste\"], [\"Para\\u00edba\", \"Nordeste\"], [\"Para\\u00edba\", \"Nordeste\"], [\"Para\\u00edba\", \"Nordeste\"], [\"Para\\u00edba\", \"Nordeste\"], [\"Para\\u00edba\", \"Nordeste\"], [\"Para\\u00edba\", \"Nordeste\"], [\"Para\\u00edba\", \"Nordeste\"], [\"Para\\u00edba\", \"Nordeste\"], [\"Para\\u00edba\", \"Nordeste\"], [\"Para\\u00edba\", \"Nordeste\"], [\"Para\\u00edba\", \"Nordeste\"], [\"Para\\u00edba\", \"Nordeste\"], [\"Para\\u00edba\", \"Nordeste\"], [\"Para\\u00edba\", \"Nordeste\"], [\"Para\\u00edba\", \"Nordeste\"], [\"Para\\u00edba\", \"Nordeste\"], [\"Para\\u00edba\", \"Nordeste\"], [\"Pernambuco\", \"Nordeste\"], [\"Pernambuco\", \"Nordeste\"], [\"Pernambuco\", \"Nordeste\"], [\"Pernambuco\", \"Nordeste\"], [\"Pernambuco\", \"Nordeste\"], [\"Pernambuco\", \"Nordeste\"], [\"Pernambuco\", \"Nordeste\"], [\"Pernambuco\", \"Nordeste\"], [\"Pernambuco\", \"Nordeste\"], [\"Pernambuco\", \"Nordeste\"], [\"Pernambuco\", \"Nordeste\"], [\"Pernambuco\", \"Nordeste\"], [\"Pernambuco\", \"Nordeste\"], [\"Pernambuco\", \"Nordeste\"], [\"Pernambuco\", \"Nordeste\"], [\"Pernambuco\", \"Nordeste\"], [\"Pernambuco\", \"Nordeste\"], [\"Pernambuco\", \"Nordeste\"], [\"Pernambuco\", \"Nordeste\"], [\"Pernambuco\", \"Nordeste\"], [\"Pernambuco\", \"Nordeste\"], [\"Pernambuco\", \"Nordeste\"], [\"Pernambuco\", \"Nordeste\"], [\"Pernambuco\", \"Nordeste\"], [\"Pernambuco\", \"Nordeste\"], [\"Pernambuco\", \"Nordeste\"], [\"Pernambuco\", \"Nordeste\"], [\"Pernambuco\", \"Nordeste\"], [\"Pernambuco\", \"Nordeste\"], [\"Pernambuco\", \"Nordeste\"], [\"Pernambuco\", \"Nordeste\"], [\"Pernambuco\", \"Nordeste\"], [\"Pernambuco\", \"Nordeste\"], [\"Pernambuco\", \"Nordeste\"], [\"Pernambuco\", \"Nordeste\"], [\"Pernambuco\", \"Nordeste\"], [\"Pernambuco\", \"Nordeste\"], [\"Pernambuco\", \"Nordeste\"], [\"Pernambuco\", \"Nordeste\"], [\"Pernambuco\", \"Nordeste\"], [\"Pernambuco\", \"Nordeste\"], [\"Pernambuco\", \"Nordeste\"], [\"Pernambuco\", \"Nordeste\"], [\"Pernambuco\", \"Nordeste\"], [\"Pernambuco\", \"Nordeste\"], [\"Pernambuco\", \"Nordeste\"], [\"Pernambuco\", \"Nordeste\"], [\"Pernambuco\", \"Nordeste\"], [\"Pernambuco\", \"Nordeste\"], [\"Pernambuco\", \"Nordeste\"], [\"Pernambuco\", \"Nordeste\"], [\"Pernambuco\", \"Nordeste\"], [\"Pernambuco\", \"Nordeste\"], [\"Pernambuco\", \"Nordeste\"], [\"Pernambuco\", \"Nordeste\"], [\"Pernambuco\", \"Nordeste\"], [\"Pernambuco\", \"Nordeste\"], [\"Pernambuco\", \"Nordeste\"], [\"Pernambuco\", \"Nordeste\"], [\"Pernambuco\", \"Nordeste\"], [\"Pernambuco\", \"Nordeste\"], [\"Pernambuco\", \"Nordeste\"], [\"Pernambuco\", \"Nordeste\"], [\"Pernambuco\", \"Nordeste\"], [\"Pernambuco\", \"Nordeste\"], [\"Pernambuco\", \"Nordeste\"], [\"Pernambuco\", \"Nordeste\"], [\"Pernambuco\", \"Nordeste\"], [\"Pernambuco\", \"Nordeste\"], [\"Pernambuco\", \"Nordeste\"], [\"Pernambuco\", \"Nordeste\"], [\"Pernambuco\", \"Nordeste\"], [\"Pernambuco\", \"Nordeste\"], [\"Pernambuco\", \"Nordeste\"], [\"Pernambuco\", \"Nordeste\"], [\"Pernambuco\", \"Nordeste\"], [\"Pernambuco\", \"Nordeste\"], [\"Pernambuco\", \"Nordeste\"], [\"Pernambuco\", \"Nordeste\"], [\"Pernambuco\", \"Nordeste\"], [\"Pernambuco\", \"Nordeste\"], [\"Pernambuco\", \"Nordeste\"], [\"Pernambuco\", \"Nordeste\"], [\"Pernambuco\", \"Nordeste\"], [\"Pernambuco\", \"Nordeste\"], [\"Pernambuco\", \"Nordeste\"], [\"Pernambuco\", \"Nordeste\"], [\"Pernambuco\", \"Nordeste\"], [\"Pernambuco\", \"Nordeste\"], [\"Pernambuco\", \"Nordeste\"], [\"Pernambuco\", \"Nordeste\"], [\"Pernambuco\", \"Nordeste\"], [\"Pernambuco\", \"Nordeste\"], [\"Pernambuco\", \"Nordeste\"], [\"Pernambuco\", \"Nordeste\"], [\"Pernambuco\", \"Nordeste\"], [\"Pernambuco\", \"Nordeste\"], [\"Pernambuco\", \"Nordeste\"], [\"Pernambuco\", \"Nordeste\"], [\"Pernambuco\", \"Nordeste\"], [\"Pernambuco\", \"Nordeste\"], [\"Pernambuco\", \"Nordeste\"], [\"Pernambuco\", \"Nordeste\"], [\"Pernambuco\", \"Nordeste\"], [\"Pernambuco\", \"Nordeste\"], [\"Pernambuco\", \"Nordeste\"], [\"Pernambuco\", \"Nordeste\"], [\"Pernambuco\", \"Nordeste\"], [\"Pernambuco\", \"Nordeste\"], [\"Pernambuco\", \"Nordeste\"], [\"Pernambuco\", \"Nordeste\"], [\"Pernambuco\", \"Nordeste\"], [\"Pernambuco\", \"Nordeste\"], [\"Pernambuco\", \"Nordeste\"], [\"Pernambuco\", \"Nordeste\"], [\"Pernambuco\", \"Nordeste\"], [\"Pernambuco\", \"Nordeste\"], [\"Pernambuco\", \"Nordeste\"], [\"Pernambuco\", \"Nordeste\"], [\"Pernambuco\", \"Nordeste\"], [\"Pernambuco\", \"Nordeste\"], [\"Pernambuco\", \"Nordeste\"], [\"Pernambuco\", \"Nordeste\"], [\"Pernambuco\", \"Nordeste\"], [\"Pernambuco\", \"Nordeste\"], [\"Pernambuco\", \"Nordeste\"], [\"Pernambuco\", \"Nordeste\"], [\"Pernambuco\", \"Nordeste\"], [\"Alagoas\", \"Nordeste\"], [\"Alagoas\", \"Nordeste\"], [\"Alagoas\", \"Nordeste\"], [\"Alagoas\", \"Nordeste\"], [\"Alagoas\", \"Nordeste\"], [\"Sergipe\", \"Nordeste\"], [\"Bahia\", \"Nordeste\"], [\"Bahia\", \"Nordeste\"], [\"Bahia\", \"Nordeste\"], [\"Bahia\", \"Nordeste\"], [\"Bahia\", \"Nordeste\"], [\"Bahia\", \"Nordeste\"], [\"Bahia\", \"Nordeste\"], [\"Bahia\", \"Nordeste\"], [\"Bahia\", \"Nordeste\"], [\"Bahia\", \"Nordeste\"], [\"Bahia\", \"Nordeste\"], [\"Bahia\", \"Nordeste\"], [\"Bahia\", \"Nordeste\"], [\"Bahia\", \"Nordeste\"], [\"Bahia\", \"Nordeste\"], [\"Bahia\", \"Nordeste\"], [\"Bahia\", \"Nordeste\"], [\"Bahia\", \"Nordeste\"], [\"Bahia\", \"Nordeste\"], [\"Bahia\", \"Nordeste\"], [\"Bahia\", \"Nordeste\"], [\"Bahia\", \"Nordeste\"], [\"Bahia\", \"Nordeste\"], [\"Bahia\", \"Nordeste\"], [\"Bahia\", \"Nordeste\"], [\"Bahia\", \"Nordeste\"], [\"Bahia\", \"Nordeste\"], [\"Bahia\", \"Nordeste\"], [\"Bahia\", \"Nordeste\"], [\"Bahia\", \"Nordeste\"], [\"Bahia\", \"Nordeste\"], [\"Minas Gerais\", \"Sudeste\"], [\"Minas Gerais\", \"Sudeste\"], [\"Minas Gerais\", \"Sudeste\"], [\"Esp\\u00edrito Santo\", \"Sudeste\"], [\"Esp\\u00edrito Santo\", \"Sudeste\"], [\"Rio de Janeiro\", \"Sudeste\"], [\"Rio de Janeiro\", \"Sudeste\"], [\"Rio de Janeiro\", \"Sudeste\"], [\"S\\u00e3o Paulo\", \"Sudeste\"], [\"S\\u00e3o Paulo\", \"Sudeste\"], [\"S\\u00e3o Paulo\", \"Sudeste\"], [\"S\\u00e3o Paulo\", \"Sudeste\"], [\"S\\u00e3o Paulo\", \"Sudeste\"], [\"S\\u00e3o Paulo\", \"Sudeste\"], [\"S\\u00e3o Paulo\", \"Sudeste\"], [\"S\\u00e3o Paulo\", \"Sudeste\"], [\"S\\u00e3o Paulo\", \"Sudeste\"], [\"S\\u00e3o Paulo\", \"Sudeste\"], [\"S\\u00e3o Paulo\", \"Sudeste\"], [\"S\\u00e3o Paulo\", \"Sudeste\"], [\"Paran\\u00e1\", \"Sul\"], [\"Santa Catarina\", \"Sul\"], [\"Santa Catarina\", \"Sul\"], [\"Santa Catarina\", \"Sul\"], [\"Santa Catarina\", \"Sul\"], [\"Santa Catarina\", \"Sul\"], [\"Santa Catarina\", \"Sul\"], [\"Santa Catarina\", \"Sul\"], [\"Santa Catarina\", \"Sul\"], [\"Santa Catarina\", \"Sul\"], [\"Santa Catarina\", \"Sul\"], [\"Santa Catarina\", \"Sul\"], [\"Rio Grande do Sul\", \"Sul\"], [\"Rio Grande do Sul\", \"Sul\"], [\"Rio Grande do Sul\", \"Sul\"], [\"Rio Grande do Sul\", \"Sul\"], [\"Rio Grande do Sul\", \"Sul\"], [\"Rio Grande do Sul\", \"Sul\"], [\"Rio Grande do Sul\", \"Sul\"], [\"Rio Grande do Sul\", \"Sul\"], [\"Rio Grande do Sul\", \"Sul\"], [\"Rio Grande do Sul\", \"Sul\"], [\"Rio Grande do Sul\", \"Sul\"], [\"Rio Grande do Sul\", \"Sul\"], [\"Rio Grande do Sul\", \"Sul\"], [\"Rio Grande do Sul\", \"Sul\"], [\"Rio Grande do Sul\", \"Sul\"], [\"Rio Grande do Sul\", \"Sul\"], [\"Rio Grande do Sul\", \"Sul\"], [\"Rio Grande do Sul\", \"Sul\"], [\"Rio Grande do Sul\", \"Sul\"], [\"Rio Grande do Sul\", \"Sul\"], [\"Rio Grande do Sul\", \"Sul\"], [\"Mato Grosso do Sul\", \"Centro-Oeste\"], [\"Mato Grosso do Sul\", \"Centro-Oeste\"], [\"Mato Grosso do Sul\", \"Centro-Oeste\"], [\"Mato Grosso do Sul\", \"Centro-Oeste\"], [\"Mato Grosso do Sul\", \"Centro-Oeste\"], [\"Mato Grosso do Sul\", \"Centro-Oeste\"], [\"Mato Grosso do Sul\", \"Centro-Oeste\"], [\"Mato Grosso do Sul\", \"Centro-Oeste\"], [\"Mato Grosso do Sul\", \"Centro-Oeste\"], [\"Mato Grosso do Sul\", \"Centro-Oeste\"], [\"Mato Grosso do Sul\", \"Centro-Oeste\"], [\"Mato Grosso do Sul\", \"Centro-Oeste\"], [\"Mato Grosso do Sul\", \"Centro-Oeste\"], [\"Mato Grosso do Sul\", \"Centro-Oeste\"], [\"Mato Grosso do Sul\", \"Centro-Oeste\"], [\"Mato Grosso do Sul\", \"Centro-Oeste\"], [\"Mato Grosso do Sul\", \"Centro-Oeste\"], [\"Mato Grosso do Sul\", \"Centro-Oeste\"], [\"Mato Grosso do Sul\", \"Centro-Oeste\"], [\"Mato Grosso do Sul\", \"Centro-Oeste\"], [\"Mato Grosso do Sul\", \"Centro-Oeste\"], [\"Mato Grosso do Sul\", \"Centro-Oeste\"], [\"Mato Grosso do Sul\", \"Centro-Oeste\"], [\"Mato Grosso do Sul\", \"Centro-Oeste\"], [\"Mato Grosso do Sul\", \"Centro-Oeste\"], [\"Mato Grosso do Sul\", \"Centro-Oeste\"], [\"Mato Grosso do Sul\", \"Centro-Oeste\"], [\"Mato Grosso\", \"Centro-Oeste\"], [\"Mato Grosso\", \"Centro-Oeste\"], [\"Mato Grosso\", \"Centro-Oeste\"], [\"Mato Grosso\", \"Centro-Oeste\"], [\"Mato Grosso\", \"Centro-Oeste\"], [\"Mato Grosso\", \"Centro-Oeste\"], [\"Mato Grosso\", \"Centro-Oeste\"], [\"Mato Grosso\", \"Centro-Oeste\"], [\"Mato Grosso\", \"Centro-Oeste\"], [\"Mato Grosso\", \"Centro-Oeste\"], [\"Mato Grosso\", \"Centro-Oeste\"], [\"Mato Grosso\", \"Centro-Oeste\"], [\"Mato Grosso\", \"Centro-Oeste\"], [\"Mato Grosso\", \"Centro-Oeste\"], [\"Mato Grosso\", \"Centro-Oeste\"], [\"Mato Grosso\", \"Centro-Oeste\"], [\"Mato Grosso\", \"Centro-Oeste\"], [\"Mato Grosso\", \"Centro-Oeste\"], [\"Mato Grosso\", \"Centro-Oeste\"], [\"Mato Grosso\", \"Centro-Oeste\"], [\"Mato Grosso\", \"Centro-Oeste\"], [\"Mato Grosso\", \"Centro-Oeste\"], [\"Mato Grosso\", \"Centro-Oeste\"], [\"Mato Grosso\", \"Centro-Oeste\"], [\"Mato Grosso\", \"Centro-Oeste\"], [\"Mato Grosso\", \"Centro-Oeste\"], [\"Mato Grosso\", \"Centro-Oeste\"], [\"Mato Grosso\", \"Centro-Oeste\"], [\"Mato Grosso\", \"Centro-Oeste\"], [\"Mato Grosso\", \"Centro-Oeste\"], [\"Mato Grosso\", \"Centro-Oeste\"], [\"Mato Grosso\", \"Centro-Oeste\"], [\"Mato Grosso\", \"Centro-Oeste\"], [\"Mato Grosso\", \"Centro-Oeste\"], [\"Mato Grosso\", \"Centro-Oeste\"], [\"Mato Grosso\", \"Centro-Oeste\"], [\"Mato Grosso\", \"Centro-Oeste\"], [\"Mato Grosso\", \"Centro-Oeste\"], [\"Mato Grosso\", \"Centro-Oeste\"], [\"Mato Grosso\", \"Centro-Oeste\"], [\"Mato Grosso\", \"Centro-Oeste\"], [\"Mato Grosso\", \"Centro-Oeste\"], [\"Mato Grosso\", \"Centro-Oeste\"], [\"Mato Grosso\", \"Centro-Oeste\"], [\"Mato Grosso\", \"Centro-Oeste\"], [\"Mato Grosso\", \"Centro-Oeste\"], [\"Mato Grosso\", \"Centro-Oeste\"], [\"Mato Grosso\", \"Centro-Oeste\"], [\"Mato Grosso\", \"Centro-Oeste\"], [\"Mato Grosso\", \"Centro-Oeste\"], [\"Mato Grosso\", \"Centro-Oeste\"], [\"Mato Grosso\", \"Centro-Oeste\"], [\"Mato Grosso\", \"Centro-Oeste\"], [\"Mato Grosso\", \"Centro-Oeste\"], [\"Mato Grosso\", \"Centro-Oeste\"], [\"Mato Grosso\", \"Centro-Oeste\"], [\"Mato Grosso\", \"Centro-Oeste\"], [\"Mato Grosso\", \"Centro-Oeste\"], [\"Mato Grosso\", \"Centro-Oeste\"], [\"Mato Grosso\", \"Centro-Oeste\"], [\"Mato Grosso\", \"Centro-Oeste\"], [\"Mato Grosso\", \"Centro-Oeste\"], [\"Mato Grosso\", \"Centro-Oeste\"], [\"Mato Grosso\", \"Centro-Oeste\"], [\"Mato Grosso\", \"Centro-Oeste\"], [\"Mato Grosso\", \"Centro-Oeste\"], [\"Mato Grosso\", \"Centro-Oeste\"], [\"Mato Grosso\", \"Centro-Oeste\"], [\"Mato Grosso\", \"Centro-Oeste\"], [\"Mato Grosso\", \"Centro-Oeste\"], [\"Mato Grosso\", \"Centro-Oeste\"], [\"Mato Grosso\", \"Centro-Oeste\"], [\"Mato Grosso\", \"Centro-Oeste\"], [\"Mato Grosso\", \"Centro-Oeste\"], [\"Mato Grosso\", \"Centro-Oeste\"], [\"Mato Grosso\", \"Centro-Oeste\"], [\"Mato Grosso\", \"Centro-Oeste\"], [\"Mato Grosso\", \"Centro-Oeste\"], [\"Mato Grosso\", \"Centro-Oeste\"], [\"Mato Grosso\", \"Centro-Oeste\"], [\"Mato Grosso\", \"Centro-Oeste\"], [\"Mato Grosso\", \"Centro-Oeste\"], [\"Mato Grosso\", \"Centro-Oeste\"], [\"Mato Grosso\", \"Centro-Oeste\"], [\"Mato Grosso\", \"Centro-Oeste\"], [\"Mato Grosso\", \"Centro-Oeste\"], [\"Mato Grosso\", \"Centro-Oeste\"], [\"Mato Grosso\", \"Centro-Oeste\"], [\"Mato Grosso\", \"Centro-Oeste\"], [\"Mato Grosso\", \"Centro-Oeste\"], [\"Mato Grosso\", \"Centro-Oeste\"], [\"Mato Grosso\", \"Centro-Oeste\"], [\"Mato Grosso\", \"Centro-Oeste\"], [\"Mato Grosso\", \"Centro-Oeste\"], [\"Mato Grosso\", \"Centro-Oeste\"], [\"Mato Grosso\", \"Centro-Oeste\"], [\"Mato Grosso\", \"Centro-Oeste\"], [\"Mato Grosso\", \"Centro-Oeste\"], [\"Mato Grosso\", \"Centro-Oeste\"], [\"Mato Grosso\", \"Centro-Oeste\"], [\"Mato Grosso\", \"Centro-Oeste\"], [\"Mato Grosso\", \"Centro-Oeste\"], [\"Mato Grosso\", \"Centro-Oeste\"], [\"Mato Grosso\", \"Centro-Oeste\"], [\"Mato Grosso\", \"Centro-Oeste\"], [\"Mato Grosso\", \"Centro-Oeste\"], [\"Mato Grosso\", \"Centro-Oeste\"], [\"Mato Grosso\", \"Centro-Oeste\"], [\"Mato Grosso\", \"Centro-Oeste\"], [\"Mato Grosso\", \"Centro-Oeste\"], [\"Mato Grosso\", \"Centro-Oeste\"], [\"Mato Grosso\", \"Centro-Oeste\"], [\"Mato Grosso\", \"Centro-Oeste\"], [\"Mato Grosso\", \"Centro-Oeste\"], [\"Mato Grosso\", \"Centro-Oeste\"], [\"Mato Grosso\", \"Centro-Oeste\"], [\"Mato Grosso\", \"Centro-Oeste\"], [\"Mato Grosso\", \"Centro-Oeste\"], [\"Mato Grosso\", \"Centro-Oeste\"], [\"Mato Grosso\", \"Centro-Oeste\"], [\"Mato Grosso\", \"Centro-Oeste\"], [\"Mato Grosso\", \"Centro-Oeste\"], [\"Mato Grosso\", \"Centro-Oeste\"], [\"Mato Grosso\", \"Centro-Oeste\"], [\"Mato Grosso\", \"Centro-Oeste\"], [\"Mato Grosso\", \"Centro-Oeste\"], [\"Mato Grosso\", \"Centro-Oeste\"], [\"Mato Grosso\", \"Centro-Oeste\"], [\"Mato Grosso\", \"Centro-Oeste\"], [\"Mato Grosso\", \"Centro-Oeste\"], [\"Mato Grosso\", \"Centro-Oeste\"], [\"Mato Grosso\", \"Centro-Oeste\"], [\"Mato Grosso\", \"Centro-Oeste\"], [\"Mato Grosso\", \"Centro-Oeste\"], [\"Mato Grosso\", \"Centro-Oeste\"], [\"Mato Grosso\", \"Centro-Oeste\"], [\"Mato Grosso\", \"Centro-Oeste\"], [\"Mato Grosso\", \"Centro-Oeste\"], [\"Mato Grosso\", \"Centro-Oeste\"], [\"Mato Grosso\", \"Centro-Oeste\"], [\"Mato Grosso\", \"Centro-Oeste\"], [\"Mato Grosso\", \"Centro-Oeste\"], [\"Mato Grosso\", \"Centro-Oeste\"], [\"Mato Grosso\", \"Centro-Oeste\"], [\"Mato Grosso\", \"Centro-Oeste\"], [\"Mato Grosso\", \"Centro-Oeste\"], [\"Mato Grosso\", \"Centro-Oeste\"], [\"Mato Grosso\", \"Centro-Oeste\"], [\"Mato Grosso\", \"Centro-Oeste\"], [\"Mato Grosso\", \"Centro-Oeste\"], [\"Mato Grosso\", \"Centro-Oeste\"], [\"Mato Grosso\", \"Centro-Oeste\"], [\"Mato Grosso\", \"Centro-Oeste\"], [\"Mato Grosso\", \"Centro-Oeste\"], [\"Mato Grosso\", \"Centro-Oeste\"], [\"Mato Grosso\", \"Centro-Oeste\"], [\"Mato Grosso\", \"Centro-Oeste\"], [\"Mato Grosso\", \"Centro-Oeste\"], [\"Mato Grosso\", \"Centro-Oeste\"], [\"Mato Grosso\", \"Centro-Oeste\"], [\"Mato Grosso\", \"Centro-Oeste\"], [\"Mato Grosso\", \"Centro-Oeste\"], [\"Mato Grosso\", \"Centro-Oeste\"], [\"Mato Grosso\", \"Centro-Oeste\"], [\"Mato Grosso\", \"Centro-Oeste\"], [\"Mato Grosso\", \"Centro-Oeste\"], [\"Mato Grosso\", \"Centro-Oeste\"], [\"Mato Grosso\", \"Centro-Oeste\"], [\"Mato Grosso\", \"Centro-Oeste\"], [\"Mato Grosso\", \"Centro-Oeste\"], [\"Mato Grosso\", \"Centro-Oeste\"], [\"Mato Grosso\", \"Centro-Oeste\"], [\"Mato Grosso\", \"Centro-Oeste\"], [\"Mato Grosso\", \"Centro-Oeste\"], [\"Mato Grosso\", \"Centro-Oeste\"], [\"Mato Grosso\", \"Centro-Oeste\"], [\"Mato Grosso\", \"Centro-Oeste\"], [\"Mato Grosso\", \"Centro-Oeste\"], [\"Mato Grosso\", \"Centro-Oeste\"], [\"Mato Grosso\", \"Centro-Oeste\"], [\"Mato Grosso\", \"Centro-Oeste\"], [\"Mato Grosso\", \"Centro-Oeste\"], [\"Mato Grosso\", \"Centro-Oeste\"], [\"Mato Grosso\", \"Centro-Oeste\"], [\"Mato Grosso\", \"Centro-Oeste\"], [\"Mato Grosso\", \"Centro-Oeste\"], [\"Mato Grosso\", \"Centro-Oeste\"], [\"Mato Grosso\", \"Centro-Oeste\"], [\"Mato Grosso\", \"Centro-Oeste\"], [\"Mato Grosso\", \"Centro-Oeste\"], [\"Mato Grosso\", \"Centro-Oeste\"], [\"Mato Grosso\", \"Centro-Oeste\"], [\"Goi\\u00e1s\", \"Centro-Oeste\"], [\"Goi\\u00e1s\", \"Centro-Oeste\"], [\"Goi\\u00e1s\", \"Centro-Oeste\"], [\"Goi\\u00e1s\", \"Centro-Oeste\"]], \"hovertemplate\": \"Nome=%{text}<br>Latitude=%{lat}<br>Longitude=%{lon}<br>Estado=%{customdata[0]}<br>Regi\\u00e3o=%{customdata[1]}<br>Altitude=%{marker.color}<extra></extra>\", \"lat\": [-11.1906203464975, -11.2318777790011, -11.2206103219691, -11.175844343791198, -11.0959001305961, -11.0913580683086, -11.082715629176901, -10.5042853487987, -11.047600215093999, -8.48911087779524, -7.57851257736407, -10.2804618242691, -9.24630182483701, -8.3790878787292, -3.1784112348863705, -3.2058396737866497, -3.2022425207992797, -3.2039796516167702, -3.4017496183489, -3.4060915888555496, -3.39333384070077, -3.44504021158325, -3.46811898217561, -3.3991744637197403, -3.40681828402466, -3.3978695055345, -3.38734983176463, -3.30675515354482, -3.26159172846233, -3.6766696674618298, -3.6748124059790803, -3.66697708409872, -4.853439557105941, -6.696605109601061, -6.56292797868979, -4.38170464718572, -4.454589552085389, -4.54092914640516, -4.69273410616409, -4.86033884218456, -5.00228556923399, -5.191971564127, -5.42079489067628, -5.26944810964899, -5.66008242825753, -5.734484742289911, -5.695347410633629, -5.790027828530201, -5.7986888845538305, -6.49145512677176, -6.6208684485173706, -6.806130433665629, -6.811906567049731, -6.81075407121622, -6.818357815916589, -6.83285266736109, -6.857563132761769, -6.8740714373709, -6.887538589150701, -6.90914755056421, -6.6219254713232605, -6.38089699357476, -5.80301561549106, -5.47661158996527, -4.19632355225802, -4.21287487527941, -4.13985433253803, -4.16259092506221, -4.14198456525125, -4.29620194127382, -4.654217138053269, -4.7670464335608, -5.9633696390369595, -5.979150644317929, -6.06989128045197, -6.118152773516541, -6.17480928334121, -6.237702935899629, -6.269125128913701, -6.4020265210033, -3.5434668444103505, -3.74850161447038, -3.73385813529423, -3.7172544427527203, -3.5617734453347003, -3.5250211030494203, -3.5132231668638503, -3.54619112589913, -4.2396489617848, -3.82102332407192, -3.86136372854645, -3.6226172987430094, -3.58890571902954, -3.5336129174378503, -3.4322955673573703, -3.39872347780412, -3.39700216366557, 1.31714354679774, 1.6200352156552402, 1.6245514143471, 1.72459844629179, 1.80200657031438, 1.75027449876511, 1.76152818911249, 1.66176957218998, 1.7500829903417099, 1.81726061205545, 1.8030702549982398, -3.37468807856681, -3.28506794804743, -3.25727115409637, -3.3094889879428, -3.33528794321258, -3.45171848392903, -3.4713572643895096, -3.4930579643900903, -3.4701067167902404, -3.46578971677283, -3.4097622455204304, -3.38794417330859, -3.3603711255498796, -3.3522099343869103, -3.35766565286862, -3.34118181495686, -3.3343086865047002, -3.3070071417629903, -3.28588658644327, -3.3790098789866203, -4.29645573106832, -4.40147208162984, -4.39987702083806, -4.404154182137849, -4.40560363280896, -4.40534204052671, -4.40543938817775, -4.40765473727626, -4.40813191565383, -4.40636346052788, -4.40822968626824, -4.40896573591875, -4.3053672219032295, -4.3780958639692305, -4.349183813763299, -4.36970209008954, -4.38399453664364, -4.37258755364085, -4.3759117029178, -5.93844611804041, -4.38624977769577, -4.33139535409429, -6.07537732469921, -6.39690783267382, -4.348096859163, -4.38383595262972, -4.3835805067510405, -6.08771008521747, -4.38631799395227, -3.82053059314544, -3.8211485297986902, -4.612296973276269, -4.636812502948, -4.6592458851097, -4.7114583368467, -4.40562902236266, -4.77178213601425, -8.7367329964693, -4.25735230237791, -4.74724865743775, -4.821153498912941, -3.98159233581177, -3.9991289469098596, -3.9627533084077, -3.9545263453874506, -3.94975589054106, -4.0471644604626205, -4.0989974960668905, -4.099384750075569, -4.22730351146608, -4.26414714104472, -4.37294188604368, -4.523548669698401, -4.72842714837754, -4.597806024421709, -4.4934765445359295, -4.5038659527822595, -4.4590178414211, -4.51784660708207, -4.44380311001458, -6.71253032104847, -3.67190374168751, -3.58762211788636, -3.5700832386695294, -3.85753464250951, -3.22394055654998, -3.3538739219559903, -3.35848383226196, -3.4029853192222403, -3.93095861724238, -6.65340100454915, -6.65920202071185, -7.04756501607171, -7.13417332304968, -7.07943527214718, -7.23261215974249, -6.63360639211409, -7.0610314254196, -7.02766069427946, -7.15121815873003, -7.15022505252334, -6.886714878079281, -6.89362546734201, -6.86792158882099, -6.87352306156376, -6.91036573795428, -6.85473004270808, -6.872399268575999, -6.88063554267838, -6.89250713776389, -6.9152022265087, -7.031521360815081, -6.7368221419240095, -6.7188158927948995, -6.795550483373161, -7.4339902813450305, -7.4098620347040995, -7.4055745775259805, -7.387258628318929, -7.386739235288429, -7.3565731536726, -7.31481224500777, -7.6888266863352595, -7.65420102285324, -2.68147144264844, -2.67378586302635, -2.67618976397615, -7.93452107755329, -7.846221302881349, -7.032981404616669, -6.95919626759099, -6.82056930838444, -6.86815575075646, -6.86992336122501, -6.865004157017861, -6.99756021918758, -7.0057825658391, -6.8367868713847395, -6.04822607788402, -6.11526127208426, -6.112918733070849, -6.48850582155496, -6.35388791291741, -6.40776631022595, -6.2895461746823, -6.504967868994941, -6.108233655044019, -1.60811556057663, -1.6221627708294402, -1.72086360245785, -1.77314809280252, -1.2758333375462299, -2.90476446430665, -2.91504503164481, -2.85765776169715, -2.8557403423993497, -2.8555260481668503, -2.73936408323799, -2.6580355352105, -2.7114482060936003, -2.82276958425583, -2.81868000618451, -2.90817193414442, -2.89106497547389, -2.89484423615129, -4.073613413437649, -3.07397638845631, -3.25241676403313, -3.0653233309082903, -5.854539871278781, -5.85855168053217, -7.72182534207034, -7.72007098409701, -7.458139386795501, -7.405737672533621, -7.4418933797834805, -7.46786531199425, -7.51186498936216, -7.54685471196059, -7.50352177333774, -7.31835467030355, -7.181110835008839, -7.176809640797191, -7.3068130221524905, -7.26218017050277, -7.38054881008026, -7.417180544328611, -9.10584173251322, -7.92710132356711, -7.80064444659561, -8.05186467056213, -7.795857609235441, -7.915653833976071, -7.932686393800889, -7.527101962690481, -7.6956779500698, -6.19316269409137, -5.59393215509742, -6.163295206335829, -6.20534552485947, -6.24385835886474, -6.199001631457289, -5.510035667633599, -5.55289269407354, -5.70011612500054, -5.71991135783669, -5.58732117281, -6.17046161251824, -6.15031129882052, -6.20976961362316, -6.06479595241778, -2.45094193931541, -2.40943970937846, -2.45744297825847, -2.3448806830474, -2.44706649685479, -1.84408432192571, -1.80679569826307, -3.7522972415197797, -3.74823277835846, -3.7503658959590798, -3.7436152784620202, -3.73513063274648, -3.8656701729681897, -3.7872576560048996, -3.75516891906664, -3.75343979708503, -3.9263022113545603, -3.74073222688684, -3.7462455345992702, -3.6741348772293403, -3.6828019896102298, -3.73510667461532, -3.7224569059862, -3.6654677648484504, -3.7199592027664306, -3.69523053138113, -3.7531404575321, -3.7565968382368498, -3.72040595498017, -3.73747584894125, -3.7403427311205797, -3.7131763526839103, -3.73348961912302, -3.63576586286901, -3.75183677914762, -3.6480361568014996, -3.7027677763282996, -3.67676422592916, -3.74867375015979, -3.70897190312155, -3.67980937741238, -3.74717086560889, -3.7842190003615497, -3.7901157189167596, -3.80693228664829, -3.8545111893035098, -3.87225385193039, -3.90318013651622, -1.43255920223568, -1.4095030838443703, -1.1111932653073602, -1.59414746897613, -3.22382162162933, -3.1880891906505, -3.15842523035439, -3.2194745240424, -3.17657281509479, -3.15278069672706, 0.627291980486901, 0.5069544870113689, 0.5130108322546749, 0.6731406004876989, 0.743980459529606, 0.452931887441075, 0.6660340891253641, 0.722842239520144, 0.8607168963579541, -3.1110420964017598, -3.11555943365624, -3.1148694497924705, -3.03091514973594, -2.9851854589625697, -2.97104919148709, -3.0321814131756497, -2.9836274118961095, -3.15704089584058, -2.87368910921326, -2.8746426920222996, 1.20441373330591, 1.72737744823026, 1.3896644935796398, -0.12887913887379598, 0.266470749868239, 0.229821633508119, -0.9584622734021311, -0.314920873916295, -0.37094177623836205, -0.357873499432415, -0.410379543128455, 0.6206921053762979, 0.386960300364784, 1.79196247455569, 0.93330737501212, -3.4049387762154706, -3.4830468596139004, -3.49654004853774, -3.5996748114797, -3.54781561782578, -3.5872102625226896, -3.54331337271756, -3.29538604995923, -3.2938700901599502, -3.45679182986826, -3.4091282458027594, -3.50382813568193, -3.55529533437209, -3.3873743615235097, -3.3993036435621, -3.7134707126642996, -3.5954946197610402, -3.5401670268021204, -3.71561215819974, -3.69618934419487, -3.6304256558200896, -3.46730277724643, -3.7141540479212303, -3.3962057527673, -3.64135430365294, -4.2722084889581, -4.04349081326274, -4.25305495031878, -4.13356080210863, -3.9657656421006102, -4.26299380603509, -4.21672908237712, -4.217515698704689, -4.23327827973021, -4.21321956337719, -4.18399374136058, -4.15050888470223, -4.16644614636096, -4.21054756209032, -4.21705026750476, -4.2794272464973595, -4.300249265547, -4.16656522238652, -4.13249282757799, -4.13048856905984, -4.13328553467951, -4.08448455188833, -4.06773256263044, -4.06513718401302, -4.05012197647896, -4.06712140413629, -4.050482177910331, -4.03401461851513, -3.9908322768935096, -4.01658259070666, -4.00076392951733, -3.8342664588180204, -3.80078214226147, -3.7993468192382003, -3.76745379398905, -3.73098951531729, -3.73472744457782, -3.7843523491877002, -3.79990758605835, -6.841184223818099, -6.7985696061014105, -6.78907687249059, -6.77013687646774, -6.810053663245361, -6.78950869568334, -6.4326546948634, -5.53320414180148, -5.50851443861291, -5.972960644373549, -5.8954444165499105, -6.09817878182188, -3.4368892219545604, -3.43902439371601, -3.43684535234879, -3.43955741898068, -2.7858089085335, -2.73159517579968, -2.69290082724363, -2.6891216564003395, -2.8679640660888, -2.7595602947341202, -2.5891948698047598, -2.75645205288579, -2.75480144880969, -2.43665563015957, -2.78658190946366, -2.74287019380637, -2.96702196559717, -2.80011833818985, -2.36930462955493, -2.52742222876206, -3.0279831393671204, -2.8965401701003395, 3.4550026327649506, 4.00514502055238, 3.7637065673370897, 3.76336370220337, 4.15160132196117, 4.139601042280701, 3.95068235359668, 3.88793803412448, 3.58244519997298, 3.6182174622585896, 3.4839286182151903, 3.50564341001795, 3.62290328575287, 3.60701720122348, 3.61524596443295, 3.57627362756589, 2.82134459552819, 2.9875754221446402, 3.2778728748513597, 2.88890967615538, 3.26893344097272, 3.2751259602194103, 3.3672623553711496, 3.4213108706373196, 3.12718447889934, 3.2292458571243703, 3.32200607526484, 3.3879311896478796, 3.4226220029361896, 3.2453330623789, 3.2345248939291, 3.23213675823171, 2.88194523139979, 2.9956660626484597, 2.08909182962133, 2.15260858368772, 2.20277009889509, 2.55877332075493, 2.7490314591240494, 2.66704896393097, 2.7442107087839003, 2.65433208521592, 0.541448332087975, 3.8151564033831797, 3.8490457395386497, 3.9146070192554303, 4.17202764948108, 3.93405162608387, 3.9955385677312405, 4.01068354084152, 3.85428626861376, 3.5738706321871203, 3.5539155496498003, 3.59514505902443, 3.5296433165411205, 3.9600517412978196, 4.095821674292161, 4.13141663246843, 4.16161043042244, 4.10404526880845, 4.34685521738046, 4.14255951192386, 4.1928379293215094, 4.16307528985885, 4.71311239558609, 4.55843600101207, 4.40275501714728, 4.44052656139552, 4.2893662132990995, 4.23958414281677, 4.29268789746306, 4.23642722701795, 4.1983798887091694, 4.2124416945090895, 4.0053051254207, 3.80451747404144, 3.55900835360479, 4.446413278509731, 4.645415699569201, 4.28934265853548, 4.631500712677741, 4.46804648916502, 4.41323508278566, 4.24909466636949, 4.33478724365917, 4.3273166087159805, 4.34150453726357, 4.46902043648693, 4.433035509929031, 4.5351132613378295, 4.63103872514636, 4.57676336238986, 4.37016214906697, 4.71359238019099, 4.7353137221266905, 4.94951377612844, 5.15937465109291, 4.9939673539330505, 5.07837356709979, 5.09954237943309, 5.22007072643334, 5.0695519666660305, 5.06981854309268, 4.66788967230316, 4.72395082359963, 4.62896703646462, 4.4961906254993, 4.62977521771158, 4.60197423614183, 4.527094326672519, -5.534551319308809, -4.53135820036588, -3.90154969581863, -4.04929493457083, -4.76753171867571, -9.50438158421259, -8.72683009856791, -8.16151905100926, -4.03790201320468, -5.163838094810309, -3.8150302989500697, -4.888312417056441, -5.063652771951349, -4.91012379462646, -4.69353048369447, -4.486357129083269, -4.74223681887038, -0.43680251066421, -0.555838547428865, -0.697114704982655, -7.13174794842623, -7.698343544709849, -8.13826149027043, -6.25365953137757, -6.31898790746377, -4.7448873672116205, -8.86166639898279, -5.557194334257249, -5.9295476360092305, -4.90385634705126, -3.6154142567842205, -2.68551924622092, -2.28482434846739, -2.2924430058325296, 0.9326666988653579, 1.03253329746903, 1.1779625125464, 1.11562372461669, 1.05044065835495, 3.9563363171107997, 3.5762232714670597, 3.51019508161529, 3.45137278588839, 3.38927628133016, 3.3519989341722, 3.7781910936125396, 3.7470786185575005, 3.73607294493098, 3.2970810276617097, 3.52520662693547, 3.33186014527766, 3.29013172664363, -6.04169480629539, -11.9673736299143, -11.7851311117502, -12.6313898155638, -12.0984869375965, -12.0761270757116, -11.8289743316024, -12.7460431561042, -7.96449285500489, -8.08608140700549, -8.222994741399459, -8.34373699394621, -8.33336199814012, -8.3020568768143, -8.60478972320207, -8.4910308896657, -8.735913799612112, -8.51893062047993, -8.48986413703706, -8.57303593479523, -8.46419695292596, -8.49738023294687, -10.832452087376401, -11.572010319498, -11.5537705225277, -11.536127731425, -11.3748665327231, -11.3396765347156, -11.064705436519999, -11.3242850061405, -11.382210223334, -6.06434113663366, -10.478714322543, -10.5561052472397, -7.15143447606424, -7.11927606180588, -9.65018802933781, -9.64179903194618, -9.62711948251312, -9.666588689759221, -9.60104778879045, -9.442790415291721, -9.440610762576599, -9.36412545519811, -9.53360430414994, -9.65173555572481, -9.688110965119971, -9.483412184345749, -9.69924858415081, -9.47994773170122, -9.651169694139211, -9.46293592055998, -9.50438802862199, -9.61815060480258, -9.471948139169141, -9.4299704109887, -9.411486797718199, -9.6798809307506, -9.48779039458535, -9.367397830186619, -9.61827878239836, -9.62829282258518, -9.4964214863255, -9.59296397975284, -9.57474269466309, -9.48293576922221, -9.51069202706658, -9.381128557091051, -9.66524442816571, -9.393781278171751, -9.46939704199746, -9.43641640365797, -9.40351755992781, -9.47291875684712, -6.339791977314429, -6.20708266496184, -6.12803386388039, -6.17807627814821, -6.1958348454365995, -5.490991071395331, -5.471526377089, -5.44311631022926, -5.4369000665811305, -5.374499797821049, -5.3478513695085494, -5.3289508473657, -5.32422241458041, -5.1163597594805195, -5.560565786795079, -3.17622682230698, -3.11833467912854, -5.0283090295946105, -5.21675799447361, -5.2320655926227095, -5.31146618473476, -5.0833095354778495, -5.34782279889486, -5.33428828958666, -5.687371954695469, -5.7056933689089, -5.77540319648191, -5.7174423722480405, -5.75136447177329, -5.7364752038898805, -5.65988398880518, -5.72213004087259, -5.68055653916802, -5.77880472074167, -5.69250260221506, -5.71924649482674, -5.7933105805296305, -5.69812828043153, -5.68148902376697, -5.66683298524987, -5.60794605292204, -5.668551586668731, -5.6725700785704305, -5.672794527249991, -5.68035175088732, -5.719683959769269, -5.7553796323457, -5.75934088255987, -5.76623489843002, -5.770078529864769, -3.69674257443309, -3.6462335580600898, -3.65880220041731, -3.63069739292144, -3.75974199136362, -3.87190865246129, -4.8305097312787195, -6.08176133645658, -6.0976500441640695, -5.82251386966957, -5.863685872658389, -5.8421431630036, -5.9147007065646795, -5.93470158604107, -5.958705028023401, -5.96158626335701, -5.96577715111498, -5.96970610838808, -5.973460445337929, -5.97730209244941, -5.9897874455617, -6.00270934948212, -5.87790526112522, -5.89180378348315, -5.909460990220129, -5.79275193568065, -5.86838246286505, -5.863404311526719, -5.87082628261297, -5.884489040664869, -5.98408561336188, -5.8330103898512995, -5.83074123012565, -5.86988229720964, -5.878519789226759, -5.968688177066669, -5.96669821791649, -5.97433354695418, -5.94483268012862, -5.48962621634709, -5.33897993519634, -5.34011381818216, -5.3516642203825, -5.361986076782941, -5.383415985968361, -5.39926106737467, -5.625263208692171, -5.54245660914075, -5.30602454241541, -5.5636879804325305, -5.52751341874462, -6.0702277086953496, -2.67826448528643, -2.67421777920856, -2.5729737979595, -5.89361685528185, -5.91753977581793, -2.8412152264628703, -2.90226926887657, -3.6769807518303503, -3.7402792203180097, -3.11017185335696, -2.97863228036785, -6.70256118717111, -6.65295797997174, -6.65800439243146, -6.669339847453901, -6.66789869759305, -6.667265941684481, -6.60150299181905, -6.60185609237339, -6.688513154789031, -6.708153754811651, -6.67932048246208, -6.68528439079027, -6.64692989124837, -6.75246300540805, -6.7713248830565895, -6.70680383298904, -6.73364852903003, -6.76144154257519, -9.117688320571329, -9.13864768536878, -8.455763703337471, -8.63851845888747, -8.60979653383811, -8.633068844641759, -8.6012092634659, -8.53951097424923, -8.52743924715319, -8.51607008208761, -8.511240418545231, -8.505796524479491, -8.51419871716257, -8.51827175351466, -8.51178968184571, -8.52108974153377, -8.51832107416295, -8.53739262345184, -8.53816831008269, -8.53781209221385, -8.52052113688767, -8.534678370060481, -8.523880983202421, -8.51769607710082, -8.51001160506581, -8.50941584182506, -8.51200385819249, -8.52228346229334, -8.538912326559611, -8.519737956496579, -8.33875569516409, -8.32250474178746, -8.28174354340644, -8.27686142223304, -8.2943703024903, -8.30129334384354, -8.30634816371907, -8.33146276697248, -8.30495231581286, -8.303599791954019, -8.29218057518276, -8.27317459540208, -8.2662017835305, -8.24681822698129, -8.2496614389716, -8.25138544101538, -8.25615023081337, -8.2698901850791, -8.27703425350098, -8.28282137304028, -8.283339565084809, -8.6319021307436, -8.576514078981921, -8.679067044183821, -8.67332050795655, -8.63787631942696, -8.62010831016551, -8.60235297955349, -8.59967822013509, -8.5777342008251, -8.62480165683087, -8.778288587055581, -8.77233023156028, -8.64682152245532, -8.65045258490179, -8.80698026881762, -8.77674713961101, -8.81220623066408, -9.16025489262977, -9.13651880154084, -9.1243471831207, -9.15923820993587, -8.336616894254322, -8.33204262590251, -8.31755712871122, -8.31675086337492, -8.33139248254198, -8.30654741029905, -8.29673267022332, -8.28895373931904, -8.28180328550457, -8.28353964403039, -8.28778326956581, -8.30541418480295, -8.343368564181349, -8.303177753705711, -8.29115136960683, -8.26644173242906, -8.27037221206421, -8.28051115589123, -8.31472423204856, -8.324960392991281, -8.33243538377989, -8.35917563421131, -8.36224931674808, -8.35739810967683, -8.335569700293581, -8.33683692556775, -8.35310949860999, -8.37078280674396, -8.34214983920022, -9.09843239016019, -9.0943599657045, -8.23803003375351, -8.23898364453072, -8.263736159185191, -8.23997585165619, -8.26257085874386, -8.28708643734686, -8.31916029161583, -8.325503455841709, -8.32724788111396, -9.09292259511052, -9.10730984843929, -9.13848825510414, -9.1019161034267, -9.15878684671211, -9.1179166747055, -8.655483796478599, -8.65584823546915, -8.60407862827048, -8.5936063336499, -8.59388453924557, -8.596978034294361, -8.586862839579231, -8.577590707660281, -8.55339178913292, -8.648008166042809, -9.898746224651429, -9.076887720029529, -9.22160854545546, -10.1743202778342, -10.0110463191759, -9.78985207932847, -10.6770331514999, -10.659620025499999, -10.642888269999899, -10.6578296444999, -10.660658526499901, -10.630718175, -10.6432863909999, -10.7006079444999, -10.6539899575, -10.639471602999901, -10.6316339555, -10.656369056499999, -15.9373139337014, -13.9594165787259, -10.4458575755664, -10.4315370919999, -12.085599894000001, -15.000833056928, -15.160681220999999, -16.947635621315502, -16.4711472147981, -16.8650570607014, -16.8477826969998, -16.6522966112762, -10.6759035474999, -10.6119792034736, -9.446736869499949, -16.331796914832402, -16.3335646886346, -16.1522895034864, -13.3990037371467, -21.941893509366, -20.470378713824502, -19.3411033345131, -19.904830902196, -19.9207028489982, -22.8740296826884, -23.3178446379079, -23.2531080114079, -23.7209555, -24.652716599067897, -24.8162626974268, -24.457827368699302, -24.157891571539, -24.265122346810497, -24.2025681682162, -24.088274800420002, -24.0783940890623, -24.7426680740201, -24.223177805978303, -23.7374370050385, -24.5413035207346, -26.397030877049602, -26.433840538618604, -26.3956869075002, -27.4632141594836, -26.743207776508697, -26.7628672073689, -26.670386603028604, -26.7324237050681, -27.805206388706, -27.825017321732602, -26.287668490622398, -28.1845485601887, -27.460894726785998, -27.956892927838002, -29.555907323221398, -27.1937835787718, -29.4810113286084, -27.4741470025802, -27.3424710373981, -27.339359227902197, -27.341403529716395, -27.3429659447336, -27.345594753295003, -27.347340206722997, -27.349349823330698, -27.3482992847311, -27.3632347165024, -27.318620470127396, -29.061562590379502, -27.8671176767491, -30.188210218302604, -27.169309171015396, -20.4905166315672, -22.20781693209, -20.2803416533958, -20.2564446693401, -20.271684653867702, -20.2579034782684, -20.2497685663495, -22.489932490980102, -20.372939186655397, -20.4662480820409, -20.483525304980898, -20.4696004223125, -22.4168237429878, -23.758459265078397, -23.783123513680202, -20.057509392125198, -22.699254304789502, -21.4798826401683, -20.1904072058648, -20.2030416019748, -20.2266986433703, -23.947952669460395, -23.6835180347913, -22.3750648989064, -22.0475172805511, -23.847136552065898, -20.875569653845698, -14.2934379421101, -14.274879387923601, -14.2695582732231, -8.55214919923085, -10.4792023780489, -10.4518789266887, -10.375563286545699, -10.3337460390425, -10.2993832742802, -10.208483486532499, -10.2330276702665, -10.1761415083088, -10.131461772255198, -10.2017308906441, -10.4819315972026, -10.5129418950812, -10.4362732359181, -15.0886790708369, -15.37500655485, -12.941955259, -12.923950813444, -12.276531163931, -14.558197425555198, -14.512544507525, -14.527900115206098, -14.5269483853585, -14.513995593585902, -14.4513901647817, -14.436475683592501, -14.4090801577388, -14.412345961921401, -14.4419915250765, -14.4848763868528, -14.460108260663599, -14.4552475541722, -14.4102902541375, -14.3826375527498, -14.4260234400384, -14.4324999781152, -14.388923942185599, -14.426423200064098, -14.3949334658116, -14.3882772169529, -14.384043384986802, -14.385605678087302, -14.403370798652698, -14.3757843342792, -14.337472568515501, -14.3979503788714, -14.4451959166427, -14.451020646298499, -14.4079355257935, -14.3487049800172, -14.3978393420842, -14.3849823008377, -14.3500915237979, -14.3365430368831, -14.272975292841199, -14.2475128256317, -14.230591519102301, -14.2923797841482, -14.1875148556896, -14.2279814413154, -14.2727690975556, -13.6526027601489, -13.842216341587902, -13.7016694487394, -13.2500836474835, -14.267762934100098, -13.5087547514186, -13.721925339442999, -13.5165655227629, -9.71452319489427, -13.016527878718, -13.482766529402001, -13.4973321342324, -13.4383906854336, -13.484447472683101, -13.5441078071755, -13.5884713664351, -13.6195057765007, -13.6492243286676, -13.6866085648557, -13.7696261805218, -12.7272791222388, -12.7173960594872, -12.7052044773307, -12.716282474732498, -13.1208652548662, -13.2128013842959, -13.2423825364946, -13.355076632746698, -13.2702959561515, -14.805554260669402, -14.1439764364838, -11.4825303355739, -11.5713811356322, -11.621439338153902, -11.712772342420198, -11.8164905716551, -11.917763953993699, -12.395235665276699, -12.2413353609937, -12.1496359911632, -12.2024830312706, -12.242994309447598, -12.3105044951964, -12.3964192961591, -15.7037607422001, -15.5493575307637, -15.543677130899901, -10.8702260417886, -10.917539669040599, -10.9695397207015, -10.685738204182801, -12.1776901986284, -11.2038168864253, -10.8883242410917, -10.946157970625999, -11.0388533527098, -11.0590319157842, -14.1398694421756, -14.156351989428599, -14.1014495461774, -14.573264206472302, -14.6086103483427, -14.5333021480937, -14.5072190170224, -14.3165333539442, -14.488150588328303, -14.3819463399236, -14.159727591038301, -14.6036834039254, -14.585634927385199, -14.2271588973921, -14.514716543348902, -14.548419910183599, -14.502120032564001, -14.4270614927875, -14.4024764032011, -14.3201669238021, -14.1894370357145, -14.1525716966206, -15.1811916832056, -14.2928314558086, -14.3145172699956, -14.303410562497302, -14.299363366756499, -14.2752771098124, -10.1036242336379, -10.1692776169609, -10.6211100354805, -14.3545935708391, -15.442585842205698, -15.277643000625998, -12.1779942882331, -11.598298464932698, -11.532463359618001, -11.458501264619501, -11.411520409628999, -11.337290973736698, -12.544437772539899, -13.3253350325107, -10.5898613467639, -10.6917412160376, -16.5608011236269, -16.4913154791845, -16.5985468639405, -11.214790224300401, -11.0531050132281, -11.0297476447262, -11.0198268706458, -13.088310264962402, -13.0604414638554, -14.472239703687197, -14.4556164181157, -14.2491546392898, -14.288570108315302, -14.3666581528761, -14.3442436281639, -14.3785509535739, -14.4390451555354, -14.6099501327397, -14.5894027325298, -14.411930659954699, -14.3933617631693, -14.535444302828, -14.5504236818132, -14.189932699666901, -14.0343349572909, -14.068947662246, -14.143687471807699, -14.9165314532431, -14.8733080612795, -13.8957096558836, -13.786887899140902], \"legendgroup\": \"\", \"lon\": [-61.18093511174501, -61.1763712958385, -61.2489909815248, -61.3052547594719, -61.3227495187781, -61.360365338600204, -61.410871281424505, -64.7530566854107, -65.1837372640973, -70.4181961482918, -73.49761333637571, -69.9120719175229, -69.2380860007901, -70.687267064393, -64.8282784717324, -64.8680651102341, -64.8561728955643, -64.8509787054666, -68.2302377260909, -68.2288849212397, -68.2386840561796, -68.2122500335102, -68.2171622246706, -68.2354753775423, -68.5752481015451, -68.4534156689937, -68.3534441926198, -68.35875472856749, -68.3319611158924, -61.50486888439939, -61.5017985053345, -61.4831649544296, -70.8919436661041, -73.3057904289413, -73.13395414759209, -70.961389933703, -71.30382717169141, -71.3878895415484, -71.4723547472077, -71.5616864513219, -71.7454739716333, -71.94456738903291, -72.1686879832848, -72.8596720962596, -72.9615717748577, -72.9741820839162, -72.05740566774779, -72.09740864433229, -72.10108775847169, -72.6682872282104, -72.7178722501887, -72.126747753344, -72.1549955583749, -72.17037674580492, -72.1814724371559, -72.2050937012877, -72.22112271997291, -72.2243855850508, -72.2371440492345, -72.2501890117433, -71.8750678845349, -71.71580444591059, -71.4368729209752, -71.1921031720734, -70.6176895324494, -70.5711285390355, -70.5455961210623, -70.43882887349179, -70.39301262813271, -70.2961070764626, -70.2599318549075, -70.1967108843066, -70.6138340070582, -70.622976723706, -70.6138324373412, -70.59605051597059, -70.5938486085362, -70.60552833162599, -70.6365878740488, -70.78692745093821, -59.0756031365965, -59.190417264077304, -59.249829443608704, -59.2551397663311, -59.2219996137303, -59.20453092473289, -59.1800829368756, -59.1956790886855, -59.9578016043408, -59.158023581658604, -59.6123605625171, -59.408739726819995, -59.1437441437311, -59.4626363027696, -59.3150462104198, -59.2493159675594, -59.0573641392889, -63.519311996997004, -63.8182037521115, -63.6544761897904, -63.5950933836304, -63.7812359011755, -63.92022966353171, -63.9234779533646, -63.5346898456867, -63.5990446932186, -63.612813121395995, -63.633431913083804, -56.9678740778229, -57.07163318298429, -57.1060604558348, -57.04775963723699, -57.0254734801472, -56.9275237861078, -56.9156137713725, -56.88658981141, -56.90977327565821, -56.9095296889626, -56.930004399943, -56.9562528137151, -57.006867736672106, -56.9283497253363, -56.8784085263622, -56.9536726240388, -57.0059063059187, -57.0173289307648, -57.024796552775605, -56.9640591539493, -69.5367410213396, -69.93423935885271, -69.9415789968083, -69.9259482115839, -69.8648426431414, -69.9183885079104, -69.8595777280284, -69.91925642362389, -69.8927439106305, -69.90990429302771, -69.8959286054465, -69.8871831269402, -69.5504095275945, -69.99332439586571, -69.60948879126161, -69.6424641691845, -69.7062067320655, -69.7282325114337, -69.7420440077386, -70.5810334899381, -69.9786274968381, -69.9877997331113, -70.6081550815767, -70.7721977967676, -70.0040890812807, -69.9928244773714, -69.987912905163, -70.594704695506, -69.994805005598, -61.3047107902868, -61.2985581436987, -62.4736345688628, -62.487918777831, -62.475167764591895, -62.3165907640895, -62.0766710798837, -62.8082325919139, -67.41120361956429, -59.924851644829104, -59.95581860782929, -59.9502909353961, -58.994816461679704, -58.9530561873767, -58.923149431252, -58.882190343816994, -58.8322461546325, -58.932645896842395, -58.9351984918707, -59.1477282548127, -59.27130089835771, -59.2147271149638, -59.255385589879396, -59.169965443684504, -59.32949134590471, -59.417382080218, -60.3497480494501, -60.417488692820704, -60.174559273094, -60.2318136563443, -60.104444906100504, -64.93351031039761, -60.423445629735, -60.01529863931089, -59.9828045729604, -59.850549826192704, -59.381904948660704, -59.3234933642686, -59.378299938200506, -59.432692818367, -63.3663516353811, -69.4346331017787, -69.5853146911398, -69.68788352652929, -69.6682441653116, -70.1556814803636, -70.2304241664482, -70.0344800236819, -70.126025614332, -70.0961463935209, -70.2568569358601, -70.1905557958648, -70.2304155458743, -70.2507437457759, -70.29192996454411, -70.3031833375734, -70.348463189041, -70.5733123352923, -70.5683356146145, -70.571118938452, -70.5623330824716, -70.55708177304871, -70.7153850609472, -70.56794664391741, -70.4082468361011, -69.3888233649732, -69.9748285281245, -69.976453100329, -69.9755694468968, -69.97274488772821, -69.9736892248406, -69.94390294107589, -69.9142522238816, -70.62078715599058, -70.56029764844091, -66.808598232951, -66.81882616818861, -66.6631995123131, -62.0695327765452, -62.1724399477223, -71.2118996439634, -71.08814179822859, -70.7954745262695, -70.8233796552075, -70.7687863229758, -70.75759195176971, -71.1746165427727, -70.7249689518665, -70.7385269863118, -67.8255683435314, -67.74640063585, -67.8208349412742, -67.888176023147, -67.8746073991965, -67.9386309510189, -67.8797138922291, -67.98766855352021, -67.80742324982471, -66.4630596666852, -66.45871854285271, -66.8887238656765, -66.9030345682351, -69.4063925163807, -65.8142258627079, -65.8046232644452, -65.7960129999456, -65.84288234868629, -65.8436084682436, -65.77351052259279, -67.05840733194479, -67.0767703464864, -66.8983499647994, -66.81912371833761, -67.0573998506433, -67.0642134104656, -67.0689178499265, -67.501001959272, -67.0598468535119, -67.1189516068566, -67.0276716625464, -69.5711837866041, -69.5380686903945, -64.6517713268979, -64.5592579373959, -64.7268620933533, -65.1850083101365, -65.2792652167991, -65.2780516481796, -65.2648851287364, -65.3015469265741, -65.3750634324099, -64.9365974658491, -65.0753064528503, -65.15047858736929, -65.2603085999693, -65.3608090357898, -65.3820830982346, -65.5631409335223, -67.2491058042089, -66.8531911238271, -66.53378321565971, -66.2821080478987, -66.0863719063948, -65.7371470874471, -65.76955713017321, -66.0489575063928, -66.0694088711345, -62.1967340577678, -60.8098925115849, -61.9459492594831, -61.9706317288492, -61.95654410635961, -61.936548194035794, -60.759842212627, -60.7876082156935, -60.8087545377954, -60.78990259568889, -60.810214787824705, -61.530194351831796, -61.560322470161, -61.5168777754095, -61.9943276261981, -65.07594992687021, -65.0901791212751, -65.0706971344154, -65.1317867921029, -65.0598967475392, -65.7913793086624, -65.6252119343816, -57.273606675857295, -57.2439919335761, -57.2604720367745, -57.27381839368879, -57.272977111099, -57.1750652772166, -57.2339457167389, -57.2846530632994, -57.3071464667661, -57.148044679962, -57.176398880904294, -57.026364744442304, -56.990877553494904, -57.087527253596605, -57.209134605228996, -57.1288736768548, -56.996429479814, -57.2172893440892, -57.0945063284865, -57.237355889993104, -57.229667812684404, -57.1217686983176, -57.202628858401795, -57.0228081518112, -57.114077632045, -57.212265158371295, -57.0474042580665, -57.15048616868529, -57.0689249290995, -57.1027981228961, -57.085381778095, -57.2209649646065, -57.1097102173339, -57.076916895127, -57.15030915762979, -57.209730200181, -57.2048799671719, -57.189473879959, -57.170182508904894, -57.1538546534536, -57.1533045410385, -57.9210059295197, -57.9358567636795, -58.0335405837439, -57.62777575866261, -56.81228386045979, -56.8440447600811, -56.847567645828, -56.8186594685637, -56.8471518014855, -56.86333005702121, -66.1341204543999, -65.15450704009521, -65.1486723020301, -65.18319681270489, -65.09482044757421, -65.0693451505519, -65.05067333337689, -65.0358870542365, -65.0452893509379, -67.9930381464851, -67.9387330979045, -67.9966622901988, -68.1258525910811, -68.2005295091103, -68.2275151012817, -68.2290757989578, -68.49389387672879, -67.9133671276801, -68.4753129998822, -68.5148549127813, -69.01361630855091, -69.617624664079, -68.1523038492006, -68.5443548653858, -69.6431329686887, -69.5686910542236, -67.18280861749871, -65.9179474930115, -66.28692631805279, -66.3340875988684, -67.3226166177117, -66.1487989813947, -66.6504518897702, -67.4101756511601, -66.80760059279139, -68.6818329715298, -69.0463424148156, -69.0599313654671, -69.2392353843341, -69.1508482753421, -69.2321938741979, -69.1363819074426, -69.1022722706763, -69.1056679766927, -68.8141450621796, -68.7035925043724, -68.8620114050347, -68.84563918348951, -69.24370427752571, -69.2450649373007, -69.4452656164642, -69.3891732894664, -69.32778275479279, -69.4226352124302, -69.2731473928672, -69.3896284609899, -69.3802096596967, -69.4829632450552, -69.3231884749824, -69.4158396385569, -69.9370856972857, -69.5228674254349, -69.5172295212433, -69.5167307371371, -69.4226836537823, -69.9426494793383, -69.801087360042, -69.78364558725279, -69.7508959501661, -69.6845481004739, -69.6176256595473, -69.5843200164439, -69.60063152169249, -69.57705078307539, -69.5343872704503, -69.5471673398698, -69.6334127107231, -69.4505374924329, -69.4416289344788, -69.4749179982498, -69.5338882846743, -69.5506095471756, -69.5528948752518, -69.5514714528881, -69.5335501198921, -69.6004895213642, -69.6166074884079, -69.61733692336121, -69.7283001818322, -69.4828047725712, -69.4509447708713, -69.4167968631909, -69.423810035727, -69.4236908646517, -69.4299540025189, -69.44231007512529, -69.4627909476067, -69.46667432114779, -69.4841563130024, -67.21194156123771, -67.1593005687869, -67.0728952389826, -67.0323196510283, -66.9178669657422, -66.6697765804897, -65.7991215852015, -63.017766411537295, -63.00883575758039, -64.7575738693326, -64.667017464574, -64.8668849277788, -64.5703519265966, -64.5806855346944, -64.5854702564439, -64.5917317180274, -67.6729894341784, -67.5109000075489, -67.4679776739154, -67.46718845222121, -67.77444485400021, -67.6229306875119, -67.5303281033817, -67.6008942369299, -67.5932680790534, -67.4515670620454, -67.4745398815893, -67.4073151348978, -67.8625448376869, -67.46598340128979, -67.1866790142936, -67.3823061900967, -65.1892887418961, -65.15522733068461, -61.399937672015106, -64.5059410366304, -61.2959823938116, -61.3405639523172, -61.4298377897624, -61.332995344353506, -60.9524121154444, -60.9098981255607, -60.9264198124718, -60.8738407185742, -60.676646729929196, -60.740662308574, -61.0845952903186, -61.1872370022309, -61.0507944816199, -61.113520998479395, -63.68460211077661, -61.2015774745141, -61.074220254793204, -61.3422444898193, -61.35368051735371, -61.296469197389605, -61.15651750576139, -61.1297243929944, -60.509527885029705, -60.542966549563396, -60.56186756425161, -60.4362184555727, -60.349407796743094, -60.5672117661067, -60.635297638215704, -60.6908326071624, -60.139573750587395, -60.102236932382, -59.9987761045192, -59.8633773549127, -59.768586823903, -60.2021368284221, -60.179417025902794, -60.575647620522496, -60.5289489287346, -60.4280150719657, -59.1300116732671, -60.094609549331395, -60.18238965486071, -60.022326974058295, -60.4426742744026, -59.6077405656363, -59.8257088277966, -59.5925569695305, -59.9191204093368, -60.1545289138268, -60.09977612537729, -60.1036971402178, -60.2400379751223, -60.419848481690394, -60.1980793553253, -60.263619335750796, -60.2077773871574, -60.066604401556795, -61.14309366169871, -60.7673052444127, -60.7912582322507, -60.5411185444542, -60.7393147102155, -60.8923921012049, -61.1390894863232, -61.2049250446722, -60.8418770039882, -60.8753688222005, -60.6413317969611, -61.14448574286429, -61.00267990290379, -61.089918930089105, -60.784505252333005, -60.4990444085805, -60.67321007499189, -59.8567985307262, -60.4964762526577, -60.4546001708224, -60.2690766718574, -60.141207362719, -60.0594046642883, -60.5097651802159, -60.4836604278232, -59.9918152743332, -60.28638895205629, -60.272542428252294, -60.227522476195404, -60.369544444961605, -60.58386757775661, -60.441009425307996, -59.9688520357201, -60.5138735353448, -60.5918492863125, -60.475198089633, -60.6478671202562, -60.4340784024005, -60.2109750535166, -60.4398193583655, -60.280629481164205, -60.1703006336671, -60.229301971392296, -60.2162020712501, -60.0489676427329, -60.086516558465995, -60.1902951049131, -60.1774974325926, -60.1571824916627, -60.1736935133217, -54.4928510370502, -54.1880421257907, -52.8142438575785, -52.5787033643464, -52.5050390800929, -54.0061578604375, -53.3903251094985, -53.4503017568773, -51.33359090630079, -48.9385352984849, -52.8646980479132, -50.0668995490905, -50.137658186707, -49.955523902877395, -50.0797426920267, -49.9632598917673, -49.897858135326096, -58.085563777582294, -58.094170921792, -57.97336068725511, -51.6538501629947, -51.8691905212305, -52.12046872889879, -50.8009279547231, -50.9355051380506, -48.963806129577506, -49.704049048681895, -52.6700046824711, -48.6394655337112, -51.4337162768792, -51.67562017893021, -48.2751250826717, -48.3470478106078, -48.3397109191036, -52.6785538394064, -52.6068713284911, -52.9253178678624, -52.5654361734888, -52.534376138706705, -51.7638799624347, -51.7703157736418, -51.7406150325205, -51.70766072283, -51.71139175022161, -51.66074118734771, -51.5648429717009, -51.56989204044, -51.7093962574521, -51.3642686248993, -51.449532581514205, -51.63494802086039, -51.59509042516561, -47.863538870671995, -49.9163756686265, -49.9418836715559, -50.438135072871894, -50.067835527695706, -49.951354537908706, -50.666972308631294, -50.6103010257032, -47.287829992156496, -47.2263955302314, -47.1938392326414, -47.454957064629404, -47.5966650222079, -47.6283188695322, -47.4113749151351, -47.694338329875, -47.47670437561279, -47.3449810603302, -47.570325672976395, -47.532642287384206, -47.6761388873832, -47.4228690316667, -49.9519924480025, -50.6966020499739, -50.71115029020039, -50.717469566634996, -50.677482081803596, -50.6860938186354, -49.964031011267004, -50.0188389862975, -50.0028549192229, -47.5045408137825, -50.4706666505928, -49.9823367203343, -49.1774487975863, -49.1783368216679, -48.3624525624555, -48.3940409225171, -48.39687394045551, -48.372191685596704, -48.244286070097395, -48.3107267166987, -48.3700177148728, -48.356068975404995, -48.1134727921935, -47.9915613351769, -48.0981687343601, -48.2777967679264, -48.0064702807767, -48.2582007390825, -47.9175345192934, -48.11523114708201, -48.0216418989937, -48.0851224309455, -48.300510275243795, -48.0933649658959, -48.298257121007204, -47.998795581939795, -48.33716150546721, -47.904483977441394, -48.171859863590896, -47.9731817427417, -48.349361403927, -47.9289448936508, -47.9611867182874, -48.3520929261728, -47.9333781858407, -48.291229388324794, -48.15253762707721, -48.07352766756821, -48.155991584373396, -48.2616585215792, -48.3520556168706, -48.217784160349, -47.536191441438795, -47.674138371732, -47.5022440430769, -47.42834160928621, -47.461637176028994, -46.6619133998958, -46.7101188809334, -46.703602043348106, -46.6331044353316, -46.5958209799071, -46.640036501404495, -46.6582096370829, -46.6707146759513, -46.7336751222735, -46.6699648111943, -45.915568445061396, -45.9120595788038, -46.094008765305794, -46.2998106266619, -46.1944927094768, -46.2342628186594, -46.1881652213605, -46.217442468011, -46.2093719899273, -45.2941899539748, -45.3009767879792, -45.3663739528932, -45.30618747959479, -45.337202273793494, -45.3289981051968, -45.48453565524571, -45.3151713892251, -45.3537275917442, -45.3783737135024, -45.2315029800154, -45.2299982843422, -45.385410642778595, -45.54141380133739, -45.525179120779896, -45.448084614596006, -45.4255501098388, -45.3834181891733, -45.367567228825706, -45.26867524296221, -45.283493846176604, -45.325942597372894, -45.3428446616491, -45.3524094012616, -45.3690066699263, -45.3916401937908, -46.0580230492446, -45.4733067783008, -45.47134051905971, -45.503529472161894, -46.146067149249106, -46.2072371341331, -46.106093865056, -45.1527956708108, -45.5547212071126, -46.129092025641604, -45.975123194183794, -45.975470657242695, -45.5996140032436, -45.6168141127444, -45.6390781962979, -45.6776692877359, -45.6980125553943, -45.716434999497096, -45.730666555842, -45.753192577541, -45.7665510322695, -45.7709165403508, -45.970396600948895, -45.981283776796, -45.9772881796784, -45.8808557723392, -45.87448960054271, -45.8554821136145, -45.91793528495, -45.8912130085072, -45.8671939910425, -46.105243211071205, -45.9694588523709, -45.969911248299596, -45.903543901990005, -45.866872501330796, -45.8319900063863, -45.7454219731564, -45.6261437256746, -45.7506136627849, -45.9819074682987, -45.965486426447605, -45.9435390319819, -45.92499325222239, -45.9009800920932, -45.8793393668297, -45.4883243004636, -45.609778482408, -45.7044238314491, -45.6532929674992, -45.5900743013347, -46.850868038158595, -46.0306496402831, -46.037382050968894, -46.1586471558471, -46.923938841974895, -46.9331509338425, -45.938322437470795, -45.8822365868467, -46.631274348499204, -38.6311912173122, -39.9670969777968, -39.864035984352, -35.0292357566069, -34.9852155458826, -34.966720539814, -34.955011060651806, -35.0037232414155, -35.026165152628195, -35.005458304163, -34.9943104934048, -34.951551411526296, -34.9353081651901, -34.9921418897798, -34.9738310478259, -34.990866681490004, -35.0540550772509, -35.0169902973784, -35.0056704226382, -34.9911224785074, -34.9554122018731, -37.1245387127994, -37.141687997622, -37.9713433626767, -37.2811910963446, -37.215577843983795, -37.2501458661309, -37.285158008871996, -39.4444675723314, -39.4173739994394, -39.4244432109522, -39.4318279100918, -39.4152656686019, -39.4106341065868, -39.4068792824463, -39.399801094786504, -39.3910630390379, -39.3937717373637, -39.3139395231117, -39.3161431573566, -39.318785607002894, -39.314414513367296, -39.3274566333929, -39.3271201528418, -39.3377765282511, -39.3554459090305, -39.3597375315449, -39.380704367959, -39.4374260856487, -39.32390425747221, -39.3825916989991, -38.8120913927915, -38.8319559540775, -38.821178196650706, -38.8324973847241, -38.7986287458344, -38.775662656333104, -38.783956925033294, -38.7720533274176, -38.7912675988338, -38.8113878050576, -38.78975352019, -38.8313671027979, -38.821659413688295, -38.783530400698396, -38.781616143558296, -38.7716188233273, -38.778082885881, -38.76526563390539, -38.7657189577832, -38.7644038802573, -38.770517051416995, -37.9705769013511, -37.935790353365995, -37.7787546404869, -37.8491833192805, -37.8094271287903, -37.8613384451165, -37.450376208435, -37.461508811021396, -37.417370033494294, -37.4079262918084, -37.605392007355206, -37.958341776706796, -37.922763553698395, -37.8789363924785, -37.8136508708324, -37.68953656618, -37.7588531345733, -38.230144550151, -38.2203072624653, -38.207224182602204, -38.210323366332, -36.731030404084294, -36.7170479611001, -36.716621837537495, -36.7124645295602, -36.696062653931705, -36.7134088752729, -36.7106354998646, -36.6857135950273, -36.684534704540205, -36.6570023958555, -36.6768075978603, -36.6814323269563, -36.8310567034417, -36.839727656147105, -36.7980512833606, -36.7446631812244, -36.7562620666107, -36.719840782255794, -36.7331770107252, -36.7433171042311, -36.752859602521205, -36.7755232079663, -36.8157304135189, -36.8303746593141, -36.7931535419864, -36.744445890448205, -36.8509151989505, -36.8820934150991, -36.8900410888322, -38.21760538266761, -38.2429901592109, -38.913192332665794, -38.8890929651214, -38.8685435476275, -38.820937141112104, -38.8397995982885, -38.8636238074646, -38.9056559959174, -38.909496537680795, -38.913355990346105, -38.174082018647205, -38.2011988039258, -38.1711514824089, -38.1829566132876, -38.157745834692605, -38.19090521705029, -37.308740775416005, -37.31827327339229, -37.3037982473174, -37.3155811216991, -37.3035731180188, -37.2981039462176, -37.292218420157496, -37.2820934400047, -37.3094975433687, -37.345952197582506, -36.7066646211785, -35.7429979674373, -38.0253665029693, -36.8374451949647, -36.6169538786592, -37.36349777210621, -38.6140190151591, -38.6324636109935, -38.670957291273496, -38.574257878363795, -38.5947120184415, -38.599079631361796, -38.636852516088, -38.6470740627351, -38.600029258983795, -38.5988246528433, -38.6018426125285, -38.6834830749654, -39.1637518216155, -39.2011768624491, -38.5668334029326, -38.81851475296779, -43.2551833622363, -39.001120581691296, -39.7291281157608, -39.753297281068896, -39.0877306038543, -39.1525034994402, -39.2983215744875, -39.154003087038205, -38.6666422006547, -38.7199193015813, -38.6134683289461, -39.0168587584311, -39.05761625752079, -39.0079196599513, -43.7683271782296, -46.3352429653574, -45.0449282187823, -45.07196436472589, -40.2322743456104, -40.174708510166894, -44.397343013053295, -44.7731030252627, -44.653279307557604, -45.8121633094215, -47.409594094956, -47.7593679837933, -47.1328957380366, -47.3389924420277, -47.328160140844496, -47.3674930332885, -46.6967616682845, -46.65728640417629, -47.87022687308661, -46.941345945872605, -45.81623275834829, -51.6316952805019, -48.717561209041605, -48.7187617700912, -48.6505077340154, -48.6433783713019, -49.6518251568597, -52.567268114434, -52.4354426936681, -52.4636339858823, -48.6373748491566, -48.6498513128749, -48.661233248429696, -52.0167776242908, -52.6364100552458, -51.970407817377996, -51.89594032148721, -53.23698241938721, -51.995996633729604, -53.14279241789579, -52.8686570928558, -52.8335317182436, -53.0402588650294, -53.0203818149648, -53.020860097374495, -52.9965925847514, -53.00231245229771, -52.978232265128796, -52.967235556204606, -52.9906283947781, -53.232780053632794, -53.88878396018251, -51.0250975805616, -53.4128031279837, -55.7967389145712, -56.0414945818131, -56.106117357601796, -56.1032513129825, -56.06053445410811, -56.028366992312606, -56.059271143407706, -54.655713806082, -54.5767346202965, -54.53130814101439, -54.7342550738185, -54.57002741075029, -54.682107102322504, -54.5959640797764, -54.5183705169089, -54.7007348728804, -54.64516501714439, -55.8071703382809, -56.291267201296904, -56.2681616194861, -56.2743935638872, -55.3691801615162, -55.2603532704349, -55.2785560984756, -55.9593764361312, -54.7400239905758, -55.17640749263371, -52.165146013477894, -52.158787732812996, -52.09940576113521, -57.7375246835567, -59.8836510166981, -59.9190274770936, -59.91787159450721, -59.930046511140795, -59.9001692388656, -59.82074922484671, -59.760533380651, -59.757233485971796, -59.6988055985264, -59.678690618739004, -59.6464003900171, -59.6445728717286, -59.6797863433535, -57.1093948189505, -52.9033943329471, -57.98821664615439, -58.0336094259397, -58.478426256004894, -53.3496399330972, -53.3241677535847, -53.3398937119347, -53.35152269661899, -53.373732686279105, -53.399394481113006, -53.4401081674467, -53.446622042863204, -53.3930943902178, -53.3277603896827, -53.22160831213329, -53.1940567179522, -53.212759105815294, -53.2111820793598, -53.199400189692, -53.1511749154894, -53.1249644633035, -53.128818009886, -53.092366706612, -53.0770711660085, -53.099345320301296, -53.074764724642705, -53.063228189590006, -53.05780578687121, -53.021799099491, -52.94367913647321, -52.9024589672758, -52.9490708807519, -52.9909148384488, -53.001285091651496, -53.26402305096249, -53.3227814761173, -53.397564432285996, -53.374512822069704, -53.33766377492, -53.2990626404627, -53.32381614737129, -53.2566871236494, -53.2224851727104, -53.0404381439579, -53.021671323448295, -53.06345217854879, -58.1145999488044, -58.192839572283795, -58.1930366403181, -58.1491846305385, -59.234923063921606, -51.8568206849864, -51.991088002146206, -51.8895216724712, -59.601225038978704, -59.5632022568468, -59.7197659933604, -59.68072066548329, -59.6056746044121, -59.537005602608794, -59.547560619246, -59.445291147568206, -59.507990665392796, -59.4444987356797, -59.5384255304453, -60.0127634759591, -60.0003057261911, -59.955244644292094, -59.90281100146339, -59.7960659968091, -60.0754083204951, -59.9828575422116, -60.0621826904856, -60.0326482146443, -60.0346531478535, -59.3937912581814, -56.942177510684395, -53.498179339374296, -53.585126793959596, -53.59659468223471, -53.631481132063705, -53.6148972366733, -53.60047002837971, -53.544179992862, -53.530883057646896, -53.470584806359206, -53.400579650161504, -53.420406041630294, -53.33945542819139, -53.2529790835183, -53.0612610170818, -53.0800815936368, -53.8522178323679, -57.539348628755995, -57.5412221359387, -58.27796751161839, -58.35073694997249, -58.92014215687671, -59.280775606529204, -53.2635351569971, -53.3255418276369, -53.427076393814495, -53.5055059938519, -55.52792643775229, -51.76300381205, -51.709035953599994, -52.1891144924819, -52.0193050315386, -52.1779638275778, -52.280628042468, -52.0841654493715, -51.9006704397501, -52.1109198419322, -51.8848618545766, -52.0153991827709, -51.9978810491718, -51.9842891917433, -52.1620343873919, -51.93826797451421, -51.8805560146449, -52.24400545182, -52.144049361854, -52.119895495858, -59.827261742975594, -59.6305165682963, -53.8465183138989, -54.48750085631929, -54.683629672063894, -54.742754675352295, -54.7636618620719, -54.7934404248716, -53.1097591464683, -53.046190851019205, -53.125488414366295, -54.7106050991823, -53.907072424694995, -53.87152942131971, -53.2090908290349, -53.492350424947794, -53.4293715246252, -53.37253590505, -53.3316723490242, -53.26800963482471, -52.9104705791146, -51.6811201208176, -61.0179897891555, -61.0111042603938, -54.4186860682104, -54.5442584967667, -55.21130723739739, -53.2297784145137, -53.273084836311206, -53.2801799123271, -53.294351186619394, -58.4854619897429, -58.477160450309896, -58.55667972126161, -58.828002024599705, -58.8213137737786, -58.4996094099229, -58.295870665707206, -58.2414473269875, -58.244765271069795, -58.142977430753206, -58.051453938688795, -58.655245391289604, -58.48632134480739, -58.4575498708436, -58.9287840134723, -58.8739470652045, -58.68884216233621, -58.76283730471021, -58.77414882417499, -58.8418383478461, -51.08258140897411, -51.08320975152021, -48.261144574034795, -48.2443286230565], \"marker\": {\"color\": [256.534383, 258.142759, 205.526414, 227.287546, 197.418105, 215.455648, 255.892437, 223.615191, 148.192506, 220.61842799999997, 245.488524, 268.80702, 198.53227900000002, 231.796717, 48.781659999999995, 71.94620400000001, 44.187206, 44.648317999999996, 55.128739, 58.158937, 52.963846, 62.555279000000006, 63.166788000000004, 66.125161, 52.0, 60.87615699999999, 66.070185, 56.401585, 60.455441, 11.0, 11.0, 11.0, 129.872217, 189.154668, 186.835905, 78.793914, 81.16672700000001, 108.060949, 84.439161, 91.0, 96.501235, 99.128359, 115.33694299999999, 108.48223999999999, 114.66663799999999, 124.235514, 112.658984, 116.67426599999999, 110.54368400000001, 148.102644, 167.768608, 150.224836, 150.622324, 158.18111499999998, 165.854153, 161.985649, 174.652865, 159.00664799999998, 165.354265, 184.28698, 152.106156, 144.279124, 129.584892, 121.05918500000001, 82.260006, 77.34849200000001, 78.14591899999999, 77.2029, 84.100989, 110.993173, 77.84729, 86.623514, 106.661032, 112.720221, 127.755503, 117.786092, 127.29531000000001, 132.55387199999998, 145.75923899999998, 152.125856, 44.026427000000005, 34.009725, 17.527621, 32.90705, 20.761135999999997, 33.670751, 31.832929999999998, 25.130947, 26.379765999999996, 21.287366, 39.178584, 21.347711999999998, 22.17175, 29.992811, 29.126907, 20.006354, 8.997694000000001, 117.864287, 117.157693, 115.31882, 123.17675, 160.869372, 141.495442, 143.638684, 110.537798, 124.309101, 120.39759, 125.293849, 22.903668, 17.078931, 30.147182, 22.961356, 22.4606, 35.538489, 26.219047999999997, 19.510168, 9.478594000000001, 13.441991, 10.276323, 23.119872, 16.381946, 23.631803, 31.900503999999998, 43.699899, 43.420704, 23.650504, 24.455227, 28.243637, 72.948585, 72.245711, 75.721728, 72.887299, 74.966004, 72.309414, 69.136329, 76.522947, 82.816451, 72.540607, 87.673486, 72.004806, 75.875816, 63.360792000000004, 80.920659, 71.626547, 76.56485, 74.426578, 78.21611999999999, 120.590783, 73.263765, 77.517547, 113.13051899999999, 137.648541, 68.872785, 70.809051, 66.80563599999999, 122.61051, 75.044629, 26.968528999999997, 23.467769, 48.99698, 50.23799, 47.50867, 48.088305, 12.0, 56.350846, 135.746827, 46.148084000000004, 19.362831, 19.25052, 22.366729, 21.987453, 9.0, 9.0, 9.0, 21.983133, 9.0, 12.0, 12.0, 22.92715, 44.107853999999996, 39.320547999999995, 48.610259, 24.732024, 35.906560999999996, 36.37746, 25.383434, 17.034228, 22.487171, 72.459846, 33.463839, 17.662772, 24.207693, 21.903145000000002, 15.529109, 11.982061, 38.423666, 36.872943, 58.979493000000005, 125.829525, 144.431656, 151.533029, 150.725255, 172.091728, 180.836232, 149.84731499999998, 147.819541, 143.073926, 204.03646899999998, 136.327676, 144.790072, 137.77543500000002, 137.50636200000002, 139.235648, 139.974974, 132.332143, 136.874091, 147.495274, 139.805608, 136.381649, 148.829018, 142.538701, 137.130351, 150.627449, 141.639189, 158.705656, 139.068388, 147.151364, 141.162588, 152.328734, 140.607751, 156.924665, 152.349177, 45.119196, 69.783916, 44.781936, 87.96739000000001, 92.178562, 153.799897, 145.10923799999998, 142.81211299999998, 157.755246, 141.796049, 136.110778, 154.471801, 155.020544, 145.933744, 85.68259300000001, 97.607109, 100.52103199999999, 130.434786, 95.17867199999999, 101.245236, 93.019873, 109.14138700000001, 89.428489, 56.022518000000005, 47.244526, 44.084909, 60.804497, 75.302876, 46.026455, 46.02278, 54.310686, 57.213987, 57.737483999999995, 51.070688, 45.530144, 63.613843, 52.421141, 53.884730000000005, 52.66641, 48.112639, 49.189438, 73.502274, 44.087422, 50.241928, 44.610755, 125.25956599999999, 126.979781, 87.214711, 88.070047, 84.265488, 80.124794, 77.071309, 62.366441, 74.1632, 68.427776, 86.823208, 78.810701, 77.842129, 71.838256, 87.481735, 99.810115, 78.307934, 79.290526, 154.762917, 107.658832, 107.278384, 90.29740699999999, 81.812777, 79.647478, 82.034867, 116.74958899999999, 70.961415, 45.324335999999995, 40.100219, 64.954885, 40.784025, 48.74302, 33.055875, 35.492058, 50.611785, 26.726745, 56.840141, 22.0, 68.052973, 33.028023, 34.022128, 39.612234, 31.597376, 45.650684000000005, 33.771159000000004, 30.0, 45.880485, 49.273742999999996, 51.831225, 36.466688, 46.265304, 32.018884, 32.615066999999996, 30.524554, 22.798854000000002, 18.565022, 5.0, 8.100676, 33.368215, 33.045125, 35.597206, 36.526137, 11.967296000000001, 6.30207, 17.916724, 39.297092, 13.022297, 28.585575, 7.880286, 28.188753000000002, 12.116251, 10.322401, 39.788622, 10.356124000000001, 16.696686, 26.711384000000002, 13.200244, 20.540867000000002, 34.997931, 17.189739000000003, 31.644602000000003, 11.534083, 26.312557, 27.097901, 13.42852, 12.867897, 5.0, 16.94231, 32.604372, 28.339578000000003, 35.420984999999995, 62.308679000000005, 94.930017, 40.947765000000004, 16.010158999999998, 25.458023999999998, 23.410097, 12.284464999999999, 39.552425, 22.001327, 90.750943, 100.14934699999999, 101.270494, 114.808305, 100.711496, 70.044446, 119.661084, 102.03685899999999, 97.494985, 75.936296, 48.346115999999995, 47.851456, 50.107867999999996, 82.843278, 71.228336, 56.423745999999994, 63.507887, 48.0, 56.477097, 94.89877800000001, 127.14723400000001, 159.130448, 97.781541, 125.100806, 108.65988700000001, 115.15395600000001, 82.85674499999999, 42.0, 55.945265, 51.600103000000004, 92.595393, 91.868009, 73.726739, 87.713604, 90.840914, 79.100967, 93.998715, 71.518392, 67.786103, 67.79472700000001, 67.693795, 67.095218, 62.931429, 63.253139000000004, 52.0, 64.313478, 67.83628399999999, 82.927171, 61.87110500000001, 64.03859, 62.545469, 63.538081000000005, 56.0, 57.86800699999999, 74.522703, 66.77143199999999, 69.43776899999999, 82.34746, 73.982681, 66.617598, 70.550292, 65.540526, 67.38944599999999, 58.0, 80.998756, 80.81486600000001, 98.99164, 89.771787, 76.41971099999999, 70.15961899999999, 72.736797, 78.90066999999999, 80.51864300000001, 86.659061, 83.557456, 76.46627600000001, 86.232342, 70.421897, 71.395363, 58.0, 79.984922, 69.195228, 75.206329, 78.4485, 62.651389, 77.90863, 79.96247, 96.415355, 97.966747, 78.412881, 77.433177, 58.522865, 70.201992, 79.088128, 70.562736, 55.499621, 71.609992, 82.49590699999999, 75.908755, 109.503511, 96.813682, 112.56314499999999, 88.180267, 89.07989, 100.530713, 64.291326, 50.210281, 48.550594, 46.0, 39.0, 42.251511, 73.886945, 71.736246, 73.110733, 76.65474499999999, 57.671769999999995, 65.729912, 45.0, 51.143583, 46.0, 46.0, 93.49869, 46.0, 66.110176, 54.435772, 49.353668, 64.945826, 53.19715, 70.01007, 56.099853, 56.459458, 53.16849499999999, 31.044828999999996, 128.415256, 796.688786, 108.26900800000001, 94.44163, 214.262654, 189.83041799999998, 106.193036, 94.631935, 102.592561, 99.03009200000001, 84.860843, 85.866426, 124.86278200000001, 104.94023, 103.68318599999999, 84.323717, 847.352853, 95.676058, 129.92516899999998, 88.160327, 89.201775, 114.296993, 107.04263200000001, 102.932789, 76.258901, 87.523792, 87.16472399999999, 81.055941, 81.21064399999999, 77.899675, 100.62416, 113.37276299999999, 120.49716699999999, 96.778458, 168.725238, 177.108485, 155.833208, 111.351229, 126.93065, 82.115531, 98.75789, 90.260014, 175.109272, 120.05309299999999, 124.26482800000001, 111.83688000000001, 119.20461399999999, 97.653846, 124.826897, 103.11828, 113.682093, 82.855241, 82.56999, 80.631313, 82.4937, 105.2044, 478.863618, 368.61983100000003, 290.05638500000003, 268.176215, 440.46917, 126.353384, 121.15933400000002, 117.236145, 774.0947480000001, 961.1482490000001, 638.341844, 837.368172, 138.82275, 138.22868200000002, 246.684268, 229.37959300000003, 178.099366, 220.45132900000002, 170.10933500000002, 85.432321, 73.932909, 522.161666, 651.909975, 270.862641, 777.2643860000001, 603.971191, 720.112009, 127.56439499999999, 260.031896, 620.3067530000001, 386.740475, 519.3301610000001, 497.392052, 649.873332, 744.988922, 668.2834330000001, 500.89181500000007, 652.960192, 742.342854, 763.100739, 1155.279873, 778.0, 1180.7820279999999, 904.033975, 1169.2625679999999, 1169.3109980000002, 1279.571494, 597.282842, 616.131234, 543.896511, 479.696587, 566.528573, 552.731709, 492.867115, 230.566623, 183.888647, 135.30895900000002, 149.60002, 164.169779, 297.13712599999997, 281.05397999999997, 260.974143, 139.363894, 123.74818799999998, 149.563691, 158.138886, 129.810031, 153.46963799999997, 135.111276, 87.115392, 116.43660600000001, 98.832842, 90.062411, 92.868701, 211.77295099999998, 254.06143799999998, 347.56262000000004, 214.0, 240.248689, 117.660504, 164.71856100000002, 182.354718, 212.655284, 148.424576, 136.73313100000001, 34.867529, 53.242718, 55.200251, 204.46522, 146.499874, 179.366547, 180.40024499999998, 219.605798, 31.426563, 93.78766, 59.295015, 60.512186, 124.787149, 69.570252, 4.721188, 20.567563, 30.748447, 7.766367, 7.075753999999999, 94.376635, 82.428951, 241.183857, 202.546577, 194.116618, 212.762233, 206.764466, 197.69651000000002, 195.88669099999998, 211.16105699999997, 252.07832599999998, 219.64920800000002, 260.362748, 309.86055899999997, 333.006614, 274.817635, 309.204001, 250.174953, 328.09429500000005, 291.080871, 263.525702, 265.429713, 249.84459500000003, 278.98556099999996, 179.61868700000002, 195.954498, 200.351115, 195.926199, 187.836834, 193.070206, 184.740166, 187.0, 193.105928, 161.34294599999998, 194.433993, 179.45843100000002, 146.20046200000002, 155.98657, 221.04382400000003, 201.864614, 198.61160800000002, 208.428319, 260.985741, 230.620198, 200.299568, 208.03179599999999, 322.467549, 242.799073, 375.73371000000003, 224.059596, 259.77326600000004, 226.449924, 213.854885, 335.488923, 261.459793, 307.619093, 212.923796, 318.112075, 272.15846400000004, 247.62337799999997, 215.80200499999998, 205.334554, 308.53494900000004, 225.483648, 206.628604, 226.428143, 224.477189, 205.464169, 209.446258, 291.710527, 430.36849000000007, 297.442949, 323.80980800000003, 286.679382, 210.226213, 280.005731, 231.965557, 292.584917, 182.473145, 140.286691, 223.967102, 316.027043, 316.468547, 311.133464, 304.295662, 291.865921, 268.73341400000004, 256.993742, 273.279609, 191.155955, 281.726494, 61.591184, 74.955393, 143.769815, 240.694567, 308.316846, 267.478888, 225.338918, 243.170983, 229.11078199999997, 127.68516799999999, 138.852119, 143.696574, 142.19292, 137.822632, 143.183922, 188.45886299999998, 163.62604199999998, 171.463006, 184.137111, 173.384917, 160.893215, 187.478612, 188.131403, 171.015349, 155.958921, 121.089219, 165.702346, 167.026905, 136.329855, 130.096003, 165.816518, 172.56186399999999, 190.73754, 215.360667, 183.52751899999998, 45.27407, 21.922864, 18.044567, 27.207154, 49.185602, 44.662440000000004, 118.563322, 237.370881, 271.454497, 203.671932, 186.99326200000002, 189.894119, 189.77728100000002, 212.790816, 225.659141, 233.534223, 237.191437, 235.17479100000003, 234.295875, 259.028369, 238.74892599999998, 267.413375, 199.748091, 197.594309, 197.459583, 230.17953300000002, 253.517688, 219.243663, 307.572389, 264.122642, 332.07261800000003, 240.726074, 186.277175, 219.081652, 310.690285, 325.210075, 309.796692, 241.013317, 232.82461099999998, 159.913451, 97.95029, 102.565559, 123.05070400000001, 114.170773, 162.985751, 173.759178, 122.568126, 214.44337799999997, 162.229871, 225.205904, 205.684659, 247.517296, 73.28394, 76.858053, 109.73159299999999, 292.17765499999996, 278.35288399999996, 52.02452, 41.049157, 136.793104, 8.715369, 37.443895, 10.946513000000001, 34.324201, 50.085322999999995, 36.397523, 29.735777000000002, 23.812176, 25.695128, 28.952482, 21.4255, 41.116124, 6.617824000000001, 9.182089999999999, 18.010237, 22.126481, 92.517065, 91.04881, 27.89677, 15.343044, 7.142811999999999, 375.317781, 346.407443, 434.128617, 797.3761519999999, 890.7866740000001, 826.578026, 698.246951, 330.960519, 329.436131, 334.953156, 331.9901, 328.595148, 326.97029100000003, 326.329064, 326.832455, 326.309592, 326.0, 327.889872, 323.298836, 323.375063, 321.58626, 322.68588700000004, 322.903074, 326.745983, 324.471051, 324.47226, 325.189636, 328.717859, 323.741763, 326.75554700000004, 481.221812, 563.060025, 537.077012, 507.77597000000003, 795.892739, 872.1105759999999, 908.343957, 474.86467999999996, 908.254084, 702.212708, 870.6030939999999, 509.67584800000003, 509.23735300000004, 542.9154589999999, 535.847127, 528.587714, 554.16125, 902.821291, 769.942726, 788.671301, 820.158741, 560.535604, 542.602517, 459.39419000000004, 534.977707, 512.786305, 620.243, 478.999565, 544.006314, 510.73772699999995, 538.636716, 487.81554000000006, 451.0, 611.515584, 577.6369440000001, 393.85247599999997, 376.65583, 367.595408, 323.519535, 381.238088, 420.768723, 334.438571, 847.446809, 859.5001609999999, 973.470855, 984.7351859999999, 949.3727130000001, 973.398808, 979.0768609999999, 772.8329209999999, 759.177568, 701.763918, 730.438549, 923.1781550000001, 891.337801, 831.102589, 761.378381, 751.403574, 784.580833, 763.091357, 1045.933824, 997.0635789999999, 995.0053630000001, 954.104258, 926.7146, 907.7632779999999, 923.5408050000001, 980.525903, 894.791649, 939.974926, 936.5290050000001, 461.28550599999994, 400.179889, 504.945757, 522.8521929999999, 505.71754599999997, 520.6257519999999, 497.856947, 498.20174699999995, 458.00150599999995, 434.452566, 438.327149, 729.841321, 547.464434, 483.18019400000003, 757.697436, 357.528095, 572.29076, 725.46371, 690.266599, 701.569481, 643.8744839999999, 663.176867, 676.12258, 689.155674, 701.444958, 827.34032, 641.1171780000001, 172.497384, 127.20222199999999, 396.42995099999996, 19.451707, 119.11068200000001, 13.199342000000001, 265.093663, 323.45176000000004, 288.263423, 263.16076499999997, 274.972439, 290.562613, 294.77155899999997, 276.107746, 292.618837, 284.934439, 288.695025, 275.205325, 64.070763, 214.88209300000003, 440.051079, 549.22818, 425.502229, 34.035697, 174.863407, 174.928404, 5.654432, 23.634726, 41.235985, 26.163664, 273.577697, 301.142883, 468.286821, 7.524091, 54.555776, 10.87902, 489.39869400000003, 1118.1851900000001, 808.215148, 658.315171, 18.13486, 37.487774, 831.246405, 542.741792, 91.77532099999999, 24.888144, 11.066897, 23.63348, 17.392959, 120.608254, 118.702059, 133.10990800000002, 100.142729, 132.221074, 91.72212900000001, 19.603884, 12.882203, 800.676063, 22.894032, 16.8868, 12.214689, 54.666314, 901.591786, 546.598862, 693.592969, 647.2333940000001, 135.906201, 4.444841, 34.712589, 687.583205, 792.79498, 585.604245, 68.351566, 332.02638199999996, 66.480621, 318.679547, 561.193471, 543.468549, 571.650864, 581.271784, 580.3370620000001, 589.691575, 584.979876, 585.009604, 521.312403, 483.752675, 316.797975, 424.42043099999995, 158.995836, 215.152037, 166.599932, 425.301814, 178.061281, 181.774158, 158.344737, 135.404778, 159.408981, 330.33985, 654.5540110000001, 690.5021849999999, 533.163498, 626.015838, 348.37684, 334.234098, 277.237167, 301.354374, 400.714188, 468.5026730000001, 182.74597, 173.744378, 181.37891299999998, 377.450688, 421.573391, 493.07799500000004, 545.328241, 322.19883500000003, 287.688991, 280.75313, 294.545425, 261.0, 223.130934, 237.376169, 226.445538, 226.17933, 278.332337, 253.04837999999998, 188.522907, 242.61374300000003, 158.602147, 161.55098600000002, 323.08315899999997, 286.778557, 277.44712000000004, 218.89010499999998, 156.895515, 380.886416, 429.271653, 430.602917, 292.6307, 525.9536360000001, 507.889859, 490.067967, 547.294117, 459.34855899999997, 456.128963, 471.885363, 409.541906, 477.36887800000005, 463.157578, 451.285833, 457.111671, 454.854282, 472.139445, 440.345045, 412.23013199999997, 415.087232, 457.15212, 402.017743, 407.09776600000004, 427.01097699999997, 436.24561900000003, 394.497529, 397.874869, 417.400226, 408.5579, 453.52664599999997, 480.85615700000005, 442.05133600000005, 439.60754800000007, 510.348305, 510.047025, 461.03418600000003, 427.45956399999994, 404.842582, 393.126349, 413.197282, 379.71738500000004, 434.90401299999996, 404.008644, 406.14149100000003, 402.151112, 560.480061, 563.067503, 564.353365, 460.043113, 725.0923230000001, 455.040301, 296.495809, 461.930584, 168.620692, 480.42845800000003, 636.899045, 632.0, 587.234804, 556.969345, 622.922149, 502.735212, 550.3387769999999, 481.44611799999996, 606.8353860000001, 508.14226799999994, 474.018581, 383.01851400000004, 366.371954, 374.338933, 567.84443, 423.24561600000004, 353.694449, 467.21157400000004, 442.510163, 315.447398, 478.997816, 280.822149, 303.605127, 317.015767, 326.145609, 311.3081, 303.10097, 333.0, 332.0, 325.075829, 296.515759, 313.508573, 309.368385, 287.553471, 396.263648, 409.56735299999997, 617.080726, 260.22437, 231.58819300000002, 251.60483900000003, 228.749348, 316.267649, 421.929845, 271.499416, 301.30742999999995, 300.740922, 293.205873, 412.060477, 243.39527999999999, 233.84329, 273.007551, 263.77759, 295.505085, 299.42721800000004, 268.679548, 264.456969, 270.40504, 253.897995, 262.698171, 264.735581, 247.30253199999999, 302.11717999999996, 257.567364, 248.215128, 314.470103, 274.968166, 265.77721, 274.925297, 250.792767, 555.0, 477.793495, 425.27131299999996, 417.629623, 399.60562000000004, 408.667214, 279.598015, 284.931887, 297.446037, 421.25739100000004, 603.123815, 531.150896, 318.630482, 313.14534100000003, 306.786872, 318.763574, 312.98851099999996, 314.291055, 327.510533, 274.138558, 159.581342, 190.572954, 242.996086, 264.098665, 180.66182, 305.681885, 288.910509, 306.03792799999997, 290.985779, 397.663163, 396.345083, 654.989221, 669.082647, 645.8609690000001, 606.088588, 623.5665759999999, 579.068345, 607.2414269999999, 558.5608480000001, 333.993117, 657.3672429999999, 637.794897, 678.847853, 679.909386, 737.442308, 596.8143570000001, 611.108562, 584.3750719999999, 649.280975, 251.87858300000002, 255.17363999999998, 695.6689, 547.762531], \"coloraxis\": \"coloraxis\"}, \"mode\": \"markers+text\", \"name\": \"\", \"showlegend\": false, \"subplot\": \"mapbox\", \"text\": [\"ALDEIA IND\\u00cdGENA SURU\\u00cd - LINHA 14\", \"ALDEIA IND\\u00cdGENA - LINHA 14\", \"ALDEIA IND\\u00cdGENA - LINHA 12\", \"ALDEIA IND\\u00cdGENA - LINHA 11\", \"ALDEIA IND\\u00cdGENA - LINHA 10\", \"ALDEIA IND\\u00cdGENA - LINHA 9\", \"ALDEIA IND\\u00cdGENA - LINHA 8\", \"POSTO IND\\u00cdGENA SANTO ANDR\\u00c9\", \"POSTO IND\\u00cdGENA TANAJURA\", \"ALDEIA IND\\u00cdGENA TI KAXINAUA SERINGAL DO CURRALINHO\", \"ALDEIA IND\\u00cdGENA TI NAWA\", \"ALDEIA IND\\u00cdGENA TI MANCHINERI DO SERINGAL GUANABARA\", \"ALDEIA IND\\u00cdGENA JAMINAWA DO RIO CAET\\u00c9\", \"ALDEIA IND\\u00cdGENA KAXINAW\\u00c1 SERINGAL CURRALINHO\", \"MARAJ\\u00c1\", \"ALDEIA IND\\u00cdGENA IGARAP\\u00c9 GRANDE\", \"ALDEIA IND\\u00cdGENA M\\u00c9RIA\", \"ALDEIA IND\\u00cdGENA M\\u00c9RIA II\", \"ALDEIA IND\\u00cdGENA CANIMAR\\u00da\", \"ALDEIA IND\\u00cdGENA BOM PASTOR\", \"ALDEIA IND\\u00cdGENA NOVA GALIL\\u00c9IA\", \"ALDEIA IND\\u00cdGENA SANTO IN\\u00c1CIO\", \"ALDEIA IND\\u00cdGENA VILA TAMBAQUI\", \"ALDEIA IND\\u00cdGENA NOVA ALEGRIA\", \"ALDEIA IND\\u00cdGENA UMARIRANA\", \"ALDEIA IND\\u00cdGENA NOVA ESPERAN\\u00c7A\", \"ALDEIA IND\\u00cdGENA S\\u00c3O FRANCISCO DO CANIMARI\", \"ALDEIA IND\\u00cdGENA MARAIT\\u00c1\", \"ALDEIA IND\\u00cdGENA PALMEIRA DO NORTE\", \"ALDEIA IND\\u00cdGENA S\\u00c3O JOS\\u00c9\", \"ALDEIA IND\\u00cdGENA EWARE\", \"ALDEIA IND\\u00cdGENA SANTA LUZIA\", \"ALDEIA IND\\u00cdGENA CURUBUS\", \"ALDEIA IND\\u00cdGENA MAIURUNAS I\", \"ALDEIA IND\\u00cdGENA MAIURUNAS II\", \"ALDEIA IND\\u00cdGENA IRARI\", \"ALDEIA IND\\u00cdGENA S\\u00c3O LU\\u00cdS\", \"ALDEIA IND\\u00cdGENA FLORES VELHA\", \"ALDEIA IND\\u00cdGENA MAIA\", \"ALDEIA IND\\u00cdGENA FLORES\", \"ALDEIA IND\\u00cdGENA PEDRO LOPES\", \"ALDEIA IND\\u00cdGENA FRUTA P\\u00c3O\", \"ALDEIA IND\\u00cdGENA TERRINHA\", \"ALDEIA IND\\u00cdGENA SOLES\", \"ALDEIA IND\\u00cdGENA JAQUIRANA\", \"ALDEIA IND\\u00cdGENA PIN LOBO\", \"ALDEIA IND\\u00cdGENA VOLTA GRANDE\", \"ALDEIA IND\\u00cdGENA MALOCA DO PAULINHO\", \"ALDEIA IND\\u00cdGENA S\\u00c3O SEBASTI\\u00c3O\", \"ALDEIA IND\\u00cdGENA MORADA NOVA\", \"ALDEIA IND\\u00cdGENA PIN MARONAL\", \"ALDEIA IND\\u00cdGENA ALEGRIA\", \"ALDEIA IND\\u00cdGENA PRAIA\", \"ALDEIA IND\\u00cdGENA VIDA NOVA\", \"ALDEIA IND\\u00cdGENA CARNEIRO\", \"ALDEIA IND\\u00cdGENA LIBERDADE\", \"ALDEIA IND\\u00cdGENA MARCIO LIMA\", \"ALDEIA IND\\u00cdGENA PAULINHO\", \"ALDEIA IND\\u00cdGENA PARAN\\u00c1\", \"ALDEIA IND\\u00cdGENA AGUA BRANCA\", \"ALDEIA IND\\u00cdGENA PENTIAQUINO\", \"ALDEIA IND\\u00cdGENA RIO NOVO\", \"ALDEIA IND\\u00cdGENA AUR\\u00c9LIO\", \"ALDEIA IND\\u00cdGENA BEIJA\", \"ALDEIA IND\\u00cdGENA LAMEIR\\u00c3O\", \"ALDEIA IND\\u00cdGENA S\\u00c3O RAIMUNDO\", \"ALDEIA IND\\u00cdGENA SANTA TEREZA\", \"ALDEIA IND\\u00cdGENA JABURU\", \"ALDEIA IND\\u00cdGENA PIRAPITINGA\", \"ALDEIA IND\\u00cdGENA PALMARI\", \"ALDEIA IND\\u00cdGENA FRENTE DE PROTE\\u00c7\\u00c3O ETNOA\", \"ALDEIA IND\\u00cdGENA VALENCIA\", \"ALDEIA IND\\u00cdGENA REMANCINHO\", \"ALDEIA IND\\u00cdGENA ESTREITO\", \"ALDEIA IND\\u00cdGENA PANEMA\", \"ALDEIA IND\\u00cdGENA ARARA\", \"ALDEIA IND\\u00cdGENA BEIJA FLOR\", \"ALDEIA IND\\u00cdGENA MASSAP\\u00ca\", \"ALDEIA IND\\u00cdGENA ARROMBADO\", \"ALDEIA IND\\u00cdGENA KUMARU\", \"ALDEIA IND\\u00cdGENA PARACUUBA\", \"ALDEIA IND\\u00cdGENA PADRE\", \"ALDEIA IND\\u00cdGENA S\\u00c3O PEDRO\", \"ALDEIA IND\\u00cdGENA TRINCHEIRA\", \"ALDEIA IND\\u00cdGENA NATAL\", \"ALDEIA IND\\u00cdGENA CUIA\", \"ALDEIA IND\\u00cdGENA TI GUAPENU\", \"ALDEIA IND\\u00cdGENA S\\u00c3O FELIX\", \"ALDEIA IND\\u00cdGENA LIM\\u00c3O\", \"ALDEIA IND\\u00cdGENA JOSEFA\", \"ALDEIA IND\\u00cdGENA TI MURATUBA\", \"ALDEIA IND\\u00cdGENA TI CAPIVARA\", \"ALDEIA IND\\u00cdGENA PANTALE\\u00c3O\", \"ALDEIA IND\\u00cdGENA TI PONCIANO\", \"ALDEIA IND\\u00cdGENA PATAU\\u00c1\", \"ALDEIA IND\\u00cdGENA TI MURITINGA\", \"ALDEIA IND\\u00cdGENA TI JAUARY\", \"ALDEIA IND\\u00cdGENA COMIXIPIWEI\", \"ALDEIA IND\\u00cdGENA ETEWEXIBIWEI\", \"ALDEIA IND\\u00cdGENA DEMINI\", \"ALDEIA IND\\u00cdGENA RAXASI\", \"ALDEIA IND\\u00cdGENA WANABIU\", \"ALDEIA IND\\u00cdGENA LAHARABI\", \"ALDEIA IND\\u00cdGENA COHEREBI\", \"ALDEIA IND\\u00cdGENA MARAXIBORA\", \"ALDEIA IND\\u00cdGENA CAXITAL\", \"ALDEIA IND\\u00cdGENA ABIAHIK\", \"ALDEIA IND\\u00cdGENA KOIOBI\", \"VILA MOLONGOTUBA\", \"VILA PONTA ALEGRE\", \"ALDEIA IND\\u00cdGENA GUARANATUBA\", \"ALDEIA IND\\u00cdGENA ARATICUM\", \"ALDEIA IND\\u00cdGENA BOA VISTA\", \"ALDEIA IND\\u00cdGENA S\\u00c3O JOS\\u00c9\", \"ALDEIA IND\\u00cdGENA MIRITUBA\", \"ALDEIA IND\\u00cdGENA TABATINGA\", \"ALDEIA IND\\u00cdGENA LIMOAL\", \"ALDEIA IND\\u00cdGENA PONTA ALTA\", \"ALDEIA IND\\u00cdGENA SIM\\u00c3O\", \"ALDEIA IND\\u00cdGENA BEM-TE-VI\", \"ALDEIA IND\\u00cdGENA S\\u00c3O GABRIEL\", \"ALDEIA IND\\u00cdGENA F\\u00c9 EM DEUS\", \"ALDEIA IND\\u00cdGENA NOVO RETIRO\", \"ALDEIA IND\\u00cdGENA NOVA SATER\\u00c9\", \"ALDEIA IND\\u00cdGENA NOVA UNI\\u00c3O\", \"ALDEIA IND\\u00cdGENA CASTANHAL\", \"ALDEIA IND\\u00cdGENA SANTA F\\u00c9\", \"ALDEIA IND\\u00cdGENA S\\u00c3O JO\\u00c3O\", \"ALDEIA IND\\u00cdGENA FEIJOAL\", \"ALDEIA IND\\u00cdGENA LAURO SODR\\u00c9\", \"ALDEIA IND\\u00cdGENA S\\u00c3O JO\\u00c3O DE VENEZA\", \"ALDEIA IND\\u00cdGENA GUANABARA III\", \"ALDEIA IND\\u00cdGENA PORTO ESPIRITUAL\", \"ALDEIA IND\\u00cdGENA S\\u00c3O LUIS\", \"ALDEIA IND\\u00cdGENA NOVA VIDA\", \"ALDEIA IND\\u00cdGENA NOVO ORIENTE\", \"ALDEIA IND\\u00cdGENA NOVA TERRA\", \"ALDEIA IND\\u00cdGENA GUANABARA II\", \"ALDEIA IND\\u00cdGENA S\\u00c3O SEBASTI\\u00c3O\", \"ALDEIA IND\\u00cdGENA NOVA UNI\\u00c3O\", \"ALDEIA IND\\u00cdGENA CIDADE NOVA\", \"ALDEIA IND\\u00cdGENA SANTO ANTONIO\", \"ALDEIA IND\\u00cdGENA NOVA ALIAN\\u00c7A\", \"ALDEIA IND\\u00cdGENA BOM PASTOR I\", \"ALDEIA IND\\u00cdGENA S\\u00c3O LEOPOLDO\", \"ALDEIA IND\\u00cdGENA NOVO PORTO LIMA\", \"ALDEIA IND\\u00cdGENA S\\u00c3O FRANCISCO\", \"ALDEIA IND\\u00cdGENA BANANEIRA\", \"ALDEIA IND\\u00cdGENA SANTA RITA\", \"ALDEIA IND\\u00cdGENA NOVO PARA\\u00cdSO\", \"ALDEIA IND\\u00cdGENA CORDEIRO\", \"ALDEIA IND\\u00cdGENA ALZIRA\", \"ALDEIA IND\\u00cdGENA BOM INTENTO\", \"ALDEIA IND\\u00cdGENA FILAD\\u00c9LFIA\", \"ALDEIA IND\\u00cdGENA BOM CAMINHO\", \"ALDEIA IND\\u00cdGENA TR\\u00caS BOCAS\", \"ALDEIA IND\\u00cdGENA PORTO CORDEIRINHO\", \"ALDEIA IND\\u00cdGENA BOA SORTE\", \"ALDEIA IND\\u00cdGENA SUUMA\", \"ALDEIA IND\\u00cdGENA TERRA NOVA\", \"ALDEIA IND\\u00cdGENA VILA NOVA\", \"ALDEIA IND\\u00cdGENA JOARI\", \"ALDEIA IND\\u00cdGENA TERRA VERMELHA\", \"ALDEIA IND\\u00cdGENA NOSSA SENHORA DE F\\u00c1TIMA\", \"ALDEIA IND\\u00cdGENA ITABOCA\", \"ALDEIA IND\\u00cdGENA KAMICU\\u00c3\", \"ALDEIA IND\\u00cdGENA TI LAGO DO LIM\\u00c3O\", \"ALDEIA IND\\u00cdGENA ARARY\", \"ALDEIA IND\\u00cdGENA BOCA DO ARARY\", \"ALDEIA IND\\u00cdGENA LAGUINHO\", \"ALDEIA IND\\u00cdGENA LARANJAL\", \"ALDEIA IND\\u00cdGENA MUCAJ\\u00c1\", \"ALDEIA IND\\u00cdGENA SORVAL\", \"ALDEIA IND\\u00cdGENA VARRE VENTO\", \"ALDEIA IND\\u00cdGENA VILA BATISTA\", \"ALDEIA IND\\u00cdGENA VILA NOVA\", \"ALDEIA IND\\u00cdGENA PARAN\\u00c1\", \"ALDEIA IND\\u00cdGENA KWATA\", \"ALDEIA IND\\u00cdGENA FRONTEIRAS\", \"ALDEIA IND\\u00cdGENA ARU\", \"ALDEIA IND\\u00cdGENA COBRAS\", \"ALDEIA IND\\u00cdGENA NITER\\u00d3I\", \"ALDEIA IND\\u00cdGENA MAM\\u00c1\", \"ALDEIA IND\\u00cdGENA SAPUCAIA\", \"ALDEIA IND\\u00cdGENA TAPAGEM\", \"ALDEIA IND\\u00cdGENA DO FORNO\", \"ALDEIA IND\\u00cdGENA PIRANHA\", \"ALDEIA IND\\u00cdGENA PACOV\\u00c3\", \"ALDEIA IND\\u00cdGENA BANAWA\", \"ALDEIA IND\\u00cdGENA VISTA ALEGRE\", \"ALDEIA IND\\u00cdGENA MAMORI\", \"ALDEIA IND\\u00cdGENA MARINHEIRO\", \"ALDEIA IND\\u00cdGENA JUMA\", \"ALDEIA IND\\u00cdGENA BOA VISTA\", \"ALDEIA IND\\u00cdGENA JUTA\\u00cd\", \"ALDEIA IND\\u00cdGENA CESSAINA\", \"ALDEIA IND\\u00cdGENA JABUTI\", \"ALDEIA IND\\u00cdGENA CAJUHIRI ATRAVESSADO\", \"ALDEIA IND\\u00cdGENA SANTA RITA\", \"ALDEIA IND\\u00cdGENA MAMORI\", \"ALDEIA IND\\u00cdGENA S\\u00c3O MIGUEL\", \"ALDEIA IND\\u00cdGENA FORTALEZA\", \"ALDEIA IND\\u00cdGENA S\\u00c3O JO\\u00c3O\", \"ALDEIA IND\\u00cdGENA SAB\\u00d3IA\", \"ALDEIA IND\\u00cdGENA BOLA\", \"ALDEIA IND\\u00cdGENA S\\u00c3O JOS\\u00c9 DE BAIXO\", \"ALDEIA IND\\u00cdGENA S\\u00c3O JOS\\u00c9 DE CIMA\", \"ALDEIA IND\\u00cdGENA ESTIR\\u00c3O KULINA\", \"ALDEIA IND\\u00cdGENA ESTIR\\u00c3O DE BAIXO\", \"ALDEIA IND\\u00cdGENA MANDUCA\", \"ALDEIA IND\\u00cdGENA TORRE DA LUA\", \"ALDEIA IND\\u00cdGENA BOA VISTA\", \"ALDEIA IND\\u00cdGENA PARAN\\u00c1\", \"ALDEIA IND\\u00cdGENA PORTO VELHO\", \"ALDEIA IND\\u00cdGENA DEGREDO\", \"ALDEIA IND\\u00cdGENA BA\\u00da VELHO\", \"ALDEIA IND\\u00cdGENA BA\\u00da NOVO\", \"ALDEIA IND\\u00cdGENA CACHORRO\", \"ALDEIA IND\\u00cdGENA SOSSEGO\", \"ALDEIA IND\\u00cdGENA PRAIA SECA\", \"ALDEIA IND\\u00cdGENA S\\u00c3O VICENTE\", \"ALDEIA IND\\u00cdGENA MATRINCH\\u00c3\", \"ALDEIA IND\\u00cdGENA IGARAP\\u00c9 GRANDE\", \"ALDEIA IND\\u00cdGENA CACAU\", \"ALDEIA IND\\u00cdGENA LONTRA NOVO\", \"ALDEIA IND\\u00cdGENA LONTRA VELHO\", \"ALDEIA IND\\u00cdGENA TERRA FIRME\", \"ALDEIA IND\\u00cdGENA TERRA NOVA\", \"ALDEIA IND\\u00cdGENA ARUIAN\\u00c3\", \"ALDEIA IND\\u00cdGENA TR\\u00caS BOCAS\", \"ALDEIA IND\\u00cdGENA KULINA DO MACAP\\u00c1\", \"ALDEIA IND\\u00cdGENA ALEGRIA\", \"ALDEIA IND\\u00cdGENA ACAPURI DO MEIO\", \"ALDEIA IND\\u00cdGENA ACAPURI DE CIMA\", \"ALDEIA IND\\u00cdGENA ACAPURI DE BAIXO\", \"ALDEIA IND\\u00cdGENA TENHARIM-TRANSAMAZ\\u00d4NICA\", \"ALDEIA IND\\u00cdGENA JIRHOY\", \"ALDEIA IND\\u00cdGENA BOA VISTA\", \"ALDEIA IND\\u00cdGENA MEDONHO\", \"ALDEIA IND\\u00cdGENA PUEIRA\", \"ALDEIA IND\\u00cdGENA JAR\\u00c9\", \"ALDEIA IND\\u00cdGENA QUATRO BOCAS\", \"ALDEIA IND\\u00cdGENA PIAU\", \"ALDEIA IND\\u00cdGENA TIQUARA\", \"ALDEIA IND\\u00cdGENA VALPARA\\u00cdSO\", \"ALDEIA IND\\u00cdGENA PENEDO\", \"ALDEIA IND\\u00cdGENA BOCA XURIMAN\", \"ALDEIA IND\\u00cdGENA TERRA NOVA\", \"ALDEIA IND\\u00cdGENA RESEMAN\", \"ALDEIA IND\\u00cdGENA BUZINA\", \"ALDEIA IND\\u00cdGENA MORADA NOVA\", \"ALDEIA IND\\u00cdGENA BOIADOR\", \"ALDEIA IND\\u00cdGENA PATOA\", \"ALDEIA IND\\u00cdGENA ITA\\u00daBA\", \"ALDEIA IND\\u00cdGENA RESEMA\", \"ALDEIA IND\\u00cdGENA S\\u00c3O JOAQUIM\", \"ALDEIA IND\\u00cdGENA ABACATAL\", \"ALDEIA IND\\u00cdGENA JUTA\\u00cd\", \"ALDEIA IND\\u00cdGENA JEREMIAS\", \"ALDEIA IND\\u00cdGENA S\\u00c3O JOS\\u00c9 DO APAPORIS\", \"ALDEIA IND\\u00cdGENA CLEUSA\", \"ALDEIA IND\\u00cdGENA JAPIIM\", \"ALDEIA IND\\u00cdGENA CASTANHEIRA\", \"ALDEIA IND\\u00cdGENA SANTA RITA\", \"ALDEIA IND\\u00cdGENA PAUIPIXUNA\", \"ALDEIA IND\\u00cdGENA BOCA DO ACRE\", \"ALDEIA IND\\u00cdGENA ESP\\u00cdRITO SANTO\", \"ALDEIA IND\\u00cdGENA NOVO PROGRESSO\", \"ALDEIA IND\\u00cdGENA BUGAIO\", \"ALDEIA IND\\u00cdGENA BOA VISTA\", \"ALDEIA IND\\u00cdGENA SANTA F\\u00c9\", \"ALDEIA IND\\u00cdGENA BACABAL\", \"ALDEIA IND\\u00cdGENA CASTANHAL\", \"ALDEIA IND\\u00cdGENA GATO\", \"ALDEIA IND\\u00cdGENA SAMPAIO\", \"ALDEIA IND\\u00cdGENA ARIRAMBA\", \"ALDEIA IND\\u00cdGENA S\\u00c3O LUIZ\", \"ALDEIA IND\\u00cdGENA JARINAL\", \"ALDEIA IND\\u00cdGENA QUEIMADA\", \"ALDEIA IND\\u00cdGENA JAPIIM\", \"ALDEIA IND\\u00cdGENA CLEUSA\", \"ALDEIA IND\\u00cdGENA CASTANHEIRA\", \"ALDEIA IND\\u00cdGENA SANTA RITA\", \"ALDEIA IND\\u00cdGENA S\\u00c3O CLEMENTE\", \"ALDEIA IND\\u00cdGENA ESTIR\\u00c3O\", \"ALDEIA IND\\u00cdGENA CRISPIM\", \"ALDEIA IND\\u00cdGENA NOVA FORTALEZA\", \"ALDEIA IND\\u00cdGENA VISTA ALEGRE\", \"ALDEIA IND\\u00cdGENA ARA\\u00c7\\u00c1\", \"ALDEIA IND\\u00cdGENA \\u00c1GUA BRANCA\", \"ALDEIA IND\\u00cdGENA AJURICABA\", \"ALDEIA IND\\u00cdGENA CASA NOVA\", \"ALDEIA IND\\u00cdGENA S\\u00c3O FRANCISCO\", \"ALDEIA IND\\u00cdGENA PAUZINHO\", \"ALDEIA IND\\u00cdGENA CANUARU\", \"ALDEIA IND\\u00cdGENA VINHAS\", \"ALDEIA IND\\u00cdGENA MAERIENE\", \"ALDEIA IND\\u00cdGENA KANACURI\", \"ALDEIA IND\\u00cdGENA ALTO SAPATINE\", \"ALDEIA IND\\u00cdGENA MORADA\", \"ALDEIA IND\\u00cdGENA S\\u00c3O PEDRO\", \"ALDEIA IND\\u00cdGENA TR\\u00caS BOCAS\", \"ALDEIA IND\\u00cdGENA BOA ESPERAN\\u00c7A\", \"ALDEIA IND\\u00cdGENA INDEPEND\\u00caNCIA\", \"ALDEIA IND\\u00cdGENA LAGO DOS BAETAS\", \"ALDEIA IND\\u00cdGENA BOA ESPERAN\\u00c7A\", \"ALDEIA IND\\u00cdGENA ITA\\u00daBA\", \"ALDEIA IND\\u00cdGENA TERRA PRETA DO JAUARI\", \"ALDEIA IND\\u00cdGENA SANTA CRUZ\", \"ALDEIA IND\\u00cdGENA VISTA ALEGRE I\", \"ALDEIA IND\\u00cdGENA VISTA ALEGRE II\", \"ALDEIA IND\\u00cdGENA PONTA NATAL\", \"ALDEIA IND\\u00cdGENA TERRA PRETA\", \"ALDEIA IND\\u00cdGENA TAUARI\", \"ALDEIA IND\\u00cdGENA BOA UNI\\u00c3O\", \"ALDEIA IND\\u00cdGENA CARACARA\\u00cd\", \"ALDEIA IND\\u00cdGENA GARROTE\", \"ALDEIA IND\\u00cdGENA PUPUNHA\", \"ALDEIA IND\\u00cdGENA PALMEIRAS\", \"ALDEIA IND\\u00cdGENA VILA NOVA I\", \"ALDEIA IND\\u00cdGENA VILA NOVA II\", \"ALDEIA IND\\u00cdGENA S\\u00c3O JOS\\u00c9 DO CUIU-CUIU\", \"ALDEIA IND\\u00cdGENA SANTO S\\u00c3O PEDRO\", \"ALDEIA IND\\u00cdGENA NOVA ESTRELA\", \"ALDEIA IND\\u00cdGENA PATAU\\u00c1\", \"ALDEIA IND\\u00cdGENA S\\u00c3O FRANCISCO\", \"ALDEIA IND\\u00cdGENA BELO HORIZONTE\", \"ALDEIA IND\\u00cdGENA MONTE OREBE\", \"ALDEIA IND\\u00cdGENA S\\u00c3O BENTO\", \"ALDEIA IND\\u00cdGENA S\\u00c3O PEDRO\", \"ALDEIA IND\\u00cdGENA VALE DO QUINHA\", \"ALDEIA IND\\u00cdGENA BRASIL\\u00c9IA\", \"ALDEIA IND\\u00cdGENA SENHORA DE NAZAR\\u00c9\", \"ALDEIA IND\\u00cdGENA S\\u00c3O SEBASTI\\u00c3O\", \"ALDEIA IND\\u00cdGENA MENINO DE DEUS\", \"ALDEIA IND\\u00cdGENA SANTA MARIA\", \"ALDEIA IND\\u00cdGENA VILA NOVA II\", \"ALDEIA IND\\u00cdGENA S\\u00c3O BONIF\\u00c1CIO\", \"ALDEIA IND\\u00cdGENA MARAU NOVO\", \"ALDEIA IND\\u00cdGENA NOVA ALDEIA\", \"ALDEIA IND\\u00cdGENA SANTA F\\u00c9\", \"ALDEIA IND\\u00cdGENA SANTA ISABEL\", \"ALDEIA IND\\u00cdGENA SANTO \\u00c2NGELO\", \"ALDEIA IND\\u00cdGENA BARREIRINHA\", \"ALDEIA IND\\u00cdGENA VISTA ALEGRE\", \"ALDEIA IND\\u00cdGENA ILHA MIQUILES\", \"ALDEIA IND\\u00cdGENA S\\u00c3O JOS\\u00c9\", \"ALDEIA IND\\u00cdGENA S\\u00c3O JORGE\", \"ALDEIA IND\\u00cdGENA TERRA NOVA\", \"ALDEIA IND\\u00cdGENA NOVO REMANSO\", \"ALDEIA IND\\u00cdGENA NOVA LIBERDADE\", \"ALDEIA IND\\u00cdGENA ANTI\\u00d3QUIA II\", \"ALDEIA IND\\u00cdGENA SANTO ANT\\u00d4NIO\", \"ALDEIA IND\\u00cdGENA BOAS NOVAS\", \"ALDEIA IND\\u00cdGENA LIVRAMENTO I\", \"ALDEIA IND\\u00cdGENA SAGRADA FAM\\u00cdLIA\", \"ALDEIA IND\\u00cdGENA LIVRAMENTO II\", \"ALDEIA IND\\u00cdGENA NOVA AM\\u00c9RICA\", \"ALDEIA IND\\u00cdGENA NOVA ESPERAN\\u00c7A\", \"ALDEIA IND\\u00cdGENA NAZAR\\u00c9\", \"ALDEIA IND\\u00cdGENA VILA BATISTA\", \"ALDEIA IND\\u00cdGENA NOVA JERUSALEM\", \"ALDEIA IND\\u00cdGENA VILA DA PAZ\", \"ALDEIA IND\\u00cdGENA SAGRADO CORA\\u00c7\\u00c3O DE JESUS\", \"ALDEIA IND\\u00cdGENA MONTE SINAI\", \"ALDEIA IND\\u00cdGENA MONTE SAL\\u00c9M\", \"ALDEIA IND\\u00cdGENA MONTE DA BEN\\u00c7\\u00c3O\", \"ALDEIA IND\\u00cdGENA RIOZINHO\", \"ALDEIA IND\\u00cdGENA JUTA\\u00cd\", \"ALDEIA IND\\u00cdGENA KASAUNA\", \"ALDEIA IND\\u00cdGENA AREIA\", \"ALDEIA IND\\u00cdGENA NOVA GALIL\\u00c9IA\", \"ALDEIA IND\\u00cdGENA MONTE CARMELO\", \"ALDEIA IND\\u00cdGENA VILA ALEGRIA\", \"ALDEIA IND\\u00cdGENA VILA BATISTA\", \"ALDEIA IND\\u00cdGENA VILA DA PAZ\", \"ALDEIA IND\\u00cdGENA VILA S\\u00c3O FRANCISCO\", \"COMUNIDADE ARIAB\\u00da\", \"ALDEIA IND\\u00cdGENA KXAMATA\", \"ALDEIA IND\\u00cdGENA IAPAHANA\", \"ALDEIA IND\\u00cdGENA POHOROA\", \"ALDEIA IND\\u00cdGENA PUKIMA\", \"ALDEIA IND\\u00cdGENA RAIT\\u00c1\", \"ALDEIA IND\\u00cdGENA IXIM\\u00c3\", \"ALDEIA IND\\u00cdGENA IRAPAGE\", \"ALDEIA IND\\u00cdGENA KOMA\", \"ALDEIA IND\\u00cdGENA LAGO GRANDE\", \"ALDEIA IND\\u00cdGENA ILHA DE PORTO AM\\u00c9RICA\", \"ALDEIA IND\\u00cdGENA BOA VISTA DO LAGO GRANDE\", \"ALDEIA IND\\u00cdGENA PORTO NOVO\", \"ALDEIA IND\\u00cdGENA S\\u00c3O JO\\u00c3O\", \"ALDEIA IND\\u00cdGENA MONTE DAS OLIVEIRAS\", \"ALDEIA IND\\u00cdGENA S\\u00c3O JOS\\u00c9\", \"ALDEIA IND\\u00cdGENA MAPURUM\", \"ALDEIA IND\\u00cdGENA PATI\\u00c1\", \"ALDEIA IND\\u00cdGENA NOVO DIA\", \"ALDEIA IND\\u00cdGENA BOA VISTA DO IGARAP\\u00c9 MATINTIN\", \"ALDEIA IND\\u00cdGENA CANAD\\u00c1\", \"ALDEIA IND\\u00cdGENA JERUSAL\\u00c9M\", \"ALDEIA IND\\u00cdGENA TUNUI CACHOEIRA\", \"ALDEIA IND\\u00cdGENA TARAQUA\", \"ALDEIA IND\\u00cdGENA NOVA FUNDA\\u00c7\\u00c3O\", \"ALDEIA IND\\u00cdGENA BARREIRA III\", \"ALDEIA IND\\u00cdGENA VILA NOVA DO RIO XIE\", \"ALDEIA IND\\u00cdGENA TABOCAL DO MASSARABI\", \"ALDEIA IND\\u00cdGENA TAPEREIRA\", \"ALDEIA IND\\u00cdGENA ARURA\", \"ALDEIA IND\\u00cdGENA BOA VISTA\", \"ALDEIA IND\\u00cdGENA MATURAC\\u00c1\", \"ALDEIA IND\\u00cdGENA BALAIO\", \"ALDEIA IND\\u00cdGENA ANAMUIM RIO XIE\", \"ALDEIA IND\\u00cdGENA S\\u00c3O JOS\\u00c9 DE MARABITANA\", \"ALDEIA IND\\u00cdGENA TI PORTO REDEN\\u00c7\\u00c3O\", \"ALDEIA IND\\u00cdGENA NOVA ESTRELA DE NATAL\", \"ALDEIA IND\\u00cdGENA BOM JESUS DO CAMATI\\u00c3\", \"ALDEIA IND\\u00cdGENA DE CUAPU\", \"ALDEIA IND\\u00cdGENA NOSSA SENHORA DE NAZAR\\u00c9\", \"ALDEIA IND\\u00cdGENA VILA BAIA\", \"ALDEIA IND\\u00cdGENA S\\u00c3O JOS\\u00c9\", \"ALDEIA IND\\u00cdGENA NOVA UNI\\u00c3O\", \"ALDEIA IND\\u00cdGENA NOVA JORD\\u00c2NIA\", \"ALDEIA IND\\u00cdGENA BOM JESUS DO PASSE\", \"ALDEIA IND\\u00cdGENA PORTO NOVO\", \"ALDEIA IND\\u00cdGENA NOVA ESPERAN\\u00c7A DO JANDIATUBA\", \"ALDEIA IND\\u00cdGENA MONTE VERDE DO JANDIATUBA\", \"ALDEIA IND\\u00cdGENA MARCO DA REDEN\\u00c7\\u00c3O\", \"ALDEIA IND\\u00cdGENA FLORESTA AMAZ\\u00d4NICA\", \"ALDEIA IND\\u00cdGENA VENDAVAL\", \"CAMPO ALEGRE\", \"ALDEIA IND\\u00cdGENA PARAN\\u00c1-PARA I\", \"ALDEIA IND\\u00cdGENA NOVO PARA\\u00cdSO\", \"ALDEIA IND\\u00cdGENA MONTE SINAI DO CAMATI\\u00c3\", \"ALDEIA IND\\u00cdGENA SANTA IN\\u00caS\", \"ALDEIA IND\\u00cdGENA SANTA TEREZINHA\", \"ALDEIA IND\\u00cdGENA DEREGUIN\\u00ca\", \"ALDEIA IND\\u00cdGENA TORRE DA MISS\\u00c3O\", \"ALDEIA IND\\u00cdGENA S\\u00c3O DOMINGOS II\", \"UMARIA\\u00c7U\", \"ALDEIA IND\\u00cdGENA BEL\\u00c9M DO SOLIM\\u00d5ES\", \"ALDEIA IND\\u00cdGENA TI SAPOTAL\", \"ALDEIA IND\\u00cdGENA TAUAR\\u00da\", \"ALDEIA IND\\u00cdGENA BANANAL\", \"ALDEIA IND\\u00cdGENA UMARIA\\u00c7U I\", \"ALDEIA IND\\u00cdGENA NOSSA SENHORA DE APARECIDA\", \"ALDEIA IND\\u00cdGENA NOVA JERUSAL\\u00c9M\", \"ALDEIA IND\\u00cdGENA PENA PRETA\", \"ALDEIA IND\\u00cdGENA SANTA ROSA\", \"ALDEIA IND\\u00cdGENA NOVA EXTREMA\", \"ALDEIA IND\\u00cdGENA NOVO CRUZADOR\", \"ALDEIA IND\\u00cdGENA MONTE SINAI\", \"ALDEIA IND\\u00cdGENA ESTRELA DA PAZ\", \"ALDEIA IND\\u00cdGENA VILA BOA NOVA OURIQUE\", \"ALDEIA IND\\u00cdGENA VISTA ALEGRE\", \"ALDEIA IND\\u00cdGENA EMA\\u00da\", \"ALDEIA IND\\u00cdGENA JUTIM\\u00c3\", \"ALDEIA IND\\u00cdGENA SACAMBU I\", \"ALDEIA IND\\u00cdGENA SACAMBU II\", \"ALDEIA IND\\u00cdGENA \\u00c1GUA LIMPA\", \"ALDEIA IND\\u00cdGENA CIGANA BRANCA\", \"ALDEIA IND\\u00cdGENA NOVO MARANH\\u00c3O\", \"ALDEIA IND\\u00cdGENA NOVA ESPERAN\\u00c7A\", \"ALDEIA IND\\u00cdGENA S\\u00c3O DOMINGOS\", \"ALDEIA IND\\u00cdGENA LAGUINHO\", \"ALDEIA IND\\u00cdGENA PIRANHA\", \"ALDEIA IND\\u00cdGENA NOVO JUTA\\u00cd\", \"ALDEIA IND\\u00cdGENA BARREIRINHA\", \"ALDEIA IND\\u00cdGENA NOVA JORD\\u00c2NIA\", \"ALDEIA IND\\u00cdGENA PALMARES\", \"ALDEIA IND\\u00cdGENA CRAJARI II\", \"ALDEIA IND\\u00cdGENA CRAJARI I\", \"ALDEIA IND\\u00cdGENA BOA VISTA\", \"ALDEIA IND\\u00cdGENA NOVA RESSURREI\\u00c7\\u00c3O\", \"ALDEIA IND\\u00cdGENA CURAN\\u00c3\", \"ALDEIA IND\\u00cdGENA NOVO EWARE\", \"ALDEIA IND\\u00cdGENA BARRO VERMELHO\", \"ALDEIA IND\\u00cdGENA NOVA ESPERAN\\u00c7A\", \"ALDEIA IND\\u00cdGENA SAMAUMA\", \"ALDEIA IND\\u00cdGENA SHIKURIHA\", \"ALDEIA IND\\u00cdGENA VOLTA GRANDE\", \"ALDEIA IND\\u00cdGENA VIAGEM\", \"ALDEIA IND\\u00cdGENA MARREC\\u00c3O\", \"ALDEIA IND\\u00cdGENA CIDADEZINHA\", \"ALDEIA IND\\u00cdGENA ZURUAHA\", \"ALDEIA IND\\u00cdGENA S\\u00c3O JOS\\u00c9\", \"ALDEIA IND\\u00cdGENA S\\u00c3O FRANCISCO\", \"ALDEIA IND\\u00cdGENA TERRA NOVA\", \"ALDEIA IND\\u00cdGENA ABAQUADI\", \"ALDEIA IND\\u00cdGENA A\\u00c7AI\", \"ALDEIA IND\\u00cdGENA NOVA ESPERAN\\u00c7A\", \"ALDEIA IND\\u00cdGENA BETEL\", \"ALDEIA IND\\u00cdGENA BARREIRA DA MISS\\u00c3O DO MEIO\", \"ALDEIA IND\\u00cdGENA BARREIRA DA MISS\\u00c3O DE CIMA\", \"ALDEIA IND\\u00cdGENA BARRO ALTO II\", \"ALDEIA IND\\u00cdGENA NOSSA SENHORA APARECIDA\", \"ALDEIA IND\\u00cdGENA PROSPERIDADE\", \"ALDEIA IND\\u00cdGENA S\\u00c3O DOMINGOS II\", \"ALDEIA IND\\u00cdGENA SANTA CRUZ\", \"ALDEIA IND\\u00cdGENA S\\u00c3O L\\u00c1ZARO\", \"ALDEIA IND\\u00cdGENA NOVO CUM\\u00c3\", \"ALDEIA IND\\u00cdGENA SANTA F\\u00c9\", \"ALDEIA IND\\u00cdGENA S\\u00c3O SEBASTI\\u00c3O\", \"ALDEIA IND\\u00cdGENA LAGO GRANDE\", \"ALDEIA IND\\u00cdGENA S\\u00cdTIO S\\u00c3O SEBASTI\\u00c3O\", \"ALDEIA IND\\u00cdGENA NOVA UNI\\u00c3O\", \"ALDEIA IND\\u00cdGENA BOM FUTURO\", \"ALDEIA IND\\u00cdGENA S\\u00c3O DOMINGOS I\", \"ALDEIA IND\\u00cdGENA MAR\\u00cd-MAR\\u00cd\", \"ALDEIA IND\\u00cdGENA S\\u00c3O FRANCISCO DO MURI\\u00c1\", \"ALDEIA IND\\u00cdGENA MIRATU\", \"ALDEIA IND\\u00cdGENA PORTO PRAIA\", \"COMUNIDADE IND\\u00cdGENA DO ANINGAL\", \"COMUNIDADE IND\\u00cdGENA AUARIS\", \"COMUNIDADE IND\\u00cdGENA CAJUEIRO\", \"COMUNIDADE IND\\u00cdGENA GARAGEM\", \"COMUNIDADE IND\\u00cdGENA LE\\u00c3O DE OURO\", \"COMUNIDADE IND\\u00cdGENA CAMALE\\u00c3O\", \"COMUNIDADE IND\\u00cdGENA ANARO\", \"COMUNIDADE IND\\u00cdGENA PALMEIRA\", \"COMUNIDADE IND\\u00cdGENA PONTA DA SERRA\", \"COMUNIDADE IND\\u00cdGENA URUCURI\", \"COMUNIDADE IND\\u00cdGENA OURO\", \"COMUNIDADE IND\\u00cdGENA S\\u00c3O FRANCISCO\", \"COMUNIDADE IND\\u00cdGENA MANGUEIRA\", \"COMUNIDADE IND\\u00cdGENA GUARIBA\", \"COMUNIDADE IND\\u00cdGENA MUTAMBA\", \"COMUNIDADE IND\\u00cdGENA ARA\\u00c7\\u00c1\", \"COMUNIDADE IND\\u00cdGENA SURUCUCU\", \"COMUNIDADE IND\\u00cdGENA SUCUBA\", \"COMUNIDADE IND\\u00cdGENA BARATA\", \"COMUNIDADE IND\\u00cdGENA RAIMUND\\u00c3O\", \"COMUNIDADE IND\\u00cdGENA MANGUEIRA\", \"COMUNIDADE IND\\u00cdGENA BOQUEIR\\u00c3O\", \"COMUNIDADE IND\\u00cdGENA ANTA\", \"COMUNIDADE IND\\u00cdGENA PIUM\", \"COMUNIDADE IND\\u00cdGENA VISTA ALEGRE\", \"COMUNIDADE IND\\u00cdGENA CAMPO ALEGRE\", \"COMUNIDADE IND\\u00cdGENA VISTA NOVA\", \"COMUNIDADE IND\\u00cdGENA LAGO GRANDE\", \"COMUNIDADE IND\\u00cdGENA DO MILHO\", \"COMUNIDADE IND\\u00cdGENA DA ILHA\", \"COMUNIDADE IND\\u00cdGENA DO MORCEGO\", \"COMUNIDADE IND\\u00cdGENA SERRA DA MO\\u00c7A\", \"COMUNIDADE IND\\u00cdGENA NOVO PARA\\u00cdSO\", \"COMUNIDADE IND\\u00cdGENA MANO\\u00c1\", \"COMUNIDADE IND\\u00cdGENA \\u00c1GUA BOA\", \"COMUNIDADE IND\\u00cdGENA MARUP\\u00c1\", \"COMUNIDADE IND\\u00cdGENA JACAMIM\", \"COMUNIDADE IND\\u00cdGENA MURIRU\", \"COMUNIDADE IND\\u00cdGENA MOSKOW\", \"COMUNIDADE IND\\u00cdGENA TABALASCADA\", \"COMUNIDADE IND\\u00cdGENA CANAUANI\", \"COMUNIDADE IND\\u00cdGENA MALACACHETA\", \"COMUNIDADE IND\\u00cdGENA WAI-WAI\", \"COMUNIDADE IND\\u00cdGENA DA RAPOSA\", \"COMUNIDADE IND\\u00cdGENA DO XUMINA\", \"COMUNIDADE IND\\u00cdGENA DO NAPOLE\\u00c3O\", \"COMUNIDADE IND\\u00cdGENA DO ARA\\u00c7\\u00c1\", \"COMUNIDADE IND\\u00cdGENA JIB\\u00d3IA\", \"COMUNIDADE IND\\u00cdGENA CACHOEIRINHA\", \"COMUNIDADE IND\\u00cdGENA MATIRI\", \"COMUNIDADE IND\\u00cdGENA GUARIBA\", \"COMUNIDADE IND\\u00cdGENA ESCONDIDO\", \"COMUNIDADE IND\\u00cdGENA BISMARCK\", \"COMUNIDADE IND\\u00cdGENA CAMARA\", \"COMUNIDADE IND\\u00cdGENA COPA\\u00cdBA\", \"COMUNIDADE IND\\u00cdGENA TATU\", \"COMUNIDADE IND\\u00cdGENA CARAN\\u00c3\", \"COMUNIDADE IND\\u00cdGENA PERDIZ\", \"COMUNIDADE IND\\u00cdGENA PACU\", \"COMUNIDADE IND\\u00cdGENA SANTA MARIA\", \"COMUNIDADE IND\\u00cdGENA BOCA DA MATA\", \"COMUNIDADE IND\\u00cdGENA S\\u00c3O JORGE\", \"COMUNIDADE IND\\u00cdGENA SURUMU\", \"COMUNIDADE IND\\u00cdGENA DO CONT\\u00c3O\", \"COMUNIDADE IND\\u00cdGENA PIOLHO\", \"COMUNIDADE IND\\u00cdGENA MATO GROSSO\", \"COMUNIDADE IND\\u00cdGENA SOROCAIMA\", \"COMUNIDADE IND\\u00cdGENA BANANAL\", \"COMUNIDADE IND\\u00cdGENA BARRO\", \"COMUNIDADE IND\\u00cdGENA MEL\", \"COMUNIDADE IND\\u00cdGENA T\\u00c1XI I\", \"COMUNIDADE IND\\u00cdGENA SANTA ROSA\", \"COMUNIDADE IND\\u00cdGENA SABI\\u00c1\", \"COMUNIDADE IND\\u00cdGENA CURICACA\", \"COMUNIDADE IND\\u00cdGENA PERDIZ\", \"COMUNIDADE IND\\u00cdGENA DA RO\\u00c7A\", \"COMUNIDADE IND\\u00cdGENA T\\u00c1XI II\", \"COMUNIDADE IND\\u00cdGENA MUTUM\", \"COMUNIDADE IND\\u00cdGENA \\u00c1GUA FRIA\", \"COMUNIDADE IND\\u00cdGENA DO SOC\\u00d3\", \"COMUNIDADE IND\\u00cdGENA DO FLEXAL\", \"COMUNIDADE IND\\u00cdGENA DO MATURUCA\", \"COMUNIDADE IND\\u00cdGENA DA MACED\\u00d4NIA\", \"COMUNIDADE IND\\u00cdGENA S\\u00c3O MATEUS\", \"COMUNIDADE IND\\u00cdGENA S\\u00c3O LU\\u00cdS\", \"COMUNIDADE IND\\u00cdGENA MARACAN\\u00c3\", \"COMUNIDADE IND\\u00cdGENA S\\u00c3O FRANCISCO I\", \"COMUNIDADE IND\\u00cdGENA PEDRA BRANCA\", \"COMUNIDADE IND\\u00cdGENA ENSEADA\", \"COMUNIDADE IND\\u00cdGENA CARAPARU\", \"COMUNIDADE IND\\u00cdGENA BANANAL\", \"COMUNIDADE IND\\u00cdGENA WORUMAND\\u00c1\", \"COMUNIDADE IND\\u00cdGENA MORRO\", \"COMUNIDADE IND\\u00cdGENA DO CAJU\", \"COMUNIDADE IND\\u00cdGENA DO PAUR\\u00ca\", \"COMUNIDADE IND\\u00cdGENA SERRA DO SOL\", \"COMUNIDADE IND\\u00cdGENA TAXI\", \"COMUNIDADE IND\\u00cdGENA SAUPARU\", \"COMUNIDADE IND\\u00cdGENA PACU\", \"COMUNIDADE IND\\u00cdGENA ARA\\u00c7A DA SERRA\", \"COMUNIDADE IND\\u00cdGENA S\\u00c3O FRANCISCO II\", \"COMUNIDADE IND\\u00cdGENA SANTA MARIA\", \"COMUNIDADE IND\\u00cdGENA PERDIZ II\", \"COMUNIDADE IND\\u00cdGENA MONTE MUARIAT\", \"COMUNIDADE IND\\u00cdGENA ORINDUQUE\", \"COMUNIDADE IND\\u00cdGENA CAN\\u00c3\", \"COMUNIDADE IND\\u00cdGENA LIL\\u00c1S\", \"COMUNIDADE IND\\u00cdGENA WILIMON\", \"COMUNIDADE IND\\u00cdGENA UIRAMUT\\u00c3\", \"COMUNIDADE IND\\u00cdGENA CAMARAREM\", \"ALDEIA IND\\u00cdGENA CAJUEIRO\", \"ALDEIA IND\\u00cdGENA IRIRI\", \"ALDEIA IND\\u00cdGENA KARARA\\u00d4\", \"ALDEIA IND\\u00cdGENA KOATINEMO\", \"ALDEIA IND\\u00cdGENA IPIXUNA\", \"ALDEIA IND\\u00cdGENA NASSEPOTITI\", \"ALDEIA IND\\u00cdGENA KUBENKROKE\", \"ALDEIA IND\\u00cdGENA PUKANY\", \"ALDEIA IND\\u00cdGENA TRINCHEIRA BACAJ\\u00c1\", \"ALDEIA GAVI\\u00d5ES\", \"ALDEIA IND\\u00cdGENA ARAR\\u00c1S\", \"ALDEIA ANAXINGANGA\", \"ALDEIA MARUXEWARA\", \"ALDEIA IND\\u00cdGENA GUAJANA\\u00cdRA\", \"ALDEIA IND\\u00cdGENA PARANOWAUNA\", \"ALDEIA IND\\u00cdGENA PARANATINGA\", \"ALDEIA IND\\u00cdGENA ITAY'GOA\", \"ALDEIA IND\\u00cdGENA POMKURU\", \"ALDEIA IND\\u00cdGENA TAMIWRU\", \"ALDEIA IND\\u00cdGENA MAPUERA\", \"ALDEIA KRIKETUM\", \"ALDEIA AUKRA\", \"ALDEIA KJBENKRANKEIN\", \"ALDEIA IND\\u00cdGENA XIKRIM\", \"DJUDJU\\u00ca-K\\u00d4\", \"ALDEIA IND\\u00cdGENA GURANI (KARIWASSU)\", \"ALDEIA IND\\u00cdGENA CARAJ\\u00c1S\", \"ALDEIA IND\\u00cdGENA APYTEREWA\", \"TRIBO SURU\\u00cd-VELHA\", \"ALDEIA IND\\u00cdGENA BACAJ\\u00c1\", \"ALDEIA IND\\u00cdGENA MAIA\", \"ALDEIA IND\\u00cdGENA ACAR\\u00c1 MIRI\", \"ALDEIA IND\\u00cdGENA TEKNAY\", \"ALDEIA IND\\u00cdGENA TUR\\u00c9\", \"ALDEIA IND\\u00cdGENA TAITETUA\", \"ALDEIA IND\\u00cdGENA ITUA\\u00c7U\", \"ALDEIA IND\\u00cdGENA MARIRY\", \"ALDEIA IND\\u00cdGENA ARAMIRA\", \"ALDEIA IND\\u00cdGENA PINYTY\", \"ALDEIA IND\\u00cdGENA GALIBIS\", \"ALDEIA IND\\u00cdGENA PIQUI\\u00c1\", \"ALDEIA IND\\u00cdGENA CURIPI\", \"ALDEIA IND\\u00cdGENA KARIA\", \"ALDEIA IND\\u00cdGENA ESTRELA\", \"ALDEIA IND\\u00cdGENA URUCAU\\u00c1\", \"ALDEIA IND\\u00cdGENA ESP\\u00cdRITO SANTO\", \"ALDEIA IND\\u00cdGENA SANTA ISABEL\", \"ALDEIA IND\\u00cdGENA MANGA\", \"ALDEIA IND\\u00cdGENA DE KAMARUM\\u00c3\", \"ALDEIA IND\\u00cdGENA KUMENE\", \"ALDEIA IND\\u00cdGENA SAMA\\u00daMA\", \"ALDEIA IND\\u00cdGENA TUKAI\", \"ALDEIA IND\\u00cdGENA COCALINHO\", \"ALDEIA IND\\u00cdGENA CANUAN\\u00c3\", \"ALDEIA IND\\u00cdGENA TXUIRI\", \"ALDEIA IND\\u00cdGENA BARREIRA BRANCA\", \"ALDEIA IND\\u00cdGENA CACHOEIRINHA\", \"ALDEIA IND\\u00cdGENA S\\u00c3O JO\\u00c3O\", \"ALDEIA IND\\u00cdGENA NOVA TYTEM\\u00c3\", \"ALDEIA IND\\u00cdGENA MIRINDIBA\", \"ALDEIA IND\\u00cdGENA BACURI\", \"ALDEIA IND\\u00cdGENA RIO VERMELHO\", \"ALDEIA IND\\u00cdGENA NOVA\", \"ALDEIA IND\\u00cdGENA CACHOEIRA\", \"ALDEIA IND\\u00cdGENA PEDRA FURADA\", \"ALDEIA IND\\u00cdGENA BRANCA\", \"ALDEIA IND\\u00cdGENA GALHEIROS\", \"ALDEIA IND\\u00cdGENA SANTA CRUZ\", \"ALDEIA IND\\u00cdGENA LAGOINHA\", \"ALDEIA IND\\u00cdGENA MORRO DO BOI\", \"ALDEIA IND\\u00cdGENA FORNO VELHO\", \"ALDEIA IND\\u00cdGENA SERRA GRANDE\", \"ALDEIA IND\\u00cdGENA AGUA FRIA\", \"ALDEIA IND\\u00cdGENA RIOZINHO\", \"ALDEIA IND\\u00cdGENA KRAH\\u00d4-KANELA\", \"ALDEIA IND\\u00cdGENA WATA\\u00da\", \"ALDEIA IND\\u00cdGENA JK\", \"ALDEIA IND\\u00cdGENA SANTA IZABEL\", \"ALDEIA IND\\u00cdGENA AXW\\u00c9\", \"ALDEIA IND\\u00cdGENA FONTOURA\", \"ALDEIA IND\\u00cdGENA TWOD\\u00ca\", \"ALDEIA IND\\u00cdGENA WARI-WARI\", \"ALDEIA IND\\u00cdGENA BOA ESPERAN\\u00c7A\", \"ALDEIA IND\\u00cdGENA BOTICA\", \"ALDEIA IND\\u00cdGENA MACA\\u00daBA\", \"BOTO VELHO\", \"ALDEIA IND\\u00cdGENA KURERRE\", \"ALDEIA IND\\u00cdGENA XAMBIOA\", \"ALDEIA IND\\u00cdGENA FUNIL\", \"ALDEIA IND\\u00cdGENA APARECIDA\", \"ALDEIA IND\\u00cdGENA BOA F\\u00c9\", \"ALDEIA IND\\u00cdGENA S\\u00c3O BENTO\", \"ALDEIA IND\\u00cdGENA DA SERRINHA II\", \"ALDEIA IND\\u00cdGENA CERCADINHO II\", \"ALDEIA IND\\u00cdGENA PORTEIRA\", \"ALDEIA IND\\u00cdGENA BELA VISTA\", \"ALDEIA IND\\u00cdGENA MIRASSOL\", \"ALDEIA IND\\u00cdGENA DA TERRA NOVA OU BAIXA FUNDA\", \"ALDEIA IND\\u00cdGENA BREJO COMPRIDO\", \"ALDEIA IND\\u00cdGENA BOA ESPERAN\\u00c7A\", \"ALDEIA IND\\u00cdGENA BOM JARDIM\", \"ALDEIA INDIGENA BREJ\\u00c3O\", \"ALDEIA IND\\u00cdGENA BREJINHO\", \"ALDEIA IND\\u00cdGENA BRUPR\\u00ca\", \"ALDEIA IND\\u00cdGENA CABECEIRA VERDE\", \"ALDEIA IND\\u00cdGENA FORTALEZA\", \"ALDEIA IND\\u00cdGENA KAREH\\u00da\", \"ALDEIA IND\\u00cdGENA LAJEADO\", \"ALDEIA IND\\u00cdGENA MATO DO C\\u00d4CO\", \"ALDEIA IND\\u00cdGENA MORRINHO\", \"ALDEIA IND\\u00cdGENA NOVA\", \"ALDEIA IND\\u00cdGENA NOVO HORIZONTE\", \"ALDEIA IND\\u00cdGENA PARAISO\", \"ALDEIA IND\\u00cdGENA RIO PRETO\", \"ALDEIA IND\\u00cdGENA RECANTO KRIT\\u00c9\", \"ALDEIA IND\\u00cdGENA RIO SONO\", \"ALDEIA IND\\u00cdGENA RIOZINHO\", \"ALDEIA IND\\u00cdGENA SALTO\", \"ALDEIA IND\\u00cdGENA SANGRADOURO\", \"ALDEIA IND\\u00cdGENA SANTA CRUZ\", \"ALDEIA IND\\u00cdGENA SANTA F\\u00c9\", \"ALDEIA IND\\u00cdGENA SANTO ANTONIO\", \"ALDEIA IND\\u00cdGENA TRA\\u00cdRA\", \"ALDEIA IND\\u00cdGENA V\\u00c3O GRANDE\", \"ALDEIA IND\\u00cdGENA VARJ\\u00c3O\", \"ALDEIA IND\\u00cdGENA Z\\u00c9 BRITO\", \"ALDEIA IND\\u00cdGENA S\\u00c3O JOS\\u00c9\", \"ALDEIA IND\\u00cdGENA PATIZAL\", \"ALDEIA IND\\u00cdGENA BONITO\", \"ALDEIA IND\\u00cdGENA RIACHINHO\", \"ALDEIA IND\\u00cdGENA MARIAZINHA\", \"ALDEIA IND\\u00cdGENA RUBIA\\u00c7A\", \"ALDEIA IND\\u00cdGENA RIACHINHO\", \"ALDEIA IND\\u00cdGENA BARRIGUDA\", \"ALDEIA IND\\u00cdGENA FAVEIRA\", \"ALDEIA IND\\u00cdGENA FUNIL\", \"ALDEIA IND\\u00cdGENA JU\\u00c7ARAL\", \"ALDEIA IND\\u00cdGENA BACABALZINHO\", \"ALDEIA IND\\u00cdGENA MUCURA\", \"ALDEIA IND\\u00cdGENA CANUDAL\", \"ALDEIA IND\\u00cdGENA GOVERNADOR\", \"ALDEIA IND\\u00cdGENA Z\\u00c9 GURUPI\", \"ALDEIA IND\\u00cdGENA GUAJ\\u00c1\", \"ALDEIA IND\\u00cdGENA LAGOA VERMELHA\", \"ALDEIA IND\\u00cdGENA ABRA\\u00c3O\", \"ALDEIA IND\\u00cdGENA NOVA LIMA\", \"ALDEIA IND\\u00cdGENA BOA ESPERAN\\u00c7A\", \"ALDEIA IND\\u00cdGENA NOVA\", \"ALDEIA IND\\u00cdGENA PONTA D'\\u00c1GUA\", \"ALDEIA INDIGENA NOVA LIMA\", \"ALDEIA CACHOEIRA\", \"ALDEIA CHAPADINHA\", \"ALDEIA BAIX\\u00c3O DO PEIXE\", \"ALDEIA NOVA\", \"ALDEIA MANGUEIRA\", \"ALDEIA TAMBORIL\", \"ALDEIA COL\\u00d4NIA\", \"ALDEIA SARDINHA VELHA\", \"ALDEIA SARDINHA NOVA\", \"ALDEIA TABAJARA\", \"ALDEIA RODEADOR\", \"ALDEIA TITIU\", \"ALDEIA MACA\\u00daBA\", \"ALDEIA SAPUCAIA DO MEARIM\", \"ALDEIA JATOB\\u00c1\", \"ALDEIA LAGOA GRANDE\", \"ALDEIA MARECHICO\", \"ALDEIA JENIPAPO\", \"ALDEIA TAIJARA\", \"ALDEIA RIO CORDA\", \"ALDEIA JURITI\", \"ALDEIA PARA\\u00cdSO\", \"ALDEIA CUMARU\", \"ALDEIA CANELEIRO\", \"ALDEIA C\\u00c3O FORMOSO\", \"ALDEIA VILA NOVA\", \"ALDEIA IND\\u00cdGENA MA\\u00c7ARANDUBA\", \"ALDEIA IND\\u00cdGENA JANU\\u00c1RIO\", \"ALDEIA IND\\u00cdGENA TABOCAL\", \"ALDEIA IND\\u00cdGENA PI\\u00c7ARRA PRETA\", \"ALDEIA IND\\u00cdGENA AU\\u00c1\", \"ALDEIA IND\\u00cdGENA MIRIMIRI\", \"ALDEIA IND\\u00cdGENA LAGO BRANCO\", \"ALDEIA ESCALVADO\", \"ALDEIA PORQUINHOS\", \"ALDEIA IND\\u00cdGENA MORRO BRANCO\", \"ALDEIA BACURIZINHO\", \"ALDEIA IND\\u00cdGENA IPU\", \"ALDEIA IND\\u00cdGENA BANANAL\", \"ALDEIA IND\\u00cdGENA CAPINZAL\", \"ALDEIA IND\\u00cdGENA SANTA RITA\", \"ALDEIA IND\\u00cdGENA APERTADO NOVO\", \"ALDEIA TABOCA\", \"ALDEIA IND\\u00cdGENA BURITIRANA\", \"ALDEIA IND\\u00cdGENA GAMELEIRA\", \"ALDEIA IND\\u00cdGENA PAPAGAIO\", \"ALDEIA IND\\u00cdGENA CHAPADINHA\", \"ALDEIA IND\\u00cdGENA NOVA\", \"ALDEIA IND\\u00cdGENA COCAL GRANDE\", \"ALDEIA IND\\u00cdGENA COCALINHO\", \"ALDEIA IND\\u00cdGENA TALHADO\", \"ALDEIA IND\\u00cdGENA SAPUCAIA\", \"ALDEIA IND\\u00cdGENA DA PEDRA\", \"ALDEIA IND\\u00cdGENA LAGOA COMPRIDA\", \"ALDEIA IND\\u00cdGENA PLAN\\u00cdCIE\", \"ALDEIA OLHO D'\\u00c1GUA\", \"ALDEIA ITAQUATIARA\", \"ALDEIA IND\\u00ccGENA CHAPADINHA DA MA-006\", \"ALDEIA IND\\u00cdGENA TAMARINDO\", \"ALDEIA IND\\u00cdGENA NOVA MANGUEIRA\", \"ALDEIA IND\\u00cdGENA PLANALTO\", \"ALDEIA IND\\u00cdGENA SABONETE\", \"ALDEIA IND\\u00cdGENA CABOCLO\", \"ALDEIA IND\\u00cdGENA BURITIZAL\", \"ALDEIA IND\\u00cdGENA S\\u00cdTIO\", \"S\\u00c3O PEDRO DOS CACETES\", \"ALDEIA IND\\u00cdGENA MACACOS\", \"ALDEIA IND\\u00cdGENA PAU FERRADO\", \"ALDEIA IND\\u00cdGENA MANGUEIRA JURU\\u00c1\", \"ALDEIA IND\\u00cdGENA SUMA\\u00daMA\", \"ALDEIA IND\\u00cdGENA JURU\\u00c1\", \"ALDEIA IND\\u00cdGENA URUCU\", \"ALDEIA S\\u00c3O PEDRO\", \"ALDEIA JUREMA\", \"ALDEIA LAGOA COMPRIDA\", \"ALDEIA COQUINHO\", \"ALDEIA MU\\u00c7UM\", \"ALDEIA RAIZ\", \"ALDEIA XIMBORAND\\u00c1\", \"ALDEIA MYRAWYRENDA\", \"ALDEIA IND\\u00cdGENA AXINGUREND\\u00c1\", \"ALDEIA IND\\u00cdGENA S\\u00c3O JOS\\u00c9\", \"ALDEIA IND\\u00cdGENA RECANTO DOS COCAIS\", \"ALDEIA IND\\u00cdGENA CAPIT\\u00c3O MIRAR\", \"ALDEIA IND\\u00cdGENA PIQUIZEIRO\", \"ALDEIA IND\\u00cdGENA PI-JURITI\", \"ALDEIA IND\\u00cdGENA TAPEBA\", \"ALDEIA IND\\u00cdGENA CAPIM A\\u00c7U\", \"ALDEIA IND\\u00cdGENA TREMEMB\\u00c9\", \"ALDEIA SILVA\", \"ALDEIA S\\u00c3O FRANCISCO\", \"ALDEIA GALEGO\", \"ALDEIA FORTE\", \"ALDEIA SANTA RITA\", \"ALDEIA TRA\\u00c7OEIRA\", \"ALDEIA CUMARU\", \"ALDEIA SARRAMBI\", \"ALDEIA S\\u00c3O MIGUEL\", \"ALDEIA ACAJUTIBIRO\", \"ALDEIA LARANJEIRA\", \"ALDEIA TAPUIO\", \"ALDEIA BOA VISTA\", \"JACAR\\u00c9 DE S\\u00c3O DOMINGOS\", \"TR\\u00caS RIOS\", \"ESTIVA VELHA\", \"JACAR\\u00c9 DE CEZAR\", \"TRAMATAIA\", \"ALDEIA IND\\u00cdGENA FULNI-\\u00d4\", \"ALDEIA IND\\u00cdGENA XIXIAKL\\u00c1\", \"ALDEIA CARA\\u00cdBAS\", \"ALDEIA IND\\u00cdGENA MINA GRANDE\", \"ALDEIA IND\\u00cdGENA BAIXA DA PALMEIRA\", \"ALDEIA COQUEIRO\", \"ALDEIA CARNA\\u00daBA\", \"ALDEIA LAMA\", \"ALDEIA ASSUN\\u00c7\\u00c3O VELHA\", \"ALDEIA SEDE\", \"ALDEIA ALTO GAVI\\u00c3O\", \"ALDEIA IND\\u00cdGENA JIB\\u00d3IA\", \"ALDEIA CANUDINHO\", \"ALDEIA RIACHO FUNDO\", \"ALDEIA IND\\u00cdGENA UMBUZEIRO\", \"ALDEIA URUBU\", \"ALDEIA IND\\u00cdGENA CAMALE\\u00c3O\", \"ALDEIA IND\\u00cdGENA CAATINGA GRANDE\", \"ALDEIA SABONETE\", \"ALDEIA PAMBUZINHO\", \"ALDEIA JATOBAZEIRO\", \"ALDEIA PANELA\", \"ALDEIA PORT\\u00c3O\", \"ALDEIA IND\\u00cdGENA CAATINGUINHA\", \"ALDEIA REDEN\\u00c7\\u00c3O\", \"ALDEIA LAMEIRA\", \"ALDEIA COROHEIRA\", \"ALDEIA LAGOA BRANCA\", \"ALDEIA CAJUEIRO\", \"ALDEIA CAITITU\", \"ALDEIA ANGICO DE DEM\\u00c9SIO\", \"ALDEIA IND\\u00cdGENA BAIX\\u00c3O\", \"ALDEIA OLHO D'\\u00c1GUA DA SANTA\", \"ALDEIA IND\\u00cdGENA OLHO D'\\u00c1GUA DOS PADRES\", \"ALDEIA SABONETE\", \"ALDEIA IND\\u00cdGENA SERRA DO UM\\u00c3\", \"ALDEIA SAMAMBAIA\", \"ALDEIA CACHOEIRA I\", \"ALDEIA IND\\u00cdGENA JATOB\\u00c1\", \"ALDEIA CASA DE TELHA\", \"ALDEIA IND\\u00cdGENA LAGOA CERCADA\", \"ALDEIA JARDIM\", \"ALDEIA PRATA\", \"ALDEIA LAGOINHA\", \"ALDEIA RIACHO GRANDE\", \"ALDEIA AREIA DOS PEDROS\", \"ALDEIA OITICICA\", \"ALDEIA CHAPADA\", \"ALDEIA JACAR\\u00c9\", \"ALDEIA BOA VISTA\", \"ALDEIA BOM JESUS\", \"ALDEIA FAVELEIRA\", \"ALDEIA TRAVESSA DO OURO\", \"ALDEIA PEREIROS\", \"ALDEIA IND\\u00cdGENA BAIXA DA ALEXANDRA\", \"ALDEIA DO NAZ\\u00c1RIO\", \"ALDEIA SERRA DO PERIQUITO\", \"ALDEIA MARIA PRETA\", \"ALDEIA LAGOA DO PEIXE OU PUI\\u00da\", \"ALDEIA QUIRIDALHO\", \"ALDEIA IND\\u00cdGENA AREIA GROSSA\", \"ALDEIA IND\\u00cdGENA MANI\\u00c7OBA\", \"ALDEIA JUAZEIRO\", \"ALDEIA IND\\u00cdGENA RETOMADA\", \"ALDEIA SANTA ROSA\", \"ALDEIA TEAR\", \"ALDEIA FUNIL\", \"ALDEIA ING\\u00c1\", \"ALDEIA CAXIADO\", \"ALDEIA BEM-QUERER\", \"ALDEIA SACO DOS BARROS\", \"ALDEIA CALDEIR\\u00c3O\", \"ALDEIA IND\\u00cdGENA SANTANA\", \"ALDEIA IND\\u00cdGENA SAO JOSE\", \"ALDEIA IND\\u00cdGENA GITO\", \"ALDEIA IND\\u00cdGENA AFETO\", \"ALDEIA IND\\u00cdGENA PEDRA D'\\u00c1GUA\", \"ALDEIA IND\\u00cdGENA BREJINHO\", \"ALDEIA IND\\u00cdGENA PENDURADO\", \"ALDEIA P\\u00c9 DE SERRA DO OITI OU P\\u00c9 DE SERRA DE S\\u00c3O SEBASTI\\u00c3O\", \"ALDEIA IND\\u00cdGENA P\\u00c9 DE SERRA DO NOGUEIRA\", \"ALDEIA IND\\u00cdGENA CAPIM DE PLANTA\", \"ALDEIA IND\\u00cdGENA P\\u00c9 DE SERRA DE CANA BRAVA\", \"ALDEIA IND\\u00cdGENA CANA BRAVA\", \"ALDEIA IND\\u00cdGENA CIMBRES\", \"ALDEIA IND\\u00cdGENA PAU FERRO\", \"ALDEIA IND\\u00cdGENA JATOBA\", \"ALDEIA IND\\u00cdGENA PASSAGEM\", \"ALDEIA IND\\u00cdGENA CURRAL VELHO\", \"ALDEIA IND\\u00cdGENA CALDEIR\\u00c3O\", \"ALDEIA IND\\u00cdGENA CAIPE\", \"ALDEIA IND\\u00cdGENA CAETANO\", \"ALDEIA IND\\u00cdGENA COURO DANTAS\", \"ALDEIA IND\\u00cdGENA AGUA BRANCA\", \"ALDEIA IND\\u00cdGENA GUARDA\", \"ALDEIA IND\\u00cdGENA CAJUEIRO\", \"ALDEIA IND\\u00cdGENA MASCARENHAS\", \"ALDEIA IND\\u00cdGENA LAGOA\", \"ALDEIA IND\\u00cdGENA SUCUPIRA\", \"ALDEIA IND\\u00cdGENA SOZINHA\", \"ALDEIA IND\\u00cdGENA RESENDE\", \"ALDEIA LOGRADOURO\", \"ALDEIA LAGOINHA\", \"ALDEIA PAUS BRANCO\", \"ALDEIA RODEADOR\", \"ALDEIA MASSAP\\u00ca\", \"ALDEIA IND\\u00cdGENA ANGICO DOS L\\u00daCIOS\", \"ALDEIA IND\\u00cdGENA IPUEIRA\", \"ALDEIA ESTREITO\", \"ALDEIA MULUNGU\", \"ALDEIA GARROTE MORTO\", \"ALDEIA PO\\u00c7O DA PEDRA\", \"ALDEIA IND\\u00cdGENA ESPINHEIRO\", \"ALDEIA SERRINHA\", \"ALDEIA TAPERA\", \"ALDEIA MACACOS\", \"ALDEIA CARRAPATEIRAS\", \"ALDEIA IND\\u00cdGENA BREJOS DOS PADRES\", \"ALDEIA JULI\\u00c3O\", \"ALDEIA PALMEIRA\", \"ALDEIA TABULEIRO\", \"ALDEIA RIACHINHO\", \"ALDEIA PONTA DA V\\u00c1RZEA\", \"ALDEIA PAU-FERRO GROSSO\", \"ALDEIA IND\\u00cdGENA COLORAU\", \"ALDEIA CALDEIR\\u00c3O\", \"ALDEIA MALHADOR\", \"ALDEIA IND\\u00cdGENA MACACO\", \"ALDEIA IND\\u00cdGENA TINGU\\u00cd-BOTO\", \"WASSU COCAL\", \"ALDEIA IND\\u00cdGENA JERIPANC\\u00d3\", \"ALDEIA IND\\u00cdGENA KARIRI-XOCO\", \"ALDEIA IND\\u00cdGENA KARAPOTO\", \"ALDEIA IND\\u00cdGENA TI XOC\\u00d3 DA ILHA DE S\\u00c3O PEDRO\", \"ALDEIA IND\\u00cdGENA GADO VELHACO\", \"ALDEIA IND\\u00cdGENA MIRANDELA\", \"ALDEIA IND\\u00cdGENA CASSIMBA SECA\", \"ALDEIA IND\\u00cdGENA SEGREDO VELHO\", \"ALDEIA IND\\u00cdGENA ARA\\u00c7\\u00c1S\", \"ALDEIA IND\\u00cdGENA MARCA\\u00c7\\u00c3O\", \"ALDEIA IND\\u00cdGENA SA\\u00c7\\u00c3O\", \"ALDEIA IND\\u00cdGENA JU\\u00c1\", \"ALDEIA IND\\u00cdGENA CANTAGALO\", \"ALDEIA IND\\u00cdGENA CAJAZEIRAS\", \"ALDEIA IND\\u00cdGENA LAGOA GRANDE\", \"ALDEIA IND\\u00cdGENA PAU-FERRO\", \"ALDEIA IND\\u00cdGENA TUIUTI\", \"ALDEIA IND\\u00cdGENA NOVA VIDA\", \"RODEADOR\", \"ALDEIA IND\\u00cdGENA RUA DOS CABOCLOS OU MASSACARA\", \"ALDEIA IND\\u00cdGENA TUX\\u00c1\", \"ALDEIA IND\\u00cdGENA TUPINAMB\\u00c1\", \"ALDEIA IND\\u00cdGENA BARRET\\u00c1\", \"ALDEIA IND\\u00cdGENA DO TREVO DA BR-101\", \"ALDEIA IND\\u00cdGENA VELHA\", \"N\\u00daCLEO IND\\u00cdGENA PATAX\\u00d3S\", \"ALDEIA IND\\u00cdGENA BOCA DA MATA\", \"ALDEIA IND\\u00cdGENA IMBIRIBA\", \"ALDEIA IND\\u00cdGENA BAIXA DA CANGALHA\", \"ALDEIA IND\\u00cdGENA TUCH\\u00c1\", \"ALDEIA IND\\u00cdGENA PANKARARE\", \"ALDEIA IND\\u00cdGENA COROA VERMELHA\", \"ALDEIA IND\\u00cdGENA GRANDE COROA VERMELHA\", \"ALDEIA IND\\u00cdGENA MATA MEDONHA\", \"ALDEIA IND\\u00cdGENA VARGEM ALEGRE\", \"ALDEIA IND\\u00cdGENA XUCURU-KARIRI\", \"ALDEIA MUA' MIMATXI - FAZENDA MODELO\", \"ALDEIA IND\\u00cdGENA CAP\\u00c3O DO ZEZINHO\", \"IRAJ\\u00c1\", \"ALDEIA IND\\u00cdGENA DE CAIEIRA VELHA\", \"ALDEIA IND\\u00cdGENA GUARANI-BRACU\\u00cd\", \"ALDEIA IND\\u00cdGENA ARAPONGA\", \"ITATI DE PARATI MIRIM\", \"ALDEIA GUARANI DO RIBEIR\\u00c3O SILVERIO\", \"ALDEIA IND\\u00cdGENA ITAPU\\u00c1\", \"ALDEIA IND\\u00cdGENA GUAVIRA\", \"ALDEIA IND\\u00cdGENA PARA\\u00cdSO\", \"ALDEIA IND\\u00cdGENA URUI-TY\", \"ALDEIA IND\\u00cdGENA AMBAA-PORA\", \"ALDEIA IND\\u00cdGENA D'JAICOA-TY\", \"ALDEIA GUARANI DO AGUAPE\\u00da\", \"ALDEIA IND\\u00cdGENA GUARANI DO AGUAPE\\u00da I\", \"ALDEIA IND\\u00cdGENA PINDOTY\", \"ALDEIA INDIGENA PIA\\u00c7AGUERA\", \"ALDEIA IND\\u00cdGENA GUARANI DO S\\u00c3O SILVERIO\", \"SEDE DA ALDEIA IND\\u00cdGENA IVA\\u00cd\", \"ALDEIA IND\\u00cdGENA TI TARUM\\u00c3\", \"ALDEIA IND\\u00cdGENA TI PINDOTY\", \"ALDEIA IND\\u00cdGENA CONQUISTA\", \"ALDEIA IND\\u00cdGENA MBIGUA\\u00c7U\", \"IBIRAMA-LA KL\\u00c3NO\", \"ALDEIA IND\\u00cdGENA PAIOL DE BARRO\", \"ALDEIA IND\\u00cdGENA CAIGANG II\", \"ALDEIA IND\\u00cdGENA CAIGANG I\", \"ALDEIA IND\\u00cdGENA TI MORRO DOS CAVALOS\", \"ALDEIA IND\\u00cdGENA TI MASSIAMBU\", \"ALDEIA IND\\u00cdGENA TI MORRO ALTO\", \"ALDEIA IND\\u00cdGENA CARRETEIRO\", \"TOLDO VOTOURO\", \"ALDEIA IND\\u00cdGENA LIGEIRO\", \"ALDEIA IND\\u00cdGENA LINHA GL\\u00d3RIA ESTRELA\", \"ALDEIA IND\\u00cdGENA KAINGANG DE IRA\\u00cd\", \"ALDEIA IND\\u00cdGENA FOXA DE LAJEADO\", \"ALDEIA IND\\u00cdGENA DE PINHALZINHO\", \"ALDEIA IND\\u00cdGENA VILA ALEGRE\", \"POSTO IND\\u00cdGENA DE NONOAI\", \"ALDEIA IND\\u00cdGENA KAINGANG DO BAIRRO PR\\u00d3-MORAR\", \"ALDEIA IND\\u00cdGENA KAINGANG DA VILA CRUZEIRO 1\", \"ALDEIA IND\\u00cdGENA KAINGANG DA VILA CRUZEIRO 2\", \"ALDEIA IND\\u00cdGENA KAINGANG DE PINHALZINHO 1\", \"ALDEIA IND\\u00cdGENA KAINGANG E GUARANI DE PINHALZINHO 2\", \"ALDEIA IND\\u00cdGENA KAINGANG DA VILA CONCEI\\u00c7\\u00c3O\", \"ALDEIA IND\\u00cdGENA GUARANI DO PASSO FEIO\", \"ALDEIA IND\\u00cdGENA GUARANI DA SANGA DO LEONARDO\", \"SALTO GRANDE DO JACU\\u00cd\", \"ALDEIA IND\\u00cdGENA INHACOR\\u00c1\", \"ALDEIA IND\\u00cdGENA MAJA GUARANI\", \"RIO DOS \\u00cdNDIOS\", \"ALDEIA IND\\u00cdGENA TI ALDEINHA\", \"ALDEIA IND\\u00cdGENA CAMPESTRE\", \"IMBIRU\\u00c7U\", \"LAGOINHA\", \"MORRINHO\", \"\\u00c1GUA BRANCA\", \"BANANAL\", \"ALDEIA IND\\u00cdGENA GUIRA-ROKA\", \"ALDEIA IND\\u00cdGENA \\u00c1GUA BONITA\", \"ALDEIA IND\\u00cdGENA PROFESSOR DARCY RIBEIRO\", \"ALDEIA IND\\u00cdGENA IN\\u00c1POLIS\", \"ALDEIA IND\\u00cdGENA MAR\\u00c7AL DE SOUZA\", \"ALDEIA IND\\u00cdGENA PORTO CAMBIRA\", \"ALDEIA IND\\u00cdGENA YVY-KATU\", \"ALDEIA IND\\u00cdGENA YVY-KATU 2\", \"ALDEIA IND\\u00cdGENA B\\u00c1LSAMO\", \"ALDEIA IND\\u00cdGENA TAQUARA\", \"ALDEIA IND\\u00cdGENA SERROY\", \"ALDEIA IND\\u00cdGENA CACHOEIRINHA\", \"ALDEIA IND\\u00cdGENA ARGOLA\", \"ALDEIA IND\\u00cdGENA M\\u00c3E TERRA\", \"ALDEIA IND\\u00cdGENA TACUAPIRI\", \"ALDEIA IND\\u00cdGENA ARROIO CORA\", \"ALDEIA IND\\u00cdGENA LIMA CAMPO\", \"ALDEIA IND\\u00cdGENA KOKWEI\", \"ALDEIA IND\\u00cdGENA SOMBRERITO\", \"ALDEIA IND\\u00cdGENA C\\u00d3RREGO DO MEIO\", \"ALDEIA IND\\u00cdGENA TRIP\\u00c1\", \"ALDEIA IND\\u00cdGENA PORER\\u00c9\", \"ALDEIA IND\\u00cdGENA BABA\\u00c7U\", \"ALDEIA IND\\u00cdGENA KAYABI\", \"ALDEIA IND\\u00cdGENA AMI SUT\", \"ALDEIA IND\\u00cdGENA DO PIO\", \"ALDEIA IND\\u00cdGENA DO VOV\\u00d4\", \"ALDEIA IND\\u00cdGENA SABA\", \"ALDEIA IND\\u00cdGENA NESEK\", \"ALDEIA IND\\u00cdGENA DO CAPIT\\u00c3O\", \"ALDEIA IND\\u00cdGENA DO ROBERTO\", \"ALDEIA IND\\u00cdGENA DOMAKI\", \"ALDEIA IND\\u00cdGENA MAZEK\", \"ALDEIA IND\\u00cdGENA DA CACHOEIRA\", \"ALDEIA IND\\u00cdGENA PARAKIDA\", \"ALDEIA IND\\u00cdGENA DO ANTONIO\", \"ALDEIA IND\\u00cdGENA CAPIT\\u00c3O CARDOSO\", \"ALDEIA IND\\u00cdGENA UMUTINAS\", \"ALDEIA IND\\u00cdGENA S\\u00c3O MARCOS\", \"ALDEIA IND\\u00cdGENA CRAVARI\", \"ALDEIA IND\\u00cdGENA PARED\\u00c3O\", \"MENKU\", \"CH\\u00c3O PRETO\", \"SANTA HELENA\", \"BOA VIDA\", \"CAMPINA\", \"JERUSAL\\u00c9M\", \"ALDEINHA\", \"PARA\\u00cdSO\", \"\\u00c1GUA LIMPA\", \"ALDEIONA\", \"BAIX\\u00c3O\", \"MATO GROSSO\", \"BURITIZAL\", \"BRASIL\", \"ENTE PORE\", \"PEDRA PRETA\", \"SANTO DO C\\u00c9U\", \"SANTA LUZIA\", \"SANTO ANDR\\u00c9\", \"S\\u00c3O JORGE\", \"PARABURURE\", \"S\\u00c3O JO\\u00c3O BATISTA\", \"PALMEIRAS\", \"SANTA MARIA\", \"LAGOA\", \"NOSSA SENHORA APARECIDA\", \"S\\u00c3O JOS\\u00c9\", \"SANTA CLARA\", \"FELIPE\", \"ESP\\u00cdRITO SANTO\", \"S\\u00c3O DOMINGOS S\\u00c1VIO\", \"NOVO BARREIRO\", \"EGITO\", \"SANTA CRUZ\", \"BETEL\", \"SUCURI\", \"ALTO DA VIT\\u00d3RIA\", \"C\\u00d3RREGO DA MATA\", \"JAC\\u00da\", \"ESTRELA\", \"PIZZATO\", \"S\\u00c3O PEDRO\", \"S\\u00c3O PAULO\", \"SERINGAL\", \"SALTO DA MULHER\", \"BACAVAL\", \"SACRE II\", \"DESTILARIA ALCOMAT\", \"ALDEIA IND\\u00cdGENA CA\\u00c7ULA\", \"ALDEIA IND\\u00cdGENA \\u00c1GUA-BRANCA\", \"ALDEIA IND\\u00cdGENA TANGURO\", \"ALDEIA IND\\u00cdGENA ARARA BEIRAD\\u00c3O\", \"ALDEIA IND\\u00cdGENA CAMARARE\", \"ALDEIA IND\\u00cdGENA BARRAC\\u00c3O QUEIMADO\", \"ALDEIA IND\\u00cdGENA MACACO PRETO\", \"ALDEIA IND\\u00cdGENA BARRO VERMELHO\", \"ALDEIA IND\\u00cdGENA DO MILTON\", \"ALDEIA IND\\u00cdGENA SAPEZAL\", \"ALDEIA IND\\u00cdGENA PORTO\", \"ALDEIA IND\\u00cdGENA BARRO BRANCO\", \"ALDEIA IND\\u00cdGENA BRANCA\", \"ALDEIA IND\\u00cdGENA JU\\u00cdNA\", \"ALDEIA IND\\u00cdGENA MANAIRISU\", \"ALDEIA IND\\u00cdGENA S\\u00c3O JO\\u00c3O\", \"ALDEIA IND\\u00cdGENA AROEIRA\", \"ALDEIA IND\\u00cdGENA ESPIRRO\", \"ALDEIA IND\\u00cdGENA CAMPOS NOVOS\", \"ALDEIA IND\\u00cdGENA ALAKTESU\", \"ALDEIA IND\\u00cdGENA HAHAINTESU\", \"ALDEIA IND\\u00cdGENA NEGAROTE\", \"ALDEIA IND\\u00cdGENA MAMAINDE\", \"ALDEIA IND\\u00cdGENA WAIKSU\", \"ALDEIA IND\\u00cdGENA NHAMBIQUARA\", \"ESTA\\u00c7\\u00c3O PARECIS\", \"ALDEIA IND\\u00cdGENA KUPEKANI KAYABI\", \"ALDEIA IND\\u00cdGENA CHIQUITO KAYABI\", \"ALDEIA IND\\u00cdGENA PREPORI KAYABI\", \"ALDEIA IND\\u00cdGENA TXIC\\u00c3O\", \"ALDEIA IND\\u00cdGENA PATO MAGRO TRUMAY\", \"ALDEIA IND\\u00cdGENA ESPERAN\\u00c7A\", \"ALDEIA IND\\u00cdGENA AWETI\", \"ALDEIA IND\\u00cdGENA WAURA\", \"ALDEIA IND\\u00cdGENA CAMAIURA\", \"POSTO IND\\u00cdGENA LEONARDO VILAS BOAS\", \"ALDEIA IND\\u00cdGENA YUALAPITTI\", \"ALDEIA IND\\u00cdGENA MEHINAKU\", \"ALDEIA IND\\u00cdGENA KUIKURU\", \"ALDEIA IND\\u00cdGENA GAR\\u00c7AS\", \"ALDEIA IND\\u00cdGENA MERURI\", \"ALDEIA IND\\u00cdGENA SANGRADOURO\", \"ALDEIA IND\\u00cdGENA APIA\\u00c7A\", \"ALDEIA IND\\u00cdGENA CAIABI\", \"ALDEIA IND\\u00cdGENA ALBANO\", \"ALDEIA IND\\u00cdGENA JAPU\\u00cdRA\", \"ALDEIA IND\\u00cdGENA ALQUINA\", \"ALDEIA IND\\u00cdGENA CINTA LARGA\", \"ALDEIA IND\\u00cdGENA JURUNA I\", \"ALDEIA IND\\u00cdGENA JURUNA II\", \"ALDEIA IND\\u00cdGENA SUIA I\", \"ALDEIA IND\\u00cdGENA SUIA II\", \"ALDEIA IND\\u00cdGENA SANTANA\", \"TRITOPA\", \"PONTAL\", \"CACHOEIRA\", \"MUTUM\", \"DOIS CALHOS\", \"BURITI\", \"BABA\\u00c7U\", \"ALDEIA IND\\u00cdGENA ARE\\u00d5ES II\", \"ALDEIA IND\\u00cdGENA ARE\\u00d5ES I\", \"ALDEIA IND\\u00cdGENA BOA ESPERAN\\u00c7A\", \"ALDEIA IND\\u00cdGENA PEDRA BRANCA\", \"ALDEIA IND\\u00cdGENA PEDZIBA\", \"ALDEIA IND\\u00cdGENA MAEREI\\u00c1\", \"ALDEIA IND\\u00cdGENA PIQUI\", \"ALDEIA IND\\u00cdGENA CRISTALINA\", \"ALDEIA IND\\u00cdGENA SANTANA\", \"ALDEIA IND\\u00cdGENA SANTA TEREZINHA\", \"ALDEIA IND\\u00cdGENA LAGOA GRANDE\", \"ALDEIA IND\\u00cdGENA UBAIRER\\u00c9\", \"ALDEIA IND\\u00cdGENA ALANTESU\", \"ALDEIA IND\\u00cdGENA WASUSU\", \"ALDEIA IND\\u00cdGENA VOLTA GRANDE\", \"ALDEIA IND\\u00cdGENA CABECEIRA DO AZUL\", \"ALDEIA IND\\u00cdGENA SIM\\u00d5ES LOPES\", \"ALDEIA IND\\u00cdGENA PACHOLA\", \"ALDEIA IND\\u00cdGENA KAYARAVALE\", \"ALDEIA IND\\u00cdGENA RETIRO\", \"ALDEIA IND\\u00cdGENA JARINA\", \"ALDEIA IND\\u00cdGENA PIUM\", \"ALDEIA IND\\u00cdGENA KREN-AKORE\", \"ALDEIA IND\\u00cdGENA SAWAPA\", \"ALDEIA IND\\u00cdGENA SANGRADOURO\", \"ALDEIA DOM BOSCO\", \"ALDEIA IND\\u00cdGENA NAFURUA\", \"ALDEIA IND\\u00cdGENA PIAUI-CAIABI\", \"ALDEIA IND\\u00cdGENA MACIA-CAIABI\", \"ALDEIA IND\\u00cdGENA TUIM-CAIABI\", \"ALDEIA IND\\u00cdGENA MANOEL\", \"ALDEIA IND\\u00cdGENA SUIA NOVO\", \"ALDEIA IND\\u00cdGENA TANGURO\", \"ALDEIA IND\\u00cdGENA PIMENTEL BARBOSA\", \"ALDEIA IND\\u00cdGENA ZORO I\", \"ALDEIA IND\\u00cdGENA ZORO II\", \"ALDEIA IND\\u00cdGENA POBORERAIDEU\", \"ALDEIA IND\\u00cdGENA POBORE\", \"ALDEIA IND\\u00cdGENA TEREZA CRISTINA\", \"ALDEIA IND\\u00cdGENA SUIA\", \"ALDEIA IND\\u00cdGENA CAPIXARA\", \"ALDEIA IND\\u00cdGENA KUNI-CAIABI\", \"ALDEIA IND\\u00cdGENA PATE-CAIABI\", \"ALDEIA IND\\u00cdGENA BURAC\\u00c3O\", \"ALDEIA IND\\u00cdGENA NHAMBIQUARA\", \"ALDEIA IND\\u00cdGENA ILHOCE\", \"ALDEIA IND\\u00cdGENA CABECEIRA DO PAPAGAIO\", \"ALDEIA IND\\u00cdGENA CABECEIRA DO OSSO\", \"ALDEIA IND\\u00cdGENA SACRE I\", \"ALDEIA IND\\u00cdGENA \\u00c1FRICA\", \"ALDEIA IND\\u00cdGENA KOTITICO\", \"ALDEIA IND\\u00cdGENA RIO VERDE\", \"ALDEIA IND\\u00cdGENA QUEIMADA\", \"ALDEIA IND\\u00cdGENA FORMOSO\", \"ALDEIA INDIGENA ESTIVADINHO\", \"ALDEIA INDIGENA TATU BOLA\", \"ALDEIA INDIGENA BATIZAR\", \"ALDEIA INDIGENA AGUA SUGAR\", \"ALDEIA INDIGENA PAPAGAIO I\", \"ALDEIA INDIGENA 2 CACHOEIRAS\", \"ALDEIA INDIGENA BURITI\", \"ALDEIA INDIGENA NOVA ESPERAN\\u00c7A\", \"ALDEIA INDIGENA CABECEIRA DO BURITI\", \"ALDEIA IND\\u00cdGENA TI KARAJ\\u00c1 DE ARUAN\\u00c3 I\", \"ALDEIA IND\\u00cdGENA TI KARAJ\\u00c1 DE ARUAN\\u00c3 III\", \"ALDEIA IND\\u00cdGENA TI AV\\u00c1-CANOEIRO\", \"ALDEIA IND\\u00cdGENA TI AV\\u00c1-CANOEIRO\"], \"type\": \"scattermapbox\"}],                        {\"coloraxis\": {\"colorbar\": {\"title\": {\"text\": \"Altitude\"}, \"x\": 1, \"xanchor\": \"right\"}, \"colorscale\": [[0.0, \"#0d0887\"], [0.1111111111111111, \"#46039f\"], [0.2222222222222222, \"#7201a8\"], [0.3333333333333333, \"#9c179e\"], [0.4444444444444444, \"#bd3786\"], [0.5555555555555556, \"#d8576b\"], [0.6666666666666666, \"#ed7953\"], [0.7777777777777778, \"#fb9f3a\"], [0.8888888888888888, \"#fdca26\"], [1.0, \"#f0f921\"]]}, \"legend\": {\"tracegroupgap\": 0}, \"mapbox\": {\"center\": {\"lat\": -7.186862806949553, \"lon\": -55.753215742576714}, \"domain\": {\"x\": [0.0, 1.0], \"y\": [0.0, 1.0]}, \"style\": \"carto-positron\", \"zoom\": 2.8}, \"margin\": {\"b\": 0, \"l\": 0, \"r\": 0, \"t\": 0}, \"template\": {\"data\": {\"bar\": [{\"error_x\": {\"color\": \"#2a3f5f\"}, \"error_y\": {\"color\": \"#2a3f5f\"}, \"marker\": {\"line\": {\"color\": \"#E5ECF6\", \"width\": 0.5}}, \"type\": \"bar\"}], \"barpolar\": [{\"marker\": {\"line\": {\"color\": \"#E5ECF6\", \"width\": 0.5}}, \"type\": \"barpolar\"}], \"carpet\": [{\"aaxis\": {\"endlinecolor\": \"#2a3f5f\", \"gridcolor\": \"white\", \"linecolor\": \"white\", \"minorgridcolor\": \"white\", \"startlinecolor\": \"#2a3f5f\"}, \"baxis\": {\"endlinecolor\": \"#2a3f5f\", \"gridcolor\": \"white\", \"linecolor\": \"white\", \"minorgridcolor\": \"white\", \"startlinecolor\": \"#2a3f5f\"}, \"type\": \"carpet\"}], \"choropleth\": [{\"colorbar\": {\"outlinewidth\": 0, \"ticks\": \"\"}, \"type\": \"choropleth\"}], \"contour\": [{\"colorbar\": {\"outlinewidth\": 0, \"ticks\": \"\"}, \"colorscale\": [[0.0, \"#0d0887\"], [0.1111111111111111, \"#46039f\"], [0.2222222222222222, \"#7201a8\"], [0.3333333333333333, \"#9c179e\"], [0.4444444444444444, \"#bd3786\"], [0.5555555555555556, \"#d8576b\"], [0.6666666666666666, \"#ed7953\"], [0.7777777777777778, \"#fb9f3a\"], [0.8888888888888888, \"#fdca26\"], [1.0, \"#f0f921\"]], \"type\": \"contour\"}], \"contourcarpet\": [{\"colorbar\": {\"outlinewidth\": 0, \"ticks\": \"\"}, \"type\": \"contourcarpet\"}], \"heatmap\": [{\"colorbar\": {\"outlinewidth\": 0, \"ticks\": \"\"}, \"colorscale\": [[0.0, \"#0d0887\"], [0.1111111111111111, \"#46039f\"], [0.2222222222222222, \"#7201a8\"], [0.3333333333333333, \"#9c179e\"], [0.4444444444444444, \"#bd3786\"], [0.5555555555555556, \"#d8576b\"], [0.6666666666666666, \"#ed7953\"], [0.7777777777777778, \"#fb9f3a\"], [0.8888888888888888, \"#fdca26\"], [1.0, \"#f0f921\"]], \"type\": \"heatmap\"}], \"heatmapgl\": [{\"colorbar\": {\"outlinewidth\": 0, \"ticks\": \"\"}, \"colorscale\": [[0.0, \"#0d0887\"], [0.1111111111111111, \"#46039f\"], [0.2222222222222222, \"#7201a8\"], [0.3333333333333333, \"#9c179e\"], [0.4444444444444444, \"#bd3786\"], [0.5555555555555556, \"#d8576b\"], [0.6666666666666666, \"#ed7953\"], [0.7777777777777778, \"#fb9f3a\"], [0.8888888888888888, \"#fdca26\"], [1.0, \"#f0f921\"]], \"type\": \"heatmapgl\"}], \"histogram\": [{\"marker\": {\"colorbar\": {\"outlinewidth\": 0, \"ticks\": \"\"}}, \"type\": \"histogram\"}], \"histogram2d\": [{\"colorbar\": {\"outlinewidth\": 0, \"ticks\": \"\"}, \"colorscale\": [[0.0, \"#0d0887\"], [0.1111111111111111, \"#46039f\"], [0.2222222222222222, \"#7201a8\"], [0.3333333333333333, \"#9c179e\"], [0.4444444444444444, \"#bd3786\"], [0.5555555555555556, \"#d8576b\"], [0.6666666666666666, \"#ed7953\"], [0.7777777777777778, \"#fb9f3a\"], [0.8888888888888888, \"#fdca26\"], [1.0, \"#f0f921\"]], \"type\": \"histogram2d\"}], \"histogram2dcontour\": [{\"colorbar\": {\"outlinewidth\": 0, \"ticks\": \"\"}, \"colorscale\": [[0.0, \"#0d0887\"], [0.1111111111111111, \"#46039f\"], [0.2222222222222222, \"#7201a8\"], [0.3333333333333333, \"#9c179e\"], [0.4444444444444444, \"#bd3786\"], [0.5555555555555556, \"#d8576b\"], [0.6666666666666666, \"#ed7953\"], [0.7777777777777778, \"#fb9f3a\"], [0.8888888888888888, \"#fdca26\"], [1.0, \"#f0f921\"]], \"type\": \"histogram2dcontour\"}], \"mesh3d\": [{\"colorbar\": {\"outlinewidth\": 0, \"ticks\": \"\"}, \"type\": \"mesh3d\"}], \"parcoords\": [{\"line\": {\"colorbar\": {\"outlinewidth\": 0, \"ticks\": \"\"}}, \"type\": \"parcoords\"}], \"pie\": [{\"automargin\": true, \"type\": \"pie\"}], \"scatter\": [{\"marker\": {\"colorbar\": {\"outlinewidth\": 0, \"ticks\": \"\"}}, \"type\": \"scatter\"}], \"scatter3d\": [{\"line\": {\"colorbar\": {\"outlinewidth\": 0, \"ticks\": \"\"}}, \"marker\": {\"colorbar\": {\"outlinewidth\": 0, \"ticks\": \"\"}}, \"type\": \"scatter3d\"}], \"scattercarpet\": [{\"marker\": {\"colorbar\": {\"outlinewidth\": 0, \"ticks\": \"\"}}, \"type\": \"scattercarpet\"}], \"scattergeo\": [{\"marker\": {\"colorbar\": {\"outlinewidth\": 0, \"ticks\": \"\"}}, \"type\": \"scattergeo\"}], \"scattergl\": [{\"marker\": {\"colorbar\": {\"outlinewidth\": 0, \"ticks\": \"\"}}, \"type\": \"scattergl\"}], \"scattermapbox\": [{\"marker\": {\"colorbar\": {\"outlinewidth\": 0, \"ticks\": \"\"}}, \"type\": \"scattermapbox\"}], \"scatterpolar\": [{\"marker\": {\"colorbar\": {\"outlinewidth\": 0, \"ticks\": \"\"}}, \"type\": \"scatterpolar\"}], \"scatterpolargl\": [{\"marker\": {\"colorbar\": {\"outlinewidth\": 0, \"ticks\": \"\"}}, \"type\": \"scatterpolargl\"}], \"scatterternary\": [{\"marker\": {\"colorbar\": {\"outlinewidth\": 0, \"ticks\": \"\"}}, \"type\": \"scatterternary\"}], \"surface\": [{\"colorbar\": {\"outlinewidth\": 0, \"ticks\": \"\"}, \"colorscale\": [[0.0, \"#0d0887\"], [0.1111111111111111, \"#46039f\"], [0.2222222222222222, \"#7201a8\"], [0.3333333333333333, \"#9c179e\"], [0.4444444444444444, \"#bd3786\"], [0.5555555555555556, \"#d8576b\"], [0.6666666666666666, \"#ed7953\"], [0.7777777777777778, \"#fb9f3a\"], [0.8888888888888888, \"#fdca26\"], [1.0, \"#f0f921\"]], \"type\": \"surface\"}], \"table\": [{\"cells\": {\"fill\": {\"color\": \"#EBF0F8\"}, \"line\": {\"color\": \"white\"}}, \"header\": {\"fill\": {\"color\": \"#C8D4E3\"}, \"line\": {\"color\": \"white\"}}, \"type\": \"table\"}]}, \"layout\": {\"annotationdefaults\": {\"arrowcolor\": \"#2a3f5f\", \"arrowhead\": 0, \"arrowwidth\": 1}, \"coloraxis\": {\"colorbar\": {\"outlinewidth\": 0, \"ticks\": \"\"}}, \"colorscale\": {\"diverging\": [[0, \"#8e0152\"], [0.1, \"#c51b7d\"], [0.2, \"#de77ae\"], [0.3, \"#f1b6da\"], [0.4, \"#fde0ef\"], [0.5, \"#f7f7f7\"], [0.6, \"#e6f5d0\"], [0.7, \"#b8e186\"], [0.8, \"#7fbc41\"], [0.9, \"#4d9221\"], [1, \"#276419\"]], \"sequential\": [[0.0, \"#0d0887\"], [0.1111111111111111, \"#46039f\"], [0.2222222222222222, \"#7201a8\"], [0.3333333333333333, \"#9c179e\"], [0.4444444444444444, \"#bd3786\"], [0.5555555555555556, \"#d8576b\"], [0.6666666666666666, \"#ed7953\"], [0.7777777777777778, \"#fb9f3a\"], [0.8888888888888888, \"#fdca26\"], [1.0, \"#f0f921\"]], \"sequentialminus\": [[0.0, \"#0d0887\"], [0.1111111111111111, \"#46039f\"], [0.2222222222222222, \"#7201a8\"], [0.3333333333333333, \"#9c179e\"], [0.4444444444444444, \"#bd3786\"], [0.5555555555555556, \"#d8576b\"], [0.6666666666666666, \"#ed7953\"], [0.7777777777777778, \"#fb9f3a\"], [0.8888888888888888, \"#fdca26\"], [1.0, \"#f0f921\"]]}, \"colorway\": [\"#636efa\", \"#EF553B\", \"#00cc96\", \"#ab63fa\", \"#FFA15A\", \"#19d3f3\", \"#FF6692\", \"#B6E880\", \"#FF97FF\", \"#FECB52\"], \"font\": {\"color\": \"#2a3f5f\"}, \"geo\": {\"bgcolor\": \"white\", \"lakecolor\": \"white\", \"landcolor\": \"#E5ECF6\", \"showlakes\": true, \"showland\": true, \"subunitcolor\": \"white\"}, \"hoverlabel\": {\"align\": \"left\"}, \"hovermode\": \"closest\", \"mapbox\": {\"style\": \"light\"}, \"paper_bgcolor\": \"white\", \"plot_bgcolor\": \"#E5ECF6\", \"polar\": {\"angularaxis\": {\"gridcolor\": \"white\", \"linecolor\": \"white\", \"ticks\": \"\"}, \"bgcolor\": \"#E5ECF6\", \"radialaxis\": {\"gridcolor\": \"white\", \"linecolor\": \"white\", \"ticks\": \"\"}}, \"scene\": {\"xaxis\": {\"backgroundcolor\": \"#E5ECF6\", \"gridcolor\": \"white\", \"gridwidth\": 2, \"linecolor\": \"white\", \"showbackground\": true, \"ticks\": \"\", \"zerolinecolor\": \"white\"}, \"yaxis\": {\"backgroundcolor\": \"#E5ECF6\", \"gridcolor\": \"white\", \"gridwidth\": 2, \"linecolor\": \"white\", \"showbackground\": true, \"ticks\": \"\", \"zerolinecolor\": \"white\"}, \"zaxis\": {\"backgroundcolor\": \"#E5ECF6\", \"gridcolor\": \"white\", \"gridwidth\": 2, \"linecolor\": \"white\", \"showbackground\": true, \"ticks\": \"\", \"zerolinecolor\": \"white\"}}, \"shapedefaults\": {\"line\": {\"color\": \"#2a3f5f\"}}, \"ternary\": {\"aaxis\": {\"gridcolor\": \"white\", \"linecolor\": \"white\", \"ticks\": \"\"}, \"baxis\": {\"gridcolor\": \"white\", \"linecolor\": \"white\", \"ticks\": \"\"}, \"bgcolor\": \"#E5ECF6\", \"caxis\": {\"gridcolor\": \"white\", \"linecolor\": \"white\", \"ticks\": \"\"}}, \"title\": {\"x\": 0.05}, \"xaxis\": {\"automargin\": true, \"gridcolor\": \"white\", \"linecolor\": \"white\", \"ticks\": \"\", \"title\": {\"standoff\": 15}, \"zerolinecolor\": \"white\", \"zerolinewidth\": 2}, \"yaxis\": {\"automargin\": true, \"gridcolor\": \"white\", \"linecolor\": \"white\", \"ticks\": \"\", \"title\": {\"standoff\": 15}, \"zerolinecolor\": \"white\", \"zerolinewidth\": 2}}}},                        {\"responsive\": true}                    ).then(function(){\n",
              "                            \n",
              "var gd = document.getElementById('43b51ed9-352b-46f1-9e14-516e0aa5cde1');\n",
              "var x = new MutationObserver(function (mutations, observer) {{\n",
              "        var display = window.getComputedStyle(gd).display;\n",
              "        if (!display || display === 'none') {{\n",
              "            console.log([gd, 'removed!']);\n",
              "            Plotly.purge(gd);\n",
              "            observer.disconnect();\n",
              "        }}\n",
              "}});\n",
              "\n",
              "// Listen for the removal of the full notebook cells\n",
              "var notebookContainer = gd.closest('#notebook-container');\n",
              "if (notebookContainer) {{\n",
              "    x.observe(notebookContainer, {childList: true});\n",
              "}}\n",
              "\n",
              "// Listen for the clearing of the current output cell\n",
              "var outputEl = gd.closest('.output');\n",
              "if (outputEl) {{\n",
              "    x.observe(outputEl, {childList: true});\n",
              "}}\n",
              "\n",
              "                        })                };                            </script>        </div>\n",
              "</body>\n",
              "</html>"
            ]
          },
          "metadata": {
            "tags": []
          }
        }
      ]
    },
    {
      "cell_type": "markdown",
      "metadata": {
        "id": "VXBtx3DbisF7"
      },
      "source": [
        "O segundo, é um gráfico de barras que mostra a quantidade de aldeias por estado. Então, vamos criar um novo DataFrame a partir da soma do agrupamento das ocorrências por estado, sigla, região e sigla da região."
      ]
    },
    {
      "cell_type": "code",
      "metadata": {
        "id": "2pnY5VInjRXq"
      },
      "source": [
        "# Inicialização de DataFrame secundário\n",
        "count_df = df[['UF', 'UF_SIGLA', 'NM_REGIAO', 'REGIAO_SIGLA', 'ID']].groupby(['UF', 'UF_SIGLA', 'NM_REGIAO', 'REGIAO_SIGLA']).count().reset_index(level=['UF', 'UF_SIGLA', 'NM_REGIAO', 'REGIAO_SIGLA'])\n",
        "count_df.rename(columns={'ID': 'ALDEIAS'}, inplace=True)"
      ],
      "execution_count": 30,
      "outputs": []
    },
    {
      "cell_type": "markdown",
      "metadata": {
        "id": "Q_aqimq0kGNY"
      },
      "source": [
        "Para renderizar o gráfico, usaremos o módulo **plotly graph objects**."
      ]
    },
    {
      "cell_type": "code",
      "metadata": {
        "colab": {
          "base_uri": "https://localhost:8080/",
          "height": 542
        },
        "id": "h7WtQr25kFWX",
        "outputId": "118ca864-ce53-4597-8a1d-fa839de251d7"
      },
      "source": [
        "fig_bar = go.Figure(data=[go.Bar(\n",
        "                x=count_df['UF_SIGLA'],\n",
        "                y=count_df['ALDEIAS'],\n",
        "                text=count_df['ALDEIAS'],\n",
        "                textposition='auto')])\n",
        "\n",
        "fig_bar.update_layout(showlegend=False,\n",
        "                    margin={'r':0,'t':0,'l':0,'b':0},\n",
        "                    yaxis={'visible': False, 'showticklabels': False})"
      ],
      "execution_count": 31,
      "outputs": [
        {
          "output_type": "display_data",
          "data": {
            "text/html": [
              "<html>\n",
              "<head><meta charset=\"utf-8\" /></head>\n",
              "<body>\n",
              "    <div>            <script src=\"https://cdnjs.cloudflare.com/ajax/libs/mathjax/2.7.5/MathJax.js?config=TeX-AMS-MML_SVG\"></script><script type=\"text/javascript\">if (window.MathJax) {MathJax.Hub.Config({SVG: {font: \"STIX-Web\"}});}</script>                <script type=\"text/javascript\">window.PlotlyConfig = {MathJaxConfig: 'local'};</script>\n",
              "        <script src=\"https://cdn.plot.ly/plotly-latest.min.js\"></script>                <div id=\"c22a5567-099e-4487-b72d-5146faaec065\" class=\"plotly-graph-div\" style=\"height:525px; width:100%;\"></div>            <script type=\"text/javascript\">                                    window.PLOTLYENV=window.PLOTLYENV || {};                                    if (document.getElementById(\"c22a5567-099e-4487-b72d-5146faaec065\")) {                    Plotly.newPlot(                        \"c22a5567-099e-4487-b72d-5146faaec065\",                        [{\"text\": [5.0, 5.0, 18.0, 496.0, 31.0, 3.0, 2.0, 4.0, 105.0, 192.0, 27.0, 3.0, 1.0, 18.0, 34.0, 128.0, 21.0, 3.0, 9.0, 110.0, 11.0, 1.0, 12.0, 79.0], \"textposition\": \"auto\", \"type\": \"bar\", \"x\": [\"AC\", \"AL\", \"AP\", \"AM\", \"BA\", \"CE\", \"ES\", \"GO\", \"MA\", \"MT\", \"MS\", \"MG\", \"PR\", \"PB\", \"PA\", \"PE\", \"RS\", \"RJ\", \"RO\", \"RR\", \"SC\", \"SE\", \"SP\", \"TO\"], \"y\": [5, 5, 18, 496, 31, 3, 2, 4, 105, 192, 27, 3, 1, 18, 34, 128, 21, 3, 9, 110, 11, 1, 12, 79]}],                        {\"margin\": {\"b\": 0, \"l\": 0, \"r\": 0, \"t\": 0}, \"showlegend\": false, \"template\": {\"data\": {\"bar\": [{\"error_x\": {\"color\": \"#2a3f5f\"}, \"error_y\": {\"color\": \"#2a3f5f\"}, \"marker\": {\"line\": {\"color\": \"#E5ECF6\", \"width\": 0.5}}, \"type\": \"bar\"}], \"barpolar\": [{\"marker\": {\"line\": {\"color\": \"#E5ECF6\", \"width\": 0.5}}, \"type\": \"barpolar\"}], \"carpet\": [{\"aaxis\": {\"endlinecolor\": \"#2a3f5f\", \"gridcolor\": \"white\", \"linecolor\": \"white\", \"minorgridcolor\": \"white\", \"startlinecolor\": \"#2a3f5f\"}, \"baxis\": {\"endlinecolor\": \"#2a3f5f\", \"gridcolor\": \"white\", \"linecolor\": \"white\", \"minorgridcolor\": \"white\", \"startlinecolor\": \"#2a3f5f\"}, \"type\": \"carpet\"}], \"choropleth\": [{\"colorbar\": {\"outlinewidth\": 0, \"ticks\": \"\"}, \"type\": \"choropleth\"}], \"contour\": [{\"colorbar\": {\"outlinewidth\": 0, \"ticks\": \"\"}, \"colorscale\": [[0.0, \"#0d0887\"], [0.1111111111111111, \"#46039f\"], [0.2222222222222222, \"#7201a8\"], [0.3333333333333333, \"#9c179e\"], [0.4444444444444444, \"#bd3786\"], [0.5555555555555556, \"#d8576b\"], [0.6666666666666666, \"#ed7953\"], [0.7777777777777778, \"#fb9f3a\"], [0.8888888888888888, \"#fdca26\"], [1.0, \"#f0f921\"]], \"type\": \"contour\"}], \"contourcarpet\": [{\"colorbar\": {\"outlinewidth\": 0, \"ticks\": \"\"}, \"type\": \"contourcarpet\"}], \"heatmap\": [{\"colorbar\": {\"outlinewidth\": 0, \"ticks\": \"\"}, \"colorscale\": [[0.0, \"#0d0887\"], [0.1111111111111111, \"#46039f\"], [0.2222222222222222, \"#7201a8\"], [0.3333333333333333, \"#9c179e\"], [0.4444444444444444, \"#bd3786\"], [0.5555555555555556, \"#d8576b\"], [0.6666666666666666, \"#ed7953\"], [0.7777777777777778, \"#fb9f3a\"], [0.8888888888888888, \"#fdca26\"], [1.0, \"#f0f921\"]], \"type\": \"heatmap\"}], \"heatmapgl\": [{\"colorbar\": {\"outlinewidth\": 0, \"ticks\": \"\"}, \"colorscale\": [[0.0, \"#0d0887\"], [0.1111111111111111, \"#46039f\"], [0.2222222222222222, \"#7201a8\"], [0.3333333333333333, \"#9c179e\"], [0.4444444444444444, \"#bd3786\"], [0.5555555555555556, \"#d8576b\"], [0.6666666666666666, \"#ed7953\"], [0.7777777777777778, \"#fb9f3a\"], [0.8888888888888888, \"#fdca26\"], [1.0, \"#f0f921\"]], \"type\": \"heatmapgl\"}], \"histogram\": [{\"marker\": {\"colorbar\": {\"outlinewidth\": 0, \"ticks\": \"\"}}, \"type\": \"histogram\"}], \"histogram2d\": [{\"colorbar\": {\"outlinewidth\": 0, \"ticks\": \"\"}, \"colorscale\": [[0.0, \"#0d0887\"], [0.1111111111111111, \"#46039f\"], [0.2222222222222222, \"#7201a8\"], [0.3333333333333333, \"#9c179e\"], [0.4444444444444444, \"#bd3786\"], [0.5555555555555556, \"#d8576b\"], [0.6666666666666666, \"#ed7953\"], [0.7777777777777778, \"#fb9f3a\"], [0.8888888888888888, \"#fdca26\"], [1.0, \"#f0f921\"]], \"type\": \"histogram2d\"}], \"histogram2dcontour\": [{\"colorbar\": {\"outlinewidth\": 0, \"ticks\": \"\"}, \"colorscale\": [[0.0, \"#0d0887\"], [0.1111111111111111, \"#46039f\"], [0.2222222222222222, \"#7201a8\"], [0.3333333333333333, \"#9c179e\"], [0.4444444444444444, \"#bd3786\"], [0.5555555555555556, \"#d8576b\"], [0.6666666666666666, \"#ed7953\"], [0.7777777777777778, \"#fb9f3a\"], [0.8888888888888888, \"#fdca26\"], [1.0, \"#f0f921\"]], \"type\": \"histogram2dcontour\"}], \"mesh3d\": [{\"colorbar\": {\"outlinewidth\": 0, \"ticks\": \"\"}, \"type\": \"mesh3d\"}], \"parcoords\": [{\"line\": {\"colorbar\": {\"outlinewidth\": 0, \"ticks\": \"\"}}, \"type\": \"parcoords\"}], \"pie\": [{\"automargin\": true, \"type\": \"pie\"}], \"scatter\": [{\"marker\": {\"colorbar\": {\"outlinewidth\": 0, \"ticks\": \"\"}}, \"type\": \"scatter\"}], \"scatter3d\": [{\"line\": {\"colorbar\": {\"outlinewidth\": 0, \"ticks\": \"\"}}, \"marker\": {\"colorbar\": {\"outlinewidth\": 0, \"ticks\": \"\"}}, \"type\": \"scatter3d\"}], \"scattercarpet\": [{\"marker\": {\"colorbar\": {\"outlinewidth\": 0, \"ticks\": \"\"}}, \"type\": \"scattercarpet\"}], \"scattergeo\": [{\"marker\": {\"colorbar\": {\"outlinewidth\": 0, \"ticks\": \"\"}}, \"type\": \"scattergeo\"}], \"scattergl\": [{\"marker\": {\"colorbar\": {\"outlinewidth\": 0, \"ticks\": \"\"}}, \"type\": \"scattergl\"}], \"scattermapbox\": [{\"marker\": {\"colorbar\": {\"outlinewidth\": 0, \"ticks\": \"\"}}, \"type\": \"scattermapbox\"}], \"scatterpolar\": [{\"marker\": {\"colorbar\": {\"outlinewidth\": 0, \"ticks\": \"\"}}, \"type\": \"scatterpolar\"}], \"scatterpolargl\": [{\"marker\": {\"colorbar\": {\"outlinewidth\": 0, \"ticks\": \"\"}}, \"type\": \"scatterpolargl\"}], \"scatterternary\": [{\"marker\": {\"colorbar\": {\"outlinewidth\": 0, \"ticks\": \"\"}}, \"type\": \"scatterternary\"}], \"surface\": [{\"colorbar\": {\"outlinewidth\": 0, \"ticks\": \"\"}, \"colorscale\": [[0.0, \"#0d0887\"], [0.1111111111111111, \"#46039f\"], [0.2222222222222222, \"#7201a8\"], [0.3333333333333333, \"#9c179e\"], [0.4444444444444444, \"#bd3786\"], [0.5555555555555556, \"#d8576b\"], [0.6666666666666666, \"#ed7953\"], [0.7777777777777778, \"#fb9f3a\"], [0.8888888888888888, \"#fdca26\"], [1.0, \"#f0f921\"]], \"type\": \"surface\"}], \"table\": [{\"cells\": {\"fill\": {\"color\": \"#EBF0F8\"}, \"line\": {\"color\": \"white\"}}, \"header\": {\"fill\": {\"color\": \"#C8D4E3\"}, \"line\": {\"color\": \"white\"}}, \"type\": \"table\"}]}, \"layout\": {\"annotationdefaults\": {\"arrowcolor\": \"#2a3f5f\", \"arrowhead\": 0, \"arrowwidth\": 1}, \"coloraxis\": {\"colorbar\": {\"outlinewidth\": 0, \"ticks\": \"\"}}, \"colorscale\": {\"diverging\": [[0, \"#8e0152\"], [0.1, \"#c51b7d\"], [0.2, \"#de77ae\"], [0.3, \"#f1b6da\"], [0.4, \"#fde0ef\"], [0.5, \"#f7f7f7\"], [0.6, \"#e6f5d0\"], [0.7, \"#b8e186\"], [0.8, \"#7fbc41\"], [0.9, \"#4d9221\"], [1, \"#276419\"]], \"sequential\": [[0.0, \"#0d0887\"], [0.1111111111111111, \"#46039f\"], [0.2222222222222222, \"#7201a8\"], [0.3333333333333333, \"#9c179e\"], [0.4444444444444444, \"#bd3786\"], [0.5555555555555556, \"#d8576b\"], [0.6666666666666666, \"#ed7953\"], [0.7777777777777778, \"#fb9f3a\"], [0.8888888888888888, \"#fdca26\"], [1.0, \"#f0f921\"]], \"sequentialminus\": [[0.0, \"#0d0887\"], [0.1111111111111111, \"#46039f\"], [0.2222222222222222, \"#7201a8\"], [0.3333333333333333, \"#9c179e\"], [0.4444444444444444, \"#bd3786\"], [0.5555555555555556, \"#d8576b\"], [0.6666666666666666, \"#ed7953\"], [0.7777777777777778, \"#fb9f3a\"], [0.8888888888888888, \"#fdca26\"], [1.0, \"#f0f921\"]]}, \"colorway\": [\"#636efa\", \"#EF553B\", \"#00cc96\", \"#ab63fa\", \"#FFA15A\", \"#19d3f3\", \"#FF6692\", \"#B6E880\", \"#FF97FF\", \"#FECB52\"], \"font\": {\"color\": \"#2a3f5f\"}, \"geo\": {\"bgcolor\": \"white\", \"lakecolor\": \"white\", \"landcolor\": \"#E5ECF6\", \"showlakes\": true, \"showland\": true, \"subunitcolor\": \"white\"}, \"hoverlabel\": {\"align\": \"left\"}, \"hovermode\": \"closest\", \"mapbox\": {\"style\": \"light\"}, \"paper_bgcolor\": \"white\", \"plot_bgcolor\": \"#E5ECF6\", \"polar\": {\"angularaxis\": {\"gridcolor\": \"white\", \"linecolor\": \"white\", \"ticks\": \"\"}, \"bgcolor\": \"#E5ECF6\", \"radialaxis\": {\"gridcolor\": \"white\", \"linecolor\": \"white\", \"ticks\": \"\"}}, \"scene\": {\"xaxis\": {\"backgroundcolor\": \"#E5ECF6\", \"gridcolor\": \"white\", \"gridwidth\": 2, \"linecolor\": \"white\", \"showbackground\": true, \"ticks\": \"\", \"zerolinecolor\": \"white\"}, \"yaxis\": {\"backgroundcolor\": \"#E5ECF6\", \"gridcolor\": \"white\", \"gridwidth\": 2, \"linecolor\": \"white\", \"showbackground\": true, \"ticks\": \"\", \"zerolinecolor\": \"white\"}, \"zaxis\": {\"backgroundcolor\": \"#E5ECF6\", \"gridcolor\": \"white\", \"gridwidth\": 2, \"linecolor\": \"white\", \"showbackground\": true, \"ticks\": \"\", \"zerolinecolor\": \"white\"}}, \"shapedefaults\": {\"line\": {\"color\": \"#2a3f5f\"}}, \"ternary\": {\"aaxis\": {\"gridcolor\": \"white\", \"linecolor\": \"white\", \"ticks\": \"\"}, \"baxis\": {\"gridcolor\": \"white\", \"linecolor\": \"white\", \"ticks\": \"\"}, \"bgcolor\": \"#E5ECF6\", \"caxis\": {\"gridcolor\": \"white\", \"linecolor\": \"white\", \"ticks\": \"\"}}, \"title\": {\"x\": 0.05}, \"xaxis\": {\"automargin\": true, \"gridcolor\": \"white\", \"linecolor\": \"white\", \"ticks\": \"\", \"title\": {\"standoff\": 15}, \"zerolinecolor\": \"white\", \"zerolinewidth\": 2}, \"yaxis\": {\"automargin\": true, \"gridcolor\": \"white\", \"linecolor\": \"white\", \"ticks\": \"\", \"title\": {\"standoff\": 15}, \"zerolinecolor\": \"white\", \"zerolinewidth\": 2}}}, \"yaxis\": {\"showticklabels\": false, \"visible\": false}},                        {\"responsive\": true}                    ).then(function(){\n",
              "                            \n",
              "var gd = document.getElementById('c22a5567-099e-4487-b72d-5146faaec065');\n",
              "var x = new MutationObserver(function (mutations, observer) {{\n",
              "        var display = window.getComputedStyle(gd).display;\n",
              "        if (!display || display === 'none') {{\n",
              "            console.log([gd, 'removed!']);\n",
              "            Plotly.purge(gd);\n",
              "            observer.disconnect();\n",
              "        }}\n",
              "}});\n",
              "\n",
              "// Listen for the removal of the full notebook cells\n",
              "var notebookContainer = gd.closest('#notebook-container');\n",
              "if (notebookContainer) {{\n",
              "    x.observe(notebookContainer, {childList: true});\n",
              "}}\n",
              "\n",
              "// Listen for the clearing of the current output cell\n",
              "var outputEl = gd.closest('.output');\n",
              "if (outputEl) {{\n",
              "    x.observe(outputEl, {childList: true});\n",
              "}}\n",
              "\n",
              "                        })                };                            </script>        </div>\n",
              "</body>\n",
              "</html>"
            ]
          },
          "metadata": {
            "tags": []
          }
        }
      ]
    },
    {
      "cell_type": "markdown",
      "metadata": {
        "id": "r5GT9uMTAB3n"
      },
      "source": [
        "## Aplicativo Dash"
      ]
    },
    {
      "cell_type": "markdown",
      "metadata": {
        "id": "T6piCk2pl-Jc"
      },
      "source": [
        ">Dash apps are composed of [layout](https://dash.plotly.com/layout), it describes what the application looks like, and [interactivity](https://dash.plotly.com/basic-callbacks) of the application.\n",
        ">\n",
        ">For layout, We will use the `dash_core_components` and the `dash_html_components` library. But you can use also build your own with JavaScript and React.js.\n",
        ">\n",
        ">\n",
        ">- The layout is composed of componenets like `html.Div` and `dcc.Graph`.\n",
        "- The `dash_core_components` library has components for every HTML tag. For example: Div, H6 and Br.\n",
        "- The `dash_html_components`library describe components that are interactive. For example: Graph, Input and Slider."
      ]
    },
    {
      "cell_type": "markdown",
      "metadata": {
        "id": "auuD-RpMoK4m"
      },
      "source": [
        "### Versão inicial"
      ]
    },
    {
      "cell_type": "markdown",
      "metadata": {
        "id": "SVCMYfkvBvIy"
      },
      "source": [
        "Agora, vamos juntar o código apresentado nas prévias com a implementação de um aplicativo dash bem básico."
      ]
    },
    {
      "cell_type": "code",
      "metadata": {
        "id": "HfldMRAascGo",
        "colab": {
          "base_uri": "https://localhost:8080/"
        },
        "outputId": "514f65b7-18c2-45b6-fe95-aed39114caef"
      },
      "source": [
        "%%writefile basic_dash_app.py\n",
        "import dash\n",
        "import dash_core_components as dcc\n",
        "import dash_html_components as html\n",
        "import plotly.express as px\n",
        "import plotly.graph_objects as go\n",
        "import pandas as pd\n",
        "\n",
        "\n",
        "external_stylesheets = ['https://codepen.io/chriddyp/pen/bWLwgP.css', 'https://fonts.googleapis.com/css2?family=Quicksand&display=swap']\n",
        "\n",
        "app = dash.Dash(__name__,\n",
        "    external_stylesheets=external_stylesheets,\n",
        "    title='Aldeias Indígenas',\n",
        "    update_title=None\n",
        ")\n",
        "\n",
        "server = app.server\n",
        "\n",
        "df = pd.read_csv('data/aldeias_indigenas.csv')\n",
        "\n",
        "fig_map = px.scatter_mapbox(df, \n",
        "                            lat='LAT', \n",
        "                            lon='LONG', \n",
        "                            color='ALT',\n",
        "                            text='NM_LOCALID',\n",
        "                            hover_data=['UF', 'NM_REGIAO'],\n",
        "                            labels={'NM_LOCALID':'Nome', 'LAT':'Latitude', 'LONG':'Longitude', 'ALT':'Altitude', 'UF':'Estado', 'NM_REGIAO': 'Região'},\n",
        "                            zoom=2.8,\n",
        "                            mapbox_style='carto-positron')\n",
        "\n",
        "fig_map.update_layout(margin={'r':0,'t':0,'l':0,'b':0}, coloraxis_colorbar={'xanchor':'right', 'x':1})\n",
        "\n",
        "count_df = df[['UF', 'UF_SIGLA', 'NM_REGIAO', 'REGIAO_SIGLA', 'ID']].groupby(['UF', 'UF_SIGLA', 'NM_REGIAO', 'REGIAO_SIGLA']).count().reset_index(level=['UF', 'UF_SIGLA', 'NM_REGIAO', 'REGIAO_SIGLA'])\n",
        "count_df.rename(columns={'ID': 'ALDEIAS'}, inplace=True)\n",
        "\n",
        "fig_bar = go.Figure(data=[go.Bar(\n",
        "                x=count_df['UF_SIGLA'],\n",
        "                y=count_df['ALDEIAS'],\n",
        "                text=count_df['ALDEIAS'],\n",
        "                textposition='auto')])\n",
        "\n",
        "fig_bar.update_layout(showlegend=False,\n",
        "                    margin={'r':0,'t':0,'l':0,'b':0},\n",
        "                    yaxis={'visible': False, 'showticklabels': False})\n",
        "\n",
        "app.layout = html.Div([                \n",
        "    dcc.Graph(\n",
        "        id='map',\n",
        "        figure=fig_map\n",
        "    ),\n",
        "    dcc.Graph(\n",
        "        id='bar',\n",
        "        figure=fig_bar\n",
        "    )\n",
        "])\n",
        "\n",
        "if __name__ == '__main__':\n",
        "    app.run_server(debug=True, use_reloader=False)"
      ],
      "execution_count": 33,
      "outputs": [
        {
          "output_type": "stream",
          "text": [
            "Overwriting basic_dash_app.py\n"
          ],
          "name": "stdout"
        }
      ]
    },
    {
      "cell_type": "markdown",
      "metadata": {
        "id": "P-U3FscEASKy"
      },
      "source": [
        "\n",
        "Executando o arquivo por meio do Ngrok..."
      ]
    },
    {
      "cell_type": "code",
      "metadata": {
        "id": "f2jzUWdo8EqX",
        "colab": {
          "base_uri": "https://localhost:8080/"
        },
        "outputId": "de2c513f-f425-43a4-9199-238467ac468f"
      },
      "source": [
        "download_ngrok()"
      ],
      "execution_count": 34,
      "outputs": [
        {
          "output_type": "stream",
          "text": [
            "--2020-11-20 03:06:50--  https://bin.equinox.io/c/4VmDzA7iaHb/ngrok-stable-linux-amd64.zip\n",
            "Resolving bin.equinox.io (bin.equinox.io)... 52.0.105.155, 34.198.20.103, 54.161.19.10, ...\n",
            "Connecting to bin.equinox.io (bin.equinox.io)|52.0.105.155|:443... connected.\n",
            "HTTP request sent, awaiting response... 200 OK\n",
            "Length: 13773305 (13M) [application/octet-stream]\n",
            "Saving to: ‘ngrok-stable-linux-amd64.zip’\n",
            "\n",
            "ngrok-stable-linux- 100%[===================>]  13.13M  12.8MB/s    in 1.0s    \n",
            "\n",
            "2020-11-20 03:06:51 (12.8 MB/s) - ‘ngrok-stable-linux-amd64.zip’ saved [13773305/13773305]\n",
            "\n",
            "Archive:  ngrok-stable-linux-amd64.zip\n",
            "  inflating: ngrok                   \n"
          ],
          "name": "stdout"
        }
      ]
    },
    {
      "cell_type": "code",
      "metadata": {
        "id": "mGbLaWcSACW0",
        "colab": {
          "base_uri": "https://localhost:8080/"
        },
        "outputId": "2e690031-9acb-44bd-9b7a-899067e479e2"
      },
      "source": [
        "retorno = get_tunnel()\n",
        "print(retorno)\n",
        "!python basic_dash_app.py"
      ],
      "execution_count": 35,
      "outputs": [
        {
          "output_type": "stream",
          "text": [
            "Response(url='https://7353fba53a92.ngrok.io', error=None)\n",
            "Dash is running on http://127.0.0.1:8050/\n",
            "\n",
            " * Serving Flask app \"basic_dash_app\" (lazy loading)\n",
            " * Environment: production\n",
            "\u001b[31m   WARNING: This is a development server. Do not use it in a production deployment.\u001b[0m\n",
            "\u001b[2m   Use a production WSGI server instead.\u001b[0m\n",
            " * Debug mode: on\n",
            "^C\n"
          ],
          "name": "stdout"
        }
      ]
    },
    {
      "cell_type": "markdown",
      "metadata": {
        "id": "tPhFC7WjnwOQ"
      },
      "source": [
        "Enquanto a célula acima estiver rodando, podemos visualizar o aplicativo pela url do Ngrok."
      ]
    },
    {
      "cell_type": "markdown",
      "metadata": {
        "id": "SVaT_tenoTzG"
      },
      "source": [
        "### Interação com o Usuário e Estilização"
      ]
    },
    {
      "cell_type": "markdown",
      "metadata": {
        "id": "4YuBR0e2oqwg"
      },
      "source": [
        "O Dash possibilita interações com o usuário por meio de callback. É interessante consultar a [documentação da ferramenta](https://dash.plotly.com/basic-callbacks) para visualizar mais informações.\n",
        "\n",
        "Neste projeto, as interações se resumem a filtrar as localizações que serão mostradas no gráficos de acordo com a Unidade Federativa e Região. Os componentes gráficos Dropdown do módulo **dash_core_components** possibilitam essa escolha.\n",
        "\n",
        "A estilização do aplicativo final feita inteiramente por CSS disponibilizado na pasta *assets* deste repositório."
      ]
    },
    {
      "cell_type": "code",
      "metadata": {
        "id": "ISGYXfkNrWRJ"
      },
      "source": [
        "# Caso esteja usando o Colab, é preciso criar a pasta assets e fazer o upload dos arquivos dela (styles.css e github.svg)\n",
        "!mkdir assets"
      ],
      "execution_count": 36,
      "outputs": []
    },
    {
      "cell_type": "markdown",
      "metadata": {
        "id": "s4e5_1_psSbY"
      },
      "source": [
        "### Versão Final"
      ]
    },
    {
      "cell_type": "markdown",
      "metadata": {
        "id": "CreuYENbr0ac"
      },
      "source": [
        "O código da versão final da aplicação é definido abaixo e contém informações a respeito da fonte dos dados utilizados, os gráficos e componentes de seleção dos filtros."
      ]
    },
    {
      "cell_type": "code",
      "metadata": {
        "colab": {
          "base_uri": "https://localhost:8080/"
        },
        "id": "LBL5KiWZsKlG",
        "outputId": "2cd8b351-75f9-4e00-b40b-6fb0b95d28dd"
      },
      "source": [
        "%%writefile app.py\n",
        "import dash\n",
        "import dash_core_components as dcc\n",
        "import dash_html_components as html\n",
        "import plotly.express as px\n",
        "import plotly.graph_objects as go\n",
        "import pandas as pd\n",
        "from dash.dependencies import Input, Output\n",
        "\n",
        "# importação das folhas de estilo externas\n",
        "external_stylesheets = ['https://codepen.io/chriddyp/pen/bWLwgP.css', 'https://fonts.googleapis.com/css2?family=Quicksand&display=swap']\n",
        "\n",
        "# inicialização do objeto Dash e definição do título da página\n",
        "app = dash.Dash(__name__,\n",
        "    external_stylesheets=external_stylesheets,\n",
        "    title='Aldeias Indígenas',\n",
        "    update_title=None\n",
        ")\n",
        "\n",
        "# variável utilizada apenas no deploy\n",
        "server = app.server\n",
        "\n",
        "# criação do DataFrame a partir dos dados pre-processados\n",
        "df = pd.read_csv('data/aldeias_indigenas.csv')\n",
        "\n",
        "# regiões e estados por regiões, definidas para uso nos filtros\n",
        "regions = df.NM_REGIAO.unique()\n",
        "states_by_region = {region: df[df.NM_REGIAO == region].UF.unique() for region in regions}\n",
        "\n",
        "# definição do layout do aplicativo\n",
        "app.layout = html.Div([\n",
        "\n",
        "    # barra de navegação superior da página com link para repositório\n",
        "    html.Div([\n",
        "\n",
        "        html.H1('Aldeias Indígenas no Brasil'),\n",
        "        html.A([\n",
        "            html.Img(src=app.get_asset_url('github.svg'))\n",
        "        ], href='https://github.com/mmartiniano/brazilian-indigenous-village-location', target='_blank')\n",
        "\n",
        "    ], className='navbar'),\n",
        "\n",
        "    html.Div([\n",
        "\n",
        "        html.Div([\n",
        "\n",
        "            html.H1('Localização Geográfica das Aldeias Indígenas Brasileiras'),\n",
        "\n",
        "            html.P('Selecione as localidades para filtrar os resultados:'),\n",
        "\n",
        "            # componente de escolha de regiões\n",
        "            dcc.Dropdown(\n",
        "                id='regions',\n",
        "                options=[{'label': region, 'value': region} for region in regions],\n",
        "                placeholder='Selecione regiões',\n",
        "                multi=True,\n",
        "            ),\n",
        "\n",
        "            # componente de escolha de estados\n",
        "            dcc.Dropdown(\n",
        "                id='states',\n",
        "                placeholder='Selecione estados',\n",
        "                multi=True,\n",
        "            ),\n",
        "\n",
        "            # informações das fontes\n",
        "            html.P('''\n",
        "                    O IBGE disponibilizou dados geográficos de localidades brasileiras\n",
        "                    de acordo com pesquisa feita em 2010. Dentre os locais, foram classificados\n",
        "                    como \"ALDEIA INDÍGENA\" os pontos que possuem \"casa ou conjunto de casas ou\n",
        "                    malocas [...] que serve de habitação para o\n",
        "                    indígena e aloja diversas famílias\" e com \"no mínimo, 20 habitantes indígenas em\n",
        "                    uma ou mais moradias\".                     \n",
        "            '''),\n",
        "            html.P(['A publicação oficial do instituto pode ser acessada clicando ',\n",
        "                html.A('aqui', target='_blank', href='https://agenciadenoticias.ibge.gov.br/agencia-sala-de-imprensa/2013-agencia-de-noticias/releases/14126-asi-ibge-disponibiliza-coordenadas-e-altitudes-para-21304-localidades-brasileiras'),\n",
        "                '''. A localização geográfica em longitude, latitude e altitude das aldeias podem\n",
        "                ser visualizadas no mapa. Além disso, o gráfico de barras mostra a\n",
        "                quantidade de aldeias por região.\n",
        "                Os dados utilizados e as informações de classificação das localidades podem ser acessadas clicando\n",
        "                ''',\n",
        "                html.A('aqui', target='blank', href='ftp://geoftp.ibge.gov.br/organizacao_do_territorio/estrutura_territorial/localidades'),\n",
        "                '.'\n",
        "            ])\n",
        "\n",
        "        ], className='left'),\n",
        "\n",
        "        # gráficos\n",
        "        html.Div([\n",
        "\n",
        "            dcc.Graph(\n",
        "                id='map',\n",
        "                className='map'\n",
        "            ),\n",
        "\n",
        "            dcc.Graph(\n",
        "                id='bar',\n",
        "                className='bar'\n",
        "            )\n",
        "\n",
        "        ], className='right')\n",
        "\n",
        "    ], className='main')\n",
        "                 \n",
        "])\n",
        "\n",
        "# função chamada quando ocorre mudança no dropdown de região\n",
        "# muda as opções do dropdown de estados de acordo com a região\n",
        "@app.callback(\n",
        "    Output('states', 'options'),\n",
        "    [Input('regions', 'value')])\n",
        "def set_states_options(selected_regions):\n",
        "    if selected_regions is None or len(selected_regions) <= 0:\n",
        "        selected_regions = regions[:]\n",
        "\n",
        "    return [{'label': state, 'value': state} for region in selected_regions for state in states_by_region[region]]\n",
        "\n",
        "# função executda sempre que há mudança nos filtros\n",
        "# atualiza os gráficos de acordo com as escolhas de estado e região\n",
        "@app.callback([\n",
        "    Output('map', 'figure'),\n",
        "    Output('bar', 'figure')\n",
        "    ],[\n",
        "    Input('regions', 'value'),\n",
        "    Input('states', 'value')\n",
        "    ]\n",
        ")\n",
        "def update_graph(selected_regions, selected_states) :\n",
        "\n",
        "    if selected_regions is None or len(selected_regions) <= 0:\n",
        "        selected_regions = regions[:]\n",
        "    \n",
        "    if selected_states is None or len(selected_states) <= 0:\n",
        "        selected_states = df.UF.unique()\n",
        "\n",
        "    fig_map = px.scatter_mapbox(df[df.NM_REGIAO.isin(selected_regions) & df.UF.isin(selected_states)], \n",
        "                            lat='LAT', \n",
        "                            lon='LONG', \n",
        "                            color='ALT',\n",
        "                            text='NM_LOCALID',\n",
        "                            hover_data=['UF', 'NM_REGIAO'],\n",
        "                            labels={'NM_LOCALID':'Nome', 'LAT':'Latitude', 'LONG':'Longitude', 'ALT':'Altitude', 'UF':'Estado', 'NM_REGIAO': 'Região'},\n",
        "                            zoom=2.8,\n",
        "                            mapbox_style='carto-positron')\n",
        "\n",
        "    fig_map.update_layout(margin={'r':0,'t':0,'l':0,'b':0}, coloraxis_colorbar={'xanchor':'right', 'x':1})\n",
        "\n",
        "    count_df = df[['UF', 'UF_SIGLA', 'NM_REGIAO', 'REGIAO_SIGLA', 'ID']].groupby(['UF', 'UF_SIGLA', 'NM_REGIAO', 'REGIAO_SIGLA']).count().reset_index(level=['UF', 'UF_SIGLA', 'NM_REGIAO', 'REGIAO_SIGLA'])\n",
        "    count_df.rename(columns={'ID': 'ALDEIAS'}, inplace=True)\n",
        "\n",
        "    count_df = count_df[count_df.NM_REGIAO.isin(selected_regions) & count_df.UF.isin(selected_states)]\n",
        "\n",
        "    fig_bar = go.Figure(data=[go.Bar(\n",
        "                x=count_df['UF_SIGLA'],\n",
        "                y=count_df['ALDEIAS'],\n",
        "                text=count_df['ALDEIAS'],\n",
        "                textposition='auto')])\n",
        "\n",
        "    fig_bar.update_layout(showlegend=False,\n",
        "                    margin={'r':0,'t':0,'l':0,'b':0},\n",
        "                    yaxis={'visible': False, 'showticklabels': False})\n",
        "\n",
        "    return fig_map, fig_bar\n",
        "\n",
        "\n",
        "if __name__ == '__main__':\n",
        "    app.run_server(debug=True)"
      ],
      "execution_count": 37,
      "outputs": [
        {
          "output_type": "stream",
          "text": [
            "Writing app.py\n"
          ],
          "name": "stdout"
        }
      ]
    },
    {
      "cell_type": "markdown",
      "metadata": {
        "id": "3QXwsKPFuE9p"
      },
      "source": [
        "Caso não tenha baixado o Ngrok na execução da versão incial, execute:"
      ]
    },
    {
      "cell_type": "code",
      "metadata": {
        "id": "eWuuEnsXuLmg"
      },
      "source": [
        "download_ngrok()"
      ],
      "execution_count": null,
      "outputs": []
    },
    {
      "cell_type": "markdown",
      "metadata": {
        "id": "IqPH85MtuS7k"
      },
      "source": [
        "Enquanto a célula abaixo estiver sendo executada, a versão final do aplicativo pode ser visualizada através do Ngrok."
      ]
    },
    {
      "cell_type": "code",
      "metadata": {
        "colab": {
          "base_uri": "https://localhost:8080/"
        },
        "id": "ipscRLFouiH_",
        "outputId": "564b2414-a510-4a9a-ad2d-7efa4eaf4db3"
      },
      "source": [
        "retorno = get_tunnel()\n",
        "print(retorno)\n",
        "!python app.py"
      ],
      "execution_count": 38,
      "outputs": [
        {
          "output_type": "stream",
          "text": [
            "Response(url='https://83f0d3025ff1.ngrok.io', error=None)\n",
            "Dash is running on http://127.0.0.1:8050/\n",
            "\n",
            " * Serving Flask app \"app\" (lazy loading)\n",
            " * Environment: production\n",
            "\u001b[31m   WARNING: This is a development server. Do not use it in a production deployment.\u001b[0m\n",
            "\u001b[2m   Use a production WSGI server instead.\u001b[0m\n",
            " * Debug mode: on\n"
          ],
          "name": "stdout"
        }
      ]
    },
    {
      "cell_type": "markdown",
      "metadata": {
        "id": "2nv9qa7Cu5fX"
      },
      "source": [
        "## Autoria"
      ]
    },
    {
      "cell_type": "markdown",
      "metadata": {
        "id": "vIgGyuGIu90T"
      },
      "source": [
        "Desenvolvido por [Lucas Miguel](https://github.com/mmartiniano) a partir de material ministrado por Andressa Stéfany.\n",
        "\n",
        "Código em [repositório](https://github.com/mmartiniano/brazilian-indigenous-village-location) público disponível no Github."
      ]
    }
  ]
}